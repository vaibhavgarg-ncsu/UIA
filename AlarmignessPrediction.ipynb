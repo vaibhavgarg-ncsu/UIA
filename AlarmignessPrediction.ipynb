{
  "nbformat": 4,
  "nbformat_minor": 0,
  "metadata": {
    "accelerator": "TPU",
    "colab": {
      "name": "AlarmignessPrediction.ipynb",
      "provenance": [],
      "collapsed_sections": []
    },
    "kernelspec": {
      "display_name": "Python 3",
      "name": "python3"
    }
  },
  "cells": [
    {
      "cell_type": "code",
      "metadata": {
        "colab": {
          "base_uri": "https://localhost:8080/"
        },
        "id": "roRTaBFGQpzm",
        "outputId": "fe376293-5ab0-40f6-8c34-94c9a893098d"
      },
      "source": [
        "from google.colab import drive\n",
        "drive.mount('/content/drive')\n",
        "!ls\n",
        "!pwd\n",
        "!cd /content/drive\n",
        "print('done')"
      ],
      "execution_count": null,
      "outputs": [
        {
          "output_type": "stream",
          "text": [
            "Mounted at /content/drive\n",
            "drive  sample_data\n",
            "/content\n",
            "done\n"
          ],
          "name": "stdout"
        }
      ]
    },
    {
      "cell_type": "code",
      "metadata": {
        "colab": {
          "base_uri": "https://localhost:8080/"
        },
        "id": "X1kgsbjAQ0iW",
        "outputId": "92f46f77-20ad-4b80-d673-f7cedacd6952"
      },
      "source": [
        "cd \"/content/drive/My Drive/UIA/Snowball\""
      ],
      "execution_count": null,
      "outputs": [
        {
          "output_type": "stream",
          "text": [
            "/content/drive/My Drive/UIA/Snowball\n"
          ],
          "name": "stdout"
        }
      ]
    },
    {
      "cell_type": "code",
      "metadata": {
        "id": "s98B1orVVsUD"
      },
      "source": [
        "def test_preprocessing(df):\n",
        "    corpus=[]\n",
        "    for i in df.index:\n",
        "        # print(i)\n",
        "        temp=df.loc[i,'body']\n",
        "        temp=str(temp).lower()\n",
        "        temp=temp.translate(temp.maketrans(dict.fromkeys(string.punctuation))) ### deletes all punctuation marks\n",
        "        for word in stop_words:   \n",
        "            temp=temp.replace(\" \"+word+\" \", \" \") ### deletes all stop words\n",
        "        temp=re.sub('[^A-Za-z0-9]+', \" \",temp) ### deletes all special characters\n",
        "\n",
        "        temp=temp.replace(\"39\",\"'\") ###\n",
        "        corpus.append(temp)\n",
        "    return corpus"
      ],
      "execution_count": null,
      "outputs": []
    },
    {
      "cell_type": "code",
      "metadata": {
        "id": "ZDkBadiuV6kN"
      },
      "source": [
        "import string\n",
        "import re\n",
        "# corpus_test=test_preprocessing(reviews)\n",
        "# test_embeddings=embedding(corpus_test)"
      ],
      "execution_count": null,
      "outputs": []
    },
    {
      "cell_type": "markdown",
      "metadata": {
        "id": "CeVK5g7Ul0kN"
      },
      "source": [
        "**Prediction of All Reviews**"
      ]
    },
    {
      "cell_type": "code",
      "metadata": {
        "colab": {
          "base_uri": "https://localhost:8080/"
        },
        "id": "qsGAVImsmfDH",
        "outputId": "60224992-f6c6-4ef7-cded-c98df70a51ed"
      },
      "source": [
        "cd \"ReviewsData\""
      ],
      "execution_count": null,
      "outputs": [
        {
          "output_type": "stream",
          "text": [
            "/content/drive/My Drive/UIA/Snowball/ReviewsData\n"
          ],
          "name": "stdout"
        }
      ]
    },
    {
      "cell_type": "code",
      "metadata": {
        "colab": {
          "base_uri": "https://localhost:8080/"
        },
        "id": "Hs_5u0Gmh8jw",
        "outputId": "62204ec7-8040-46aa-f677-895607f2d6e2"
      },
      "source": [
        "ls"
      ],
      "execution_count": null,
      "outputs": [
        {
          "output_type": "stream",
          "text": [
            "CorpusLessthan10kLayer2.csv        FeaturesTillSnowball1Apps9.csv\n",
            "CorpusMorethan10kLayer2Chunk1.csv  FeaturesTillSnowball2Apps10.csv\n",
            "CorpusMorethan10kLayer2Chunk2.csv  FeaturesTillSnowball2Apps11.csv\n",
            "CorpusMorethan10kLayer2.csv        FeaturesTillSnowball2Apps12.csv\n",
            "FeaturesTillSnowball1Apps10.csv    FeaturesTillSnowball2Apps1.csv\n",
            "FeaturesTillSnowball1Apps11.csv    FeaturesTillSnowball2Apps2.csv\n",
            "FeaturesTillSnowball1Apps12.csv    FeaturesTillSnowball2Apps3.csv\n",
            "FeaturesTillSnowball1Apps13.csv    FeaturesTillSnowball2Apps4.csv\n",
            "FeaturesTillSnowball1Apps14.csv    FeaturesTillSnowball2Apps5.csv\n",
            "FeaturesTillSnowball1Apps15.csv    FeaturesTillSnowball2Apps6.csv\n",
            "FeaturesTillSnowball1Apps1.csv     FeaturesTillSnowball2Apps7.csv\n",
            "FeaturesTillSnowball1Apps2.csv     FeaturesTillSnowball2Apps8.csv\n",
            "FeaturesTillSnowball1Apps3.csv     Lessthan10kReviewsLayer2.csv\n",
            "FeaturesTillSnowball1Apps4.csv     Morethan10kReviewsLayer2.csv\n",
            "FeaturesTillSnowball1Apps5.csv     PredictedReviesTillSnowball1Apps.csv\n",
            "FeaturesTillSnowball1Apps6.csv     PredictedReviesTillSnowball2Apps.csv\n",
            "FeaturesTillSnowball1Apps8.csv\n"
          ],
          "name": "stdout"
        }
      ]
    },
    {
      "cell_type": "code",
      "metadata": {
        "id": "AyRWbP3MlztA"
      },
      "source": [
        "import pandas as pd\n",
        "\n",
        "df= pd.read_csv(\"/content/drive/My Drive/UIA/Snowball/ReviewsData/Morethan10kReviewsLayer2.csv\")"
      ],
      "execution_count": null,
      "outputs": []
    },
    {
      "cell_type": "code",
      "metadata": {
        "colab": {
          "base_uri": "https://localhost:8080/"
        },
        "id": "ai9uQU2RkiLP",
        "outputId": "477edf11-e0a1-4340-cc2a-c4b2a9d81621"
      },
      "source": [
        "\n",
        "import tensorflow as tf\n",
        "import tensorflow_hub as hub\n",
        "\n",
        "#@title Load the Universal Sentence Encoder's TF Hub module\n",
        "from absl import logging\n",
        "\n",
        "import tensorflow as tf\n",
        "\n",
        "import tensorflow_hub as hub\n",
        "import matplotlib.pyplot as plt\n",
        "import numpy as np\n",
        "import os\n",
        "import pandas as pd\n",
        "import re\n",
        "import seaborn as sns\n",
        "\n",
        "module_url = \"https://tfhub.dev/google/universal-sentence-encoder/4\" #@param [\"https://tfhub.dev/google/universal-sentence-encoder/4\", \"https://tfhub.dev/google/universal-sentence-encoder-large/5\"]\n",
        "model = hub.load(module_url)\n",
        "print (\"module %s loaded\" % module_url)\n",
        "def embedding(input):\n",
        "  return model(input)"
      ],
      "execution_count": null,
      "outputs": [
        {
          "output_type": "stream",
          "text": [
            "module https://tfhub.dev/google/universal-sentence-encoder/4 loaded\n"
          ],
          "name": "stdout"
        }
      ]
    },
    {
      "cell_type": "code",
      "metadata": {
        "colab": {
          "base_uri": "https://localhost:8080/"
        },
        "id": "rsKwsnunmHae",
        "outputId": "05378ba6-bf43-431b-bfdc-c70e41b7eabe"
      },
      "source": [
        "import nltk\n",
        "nltk.download('stopwords')\n",
        "from nltk.corpus import stopwords\n",
        "stop_words = stopwords.words('english')"
      ],
      "execution_count": null,
      "outputs": [
        {
          "output_type": "stream",
          "text": [
            "[nltk_data] Downloading package stopwords to /root/nltk_data...\n",
            "[nltk_data]   Package stopwords is already up-to-date!\n"
          ],
          "name": "stdout"
        }
      ]
    },
    {
      "cell_type": "code",
      "metadata": {
        "id": "--gbAHPqpnx1"
      },
      "source": [
        "count=0"
      ],
      "execution_count": null,
      "outputs": []
    },
    {
      "cell_type": "code",
      "metadata": {
        "id": "p17ivGNDmw38"
      },
      "source": [
        "def test_preprocessing(temp):\n",
        "\n",
        "  temp=str(temp).lower()\n",
        "  temp=temp.translate(temp.maketrans(dict.fromkeys(string.punctuation))) ### deletes all punctuation marks\n",
        "  for word in stop_words:   \n",
        "      temp=temp.replace(\" \"+word+\" \", \" \") ### deletes all stop words\n",
        "  temp=re.sub('[^A-Za-z0-9]+', \" \",temp) ### deletes all special characters\n",
        "  temp=temp.replace(\"&#39;\",\"'\") ###\n",
        "  global count\n",
        "  count+=1\n",
        "  print(count)\n",
        "  return temp"
      ],
      "execution_count": null,
      "outputs": []
    },
    {
      "cell_type": "code",
      "metadata": {
        "id": "2RxlgpTlmyDH"
      },
      "source": [
        "\n",
        "import string\n",
        "import re\n",
        "from scipy.stats.mstats import gmean"
      ],
      "execution_count": null,
      "outputs": []
    },
    {
      "cell_type": "code",
      "metadata": {
        "id": "PmUo-rXTm6Ud"
      },
      "source": [
        "import pickle\n",
        "filename = '/content/drive/My Drive/UIA/RegressionModel/USE_tuned_model.sav'\n",
        "tuned_model = pickle.load(open(filename, 'rb'))"
      ],
      "execution_count": null,
      "outputs": []
    },
    {
      "cell_type": "code",
      "metadata": {
        "id": "k_BykFp3xv1b"
      },
      "source": [
        "corpus_test=df['body'].apply(test_preprocessing)"
      ],
      "execution_count": null,
      "outputs": []
    },
    {
      "cell_type": "code",
      "metadata": {
        "id": "U8C1s85L8OuM"
      },
      "source": [
        "corpus=pd.DataFrame()\n",
        "corpus['corpus_test']=corpus_test"
      ],
      "execution_count": null,
      "outputs": []
    },
    {
      "cell_type": "code",
      "metadata": {
        "id": "_C3Kysfj8XTT"
      },
      "source": [
        "corpus.to_csv(\"CorpusMorethan10kLayer2.csv\")"
      ],
      "execution_count": null,
      "outputs": []
    },
    {
      "cell_type": "code",
      "metadata": {
        "id": "D_ds6fY78sPT"
      },
      "source": [
        "# import pandas as pd\n",
        "\n",
        "# chunksize = 100000\n",
        "# i=0\n",
        "# for chunk in pd.read_csv(\"CorpusMorethan10kLayer2.csv\", chunksize=chunksize):\n",
        "#     print(i)\n",
        "#     lst=chunk.loc[:,'corpus_test']\n",
        "#     test_embeddings=embedding(lst.tolist())\n",
        "#     TestPred=tuned_model.predict(test_embeddings)\n",
        "#     features=pd.DataFrame()\n",
        "#     an_array = test_embeddings.numpy()\n",
        "#     features=pd.concat([features,pd.DataFrame(an_array)],axis=0)\n",
        "#     features.to_csv(\"FeaturesTillSnowball2Apps\"+str(i+1)+\".csv\")\n",
        "# corpus=pd.read_csv(\"CorpusMorethan10kLayer2.csv\",index_col=0)"
      ],
      "execution_count": null,
      "outputs": []
    },
    {
      "cell_type": "code",
      "metadata": {
        "colab": {
          "base_uri": "https://localhost:8080/"
        },
        "id": "mJ6iyMmCyGAI",
        "outputId": "95f7066b-6beb-4480-d524-d5801c6cbe81"
      },
      "source": [
        "corpus= pd.read_csv(\"CorpusMorethan10kLayer2.csv\",index_col=0)"
      ],
      "execution_count": null,
      "outputs": [
        {
          "output_type": "stream",
          "text": [
            "/usr/local/lib/python3.7/dist-packages/numpy/lib/arraysetops.py:580: FutureWarning: elementwise comparison failed; returning scalar instead, but in the future will perform elementwise comparison\n",
            "  mask |= (ar1 == a)\n"
          ],
          "name": "stderr"
        }
      ]
    },
    {
      "cell_type": "code",
      "metadata": {
        "colab": {
          "base_uri": "https://localhost:8080/"
        },
        "id": "-ORD2y259hm4",
        "outputId": "44308d65-81a5-4be4-be75-8f5483e42dd0"
      },
      "source": [
        "corpus.dtypes"
      ],
      "execution_count": null,
      "outputs": [
        {
          "output_type": "execute_result",
          "data": {
            "text/plain": [
              "corpus_test    object\n",
              "dtype: object"
            ]
          },
          "metadata": {
            "tags": []
          },
          "execution_count": 15
        }
      ]
    },
    {
      "cell_type": "code",
      "metadata": {
        "id": "CY8bgRq-9jSP"
      },
      "source": [
        "corpus['corpus_test']=corpus['corpus_test'].astype(str)"
      ],
      "execution_count": null,
      "outputs": []
    },
    {
      "cell_type": "code",
      "metadata": {
        "colab": {
          "base_uri": "https://localhost:8080/"
        },
        "id": "xyBAB8mxxZ56",
        "outputId": "9321b1c8-422f-4001-b1f9-3dbe13da72d1"
      },
      "source": [
        "corpus.shape"
      ],
      "execution_count": null,
      "outputs": [
        {
          "output_type": "execute_result",
          "data": {
            "text/plain": [
              "(3403147, 1)"
            ]
          },
          "metadata": {
            "tags": []
          },
          "execution_count": 17
        }
      ]
    },
    {
      "cell_type": "code",
      "metadata": {
        "colab": {
          "base_uri": "https://localhost:8080/",
          "height": 35
        },
        "id": "EjuV-Qnty75J",
        "outputId": "61769288-64cf-44f4-c187-f5f0b5a6737f"
      },
      "source": [
        "corpus.loc[0,'corpus_test']"
      ],
      "execution_count": null,
      "outputs": [
        {
          "output_type": "execute_result",
          "data": {
            "application/vnd.google.colaboratory.intrinsic+json": {
              "type": "string"
            },
            "text/plain": [
              "' '"
            ]
          },
          "metadata": {
            "tags": []
          },
          "execution_count": 18
        }
      ]
    },
    {
      "cell_type": "code",
      "metadata": {
        "id": "KER0hIp1yuFv"
      },
      "source": [
        "# corpus.loc[corpus['corpus_test']==\" \",'corpus_test']=\"VAIBHAV\""
      ],
      "execution_count": null,
      "outputs": []
    },
    {
      "cell_type": "code",
      "metadata": {
        "id": "u5nZMiP5yM7F"
      },
      "source": [
        "x1=corpus.loc[1000001:2000000,:]\n",
        "x1.to_csv(\"CorpusMorethan10kLayer2Chunk2.csv\")"
      ],
      "execution_count": null,
      "outputs": []
    },
    {
      "cell_type": "code",
      "metadata": {
        "id": "w2woWIQ00GJF"
      },
      "source": [
        "x1=pd.read_csv(\"CorpusMorethan10kLayer2Chunk2.csv\",index_col=0)"
      ],
      "execution_count": null,
      "outputs": []
    },
    {
      "cell_type": "code",
      "metadata": {
        "id": "-mxgyNQ006Fw"
      },
      "source": [
        "# x1.loc[x1['corpus_test']==\"VAIBHAV\",\"corpus_test\"]=\"\""
      ],
      "execution_count": null,
      "outputs": []
    },
    {
      "cell_type": "code",
      "metadata": {
        "id": "Hj8IYFSG0V1Y"
      },
      "source": [
        "x1['corpus_test']=x1['corpus_test'].astype(str)"
      ],
      "execution_count": null,
      "outputs": []
    },
    {
      "cell_type": "code",
      "metadata": {
        "colab": {
          "base_uri": "https://localhost:8080/",
          "height": 195
        },
        "id": "b2699Q7uEyKT",
        "outputId": "41657747-1b11-4853-cf48-dffb21bcd73a"
      },
      "source": [
        "x1.reset_index(drop=True,inplace=True)\n",
        "x1.head()"
      ],
      "execution_count": null,
      "outputs": [
        {
          "output_type": "execute_result",
          "data": {
            "text/html": [
              "<div>\n",
              "<style scoped>\n",
              "    .dataframe tbody tr th:only-of-type {\n",
              "        vertical-align: middle;\n",
              "    }\n",
              "\n",
              "    .dataframe tbody tr th {\n",
              "        vertical-align: top;\n",
              "    }\n",
              "\n",
              "    .dataframe thead th {\n",
              "        text-align: right;\n",
              "    }\n",
              "</style>\n",
              "<table border=\"1\" class=\"dataframe\">\n",
              "  <thead>\n",
              "    <tr style=\"text-align: right;\">\n",
              "      <th></th>\n",
              "      <th>corpus_test</th>\n",
              "    </tr>\n",
              "  </thead>\n",
              "  <tbody>\n",
              "    <tr>\n",
              "      <th>0</th>\n",
              "      <td>i love game trying get achievements now</td>\n",
              "    </tr>\n",
              "    <tr>\n",
              "      <th>1</th>\n",
              "      <td>best game since created love it</td>\n",
              "    </tr>\n",
              "    <tr>\n",
              "      <th>2</th>\n",
              "      <td>love app gets ur mind thinking great idea beh...</td>\n",
              "    </tr>\n",
              "    <tr>\n",
              "      <th>3</th>\n",
              "      <td>i recommend game every one one best creative a...</td>\n",
              "    </tr>\n",
              "    <tr>\n",
              "      <th>4</th>\n",
              "      <td>swag</td>\n",
              "    </tr>\n",
              "  </tbody>\n",
              "</table>\n",
              "</div>"
            ],
            "text/plain": [
              "                                         corpus_test\n",
              "0            i love game trying get achievements now\n",
              "1                    best game since created love it\n",
              "2   love app gets ur mind thinking great idea beh...\n",
              "3  i recommend game every one one best creative a...\n",
              "4                                               swag"
            ]
          },
          "metadata": {
            "tags": []
          },
          "execution_count": 12
        }
      ]
    },
    {
      "cell_type": "code",
      "metadata": {
        "id": "rMeCIv5Z9JIX"
      },
      "source": [
        "lst=x1.loc[100001:200000,'corpus_test']"
      ],
      "execution_count": null,
      "outputs": []
    },
    {
      "cell_type": "code",
      "metadata": {
        "colab": {
          "base_uri": "https://localhost:8080/"
        },
        "id": "zCbaLYn2Z4ju",
        "outputId": "d3fb5f75-0719-4a4c-f504-8fb14cfbbdf6"
      },
      "source": [
        "lst"
      ],
      "execution_count": null,
      "outputs": [
        {
          "output_type": "execute_result",
          "data": {
            "text/plain": [
              "100001                                 ione monsternlegends\n",
              "100002                                       best game ever\n",
              "100003                                                 good\n",
              "100004        this game awesome wish easier get legendaries\n",
              "100005                                    this game amazing\n",
              "                                ...                        \n",
              "199996    i39ll start saying game fantastic probably bes...\n",
              "199997                                  three words love it\n",
              "199998    the concept good although u could make mechani...\n",
              "199999    it tends lag time time even great internet con...\n",
              "200000                                            addictive\n",
              "Name: corpus_test, Length: 100000, dtype: object"
            ]
          },
          "metadata": {
            "tags": []
          },
          "execution_count": 14
        }
      ]
    },
    {
      "cell_type": "code",
      "metadata": {
        "id": "JGnlTopmzVQV"
      },
      "source": [
        "test_embeddings=embedding(lst.tolist())"
      ],
      "execution_count": null,
      "outputs": []
    },
    {
      "cell_type": "code",
      "metadata": {
        "id": "0lc15EU919Fd"
      },
      "source": [
        "TestPred=tuned_model.predict(test_embeddings)"
      ],
      "execution_count": null,
      "outputs": []
    },
    {
      "cell_type": "code",
      "metadata": {
        "id": "U3VmChbviaTs"
      },
      "source": [
        "# features=pd.read_csv(\"FeaturesTill1300Apps.csv\",index_col=0)\n",
        "features=pd.DataFrame()"
      ],
      "execution_count": null,
      "outputs": []
    },
    {
      "cell_type": "code",
      "metadata": {
        "id": "yrS9H3YqlFfE"
      },
      "source": [
        "an_array = test_embeddings.numpy()"
      ],
      "execution_count": null,
      "outputs": []
    },
    {
      "cell_type": "code",
      "metadata": {
        "id": "PQTf3CEPusAO"
      },
      "source": [
        "an_array"
      ],
      "execution_count": null,
      "outputs": []
    },
    {
      "cell_type": "code",
      "metadata": {
        "id": "5GMSu5gmic6a"
      },
      "source": [
        "features=pd.concat([features,pd.DataFrame(an_array)],axis=0)"
      ],
      "execution_count": null,
      "outputs": []
    },
    {
      "cell_type": "code",
      "metadata": {
        "id": "H7KRhwg-iqG3"
      },
      "source": [
        "features.shape"
      ],
      "execution_count": null,
      "outputs": []
    },
    {
      "cell_type": "code",
      "metadata": {
        "id": "nEk8t7ZOz-7A"
      },
      "source": [
        "features"
      ],
      "execution_count": null,
      "outputs": []
    },
    {
      "cell_type": "code",
      "metadata": {
        "id": "oEKiCVSwitaZ"
      },
      "source": [
        "features.to_csv(\"FeaturesTillSnowball2Apps15.csv\")"
      ],
      "execution_count": null,
      "outputs": []
    },
    {
      "cell_type": "code",
      "metadata": {
        "id": "OKzifkNJ--ER"
      },
      "source": [
        "subset=df.loc[1050002:1100001,:]"
      ],
      "execution_count": null,
      "outputs": []
    },
    {
      "cell_type": "code",
      "metadata": {
        "colab": {
          "base_uri": "https://localhost:8080/"
        },
        "id": "MlZef5-I_o1c",
        "outputId": "9495d8bf-b04c-4557-bc3f-2ea343c183d3"
      },
      "source": [
        "lst"
      ],
      "execution_count": null,
      "outputs": [
        {
          "output_type": "execute_result",
          "data": {
            "text/plain": [
              "50001     this game much fun hope gets better everyday g...\n",
              "50002                the game cool blown tad battel6 better\n",
              "50003                                                please\n",
              "50004     i think game great found one bug asks want wat...\n",
              "50005                              it s fun games think try\n",
              "                                ...                        \n",
              "99996                                                  kiki\n",
              "99997     when deleted game came back restarted saw new ...\n",
              "99998     this great game one problem pvp enemies high m...\n",
              "99999                                            five stars\n",
              "100000    this game best hatch new monsters battle feed ...\n",
              "Name: corpus_test, Length: 50000, dtype: object"
            ]
          },
          "metadata": {
            "tags": []
          },
          "execution_count": 101
        }
      ]
    },
    {
      "cell_type": "code",
      "metadata": {
        "colab": {
          "base_uri": "https://localhost:8080/",
          "height": 670
        },
        "id": "PjVBsL15_m2w",
        "outputId": "33c134e5-48a6-4843-a0af-113a3f687e2d"
      },
      "source": [
        "subset"
      ],
      "execution_count": null,
      "outputs": [
        {
          "output_type": "execute_result",
          "data": {
            "text/html": [
              "<div>\n",
              "<style scoped>\n",
              "    .dataframe tbody tr th:only-of-type {\n",
              "        vertical-align: middle;\n",
              "    }\n",
              "\n",
              "    .dataframe tbody tr th {\n",
              "        vertical-align: top;\n",
              "    }\n",
              "\n",
              "    .dataframe thead th {\n",
              "        text-align: right;\n",
              "    }\n",
              "</style>\n",
              "<table border=\"1\" class=\"dataframe\">\n",
              "  <thead>\n",
              "    <tr style=\"text-align: right;\">\n",
              "      <th></th>\n",
              "      <th>Unnamed: 0</th>\n",
              "      <th>recordID</th>\n",
              "      <th>reviewID</th>\n",
              "      <th>appID</th>\n",
              "      <th>timestamp</th>\n",
              "      <th>rating</th>\n",
              "      <th>name</th>\n",
              "      <th>title</th>\n",
              "      <th>body</th>\n",
              "    </tr>\n",
              "  </thead>\n",
              "  <tbody>\n",
              "    <tr>\n",
              "      <th>1050002</th>\n",
              "      <td>1050002</td>\n",
              "      <td>2794320.0</td>\n",
              "      <td>5.347543e+09</td>\n",
              "      <td>624533261.0</td>\n",
              "      <td>2020-01-01T16:58:34Z</td>\n",
              "      <td>5.0</td>\n",
              "      <td>Eatinbetter</td>\n",
              "      <td>To everyone</td>\n",
              "      <td>This game is so much fun and so I hope it gets...</td>\n",
              "    </tr>\n",
              "    <tr>\n",
              "      <th>1050003</th>\n",
              "      <td>1050003</td>\n",
              "      <td>2794321.0</td>\n",
              "      <td>5.347502e+09</td>\n",
              "      <td>624533261.0</td>\n",
              "      <td>2020-01-01T16:46:24Z</td>\n",
              "      <td>5.0</td>\n",
              "      <td>bloontdbatte</td>\n",
              "      <td>Cool game</td>\n",
              "      <td>The game is cool but blown tad battel6 is better</td>\n",
              "    </tr>\n",
              "    <tr>\n",
              "      <th>1050004</th>\n",
              "      <td>1050004</td>\n",
              "      <td>2794322.0</td>\n",
              "      <td>5.345397e+09</td>\n",
              "      <td>624533261.0</td>\n",
              "      <td>2020-01-01T05:15:02Z</td>\n",
              "      <td>4.0</td>\n",
              "      <td>bzudnidb</td>\n",
              "      <td>I want the all btd to be free</td>\n",
              "      <td>Please</td>\n",
              "    </tr>\n",
              "    <tr>\n",
              "      <th>1050005</th>\n",
              "      <td>1050005</td>\n",
              "      <td>2794323.0</td>\n",
              "      <td>5.344997e+09</td>\n",
              "      <td>624533261.0</td>\n",
              "      <td>2020-01-01T02:49:37Z</td>\n",
              "      <td>4.0</td>\n",
              "      <td>ProChrisRock</td>\n",
              "      <td>Great game</td>\n",
              "      <td>I think this game is great but I found one bug...</td>\n",
              "    </tr>\n",
              "    <tr>\n",
              "      <th>1050006</th>\n",
              "      <td>1050006</td>\n",
              "      <td>2794324.0</td>\n",
              "      <td>5.342953e+09</td>\n",
              "      <td>624533261.0</td>\n",
              "      <td>2019-12-31T14:41:02Z</td>\n",
              "      <td>5.0</td>\n",
              "      <td>sAmUeL.G2308</td>\n",
              "      <td>Samuel</td>\n",
              "      <td>It’s a fun games that I think you should try.</td>\n",
              "    </tr>\n",
              "    <tr>\n",
              "      <th>...</th>\n",
              "      <td>...</td>\n",
              "      <td>...</td>\n",
              "      <td>...</td>\n",
              "      <td>...</td>\n",
              "      <td>...</td>\n",
              "      <td>...</td>\n",
              "      <td>...</td>\n",
              "      <td>...</td>\n",
              "      <td>...</td>\n",
              "    </tr>\n",
              "    <tr>\n",
              "      <th>1099997</th>\n",
              "      <td>1099997</td>\n",
              "      <td>2844315.0</td>\n",
              "      <td>3.741442e+09</td>\n",
              "      <td>653508448.0</td>\n",
              "      <td>2019-02-07T02:10:34Z</td>\n",
              "      <td>5.0</td>\n",
              "      <td>łōśér_çræžÿ</td>\n",
              "      <td>Kiki</td>\n",
              "      <td>Kiki</td>\n",
              "    </tr>\n",
              "    <tr>\n",
              "      <th>1099998</th>\n",
              "      <td>1099998</td>\n",
              "      <td>2844316.0</td>\n",
              "      <td>3.741380e+09</td>\n",
              "      <td>653508448.0</td>\n",
              "      <td>2019-02-07T01:46:24Z</td>\n",
              "      <td>1.0</td>\n",
              "      <td>Soren_Underground</td>\n",
              "      <td>Monsters</td>\n",
              "      <td>When I deleted the game and came back to it an...</td>\n",
              "    </tr>\n",
              "    <tr>\n",
              "      <th>1099999</th>\n",
              "      <td>1099999</td>\n",
              "      <td>2844317.0</td>\n",
              "      <td>3.741373e+09</td>\n",
              "      <td>653508448.0</td>\n",
              "      <td>2019-02-07T01:43:39Z</td>\n",
              "      <td>5.0</td>\n",
              "      <td>wolfyo1123</td>\n",
              "      <td>Luv this game</td>\n",
              "      <td>This is a great game but I have one problem wi...</td>\n",
              "    </tr>\n",
              "    <tr>\n",
              "      <th>1100000</th>\n",
              "      <td>1100000</td>\n",
              "      <td>2844318.0</td>\n",
              "      <td>3.741356e+09</td>\n",
              "      <td>653508448.0</td>\n",
              "      <td>2019-02-07T01:36:27Z</td>\n",
              "      <td>5.0</td>\n",
              "      <td>kilo0669</td>\n",
              "      <td>The game is good it has no glitches</td>\n",
              "      <td>Five stars</td>\n",
              "    </tr>\n",
              "    <tr>\n",
              "      <th>1100001</th>\n",
              "      <td>1100001</td>\n",
              "      <td>2844319.0</td>\n",
              "      <td>3.741355e+09</td>\n",
              "      <td>653508448.0</td>\n",
              "      <td>2019-02-07T01:36:19Z</td>\n",
              "      <td>5.0</td>\n",
              "      <td>mhalalst</td>\n",
              "      <td>Monster legends</td>\n",
              "      <td>This game is the best you can hatch new monste...</td>\n",
              "    </tr>\n",
              "  </tbody>\n",
              "</table>\n",
              "<p>50000 rows × 9 columns</p>\n",
              "</div>"
            ],
            "text/plain": [
              "         Unnamed: 0  ...                                               body\n",
              "1050002     1050002  ...  This game is so much fun and so I hope it gets...\n",
              "1050003     1050003  ...   The game is cool but blown tad battel6 is better\n",
              "1050004     1050004  ...                                             Please\n",
              "1050005     1050005  ...  I think this game is great but I found one bug...\n",
              "1050006     1050006  ...      It’s a fun games that I think you should try.\n",
              "...             ...  ...                                                ...\n",
              "1099997     1099997  ...                                               Kiki\n",
              "1099998     1099998  ...  When I deleted the game and came back to it an...\n",
              "1099999     1099999  ...  This is a great game but I have one problem wi...\n",
              "1100000     1100000  ...                                         Five stars\n",
              "1100001     1100001  ...  This game is the best you can hatch new monste...\n",
              "\n",
              "[50000 rows x 9 columns]"
            ]
          },
          "metadata": {
            "tags": []
          },
          "execution_count": 102
        }
      ]
    },
    {
      "cell_type": "code",
      "metadata": {
        "colab": {
          "base_uri": "https://localhost:8080/"
        },
        "id": "k7jt_oT13Vfq",
        "outputId": "a174d77d-d319-4543-ed0f-696697926036"
      },
      "source": [
        "from scipy.stats.mstats import gmean\n",
        "subset['Convincingness'],subset['Severity']=TestPred[:,0],TestPred[:,1]\n",
        "subset['pred_alarmingness']=gmean(subset[['Convincingness','Severity']],axis=1)\n"
      ],
      "execution_count": null,
      "outputs": [
        {
          "output_type": "stream",
          "text": [
            "/usr/local/lib/python3.7/dist-packages/ipykernel_launcher.py:2: SettingWithCopyWarning: \n",
            "A value is trying to be set on a copy of a slice from a DataFrame.\n",
            "Try using .loc[row_indexer,col_indexer] = value instead\n",
            "\n",
            "See the caveats in the documentation: https://pandas.pydata.org/pandas-docs/stable/user_guide/indexing.html#returning-a-view-versus-a-copy\n",
            "  \n",
            "/usr/local/lib/python3.7/dist-packages/ipykernel_launcher.py:3: SettingWithCopyWarning: \n",
            "A value is trying to be set on a copy of a slice from a DataFrame.\n",
            "Try using .loc[row_indexer,col_indexer] = value instead\n",
            "\n",
            "See the caveats in the documentation: https://pandas.pydata.org/pandas-docs/stable/user_guide/indexing.html#returning-a-view-versus-a-copy\n",
            "  This is separate from the ipykernel package so we can avoid doing imports until\n"
          ],
          "name": "stderr"
        }
      ]
    },
    {
      "cell_type": "code",
      "metadata": {
        "id": "bU-j5KhD4T_R"
      },
      "source": [
        "# fulldf=pd.read_csv(\"PredictedReviesTillSnowball2Apps.csv\",index_col=0)"
      ],
      "execution_count": null,
      "outputs": []
    },
    {
      "cell_type": "code",
      "metadata": {
        "id": "NufXP_EKZibM"
      },
      "source": [
        "# fulldf=pd.DataFrame()"
      ],
      "execution_count": null,
      "outputs": []
    },
    {
      "cell_type": "code",
      "metadata": {
        "colab": {
          "base_uri": "https://localhost:8080/"
        },
        "id": "wK09uNxPcbIN",
        "outputId": "d934368e-19ad-4012-87dc-bb3cea96fcec"
      },
      "source": [
        "fulldf.shape"
      ],
      "execution_count": null,
      "outputs": [
        {
          "output_type": "execute_result",
          "data": {
            "text/plain": [
              "(1050002, 11)"
            ]
          },
          "metadata": {
            "tags": []
          },
          "execution_count": 106
        }
      ]
    },
    {
      "cell_type": "code",
      "metadata": {
        "id": "PNIcTyk84bKY"
      },
      "source": [
        "fulldf=pd.concat([fulldf,subset],axis=0)"
      ],
      "execution_count": null,
      "outputs": []
    },
    {
      "cell_type": "code",
      "metadata": {
        "colab": {
          "base_uri": "https://localhost:8080/"
        },
        "id": "FpM7hkn2AMtq",
        "outputId": "45a73921-914b-4ab0-f439-a1f822befe45"
      },
      "source": [
        "fulldf.shape"
      ],
      "execution_count": null,
      "outputs": [
        {
          "output_type": "execute_result",
          "data": {
            "text/plain": [
              "(1100002, 12)"
            ]
          },
          "metadata": {
            "tags": []
          },
          "execution_count": 108
        }
      ]
    },
    {
      "cell_type": "code",
      "metadata": {
        "colab": {
          "base_uri": "https://localhost:8080/",
          "height": 585
        },
        "id": "9muAomoyADZ5",
        "outputId": "4a49b4d6-c1ad-40da-b2cb-63d244a24892"
      },
      "source": [
        "fulldf[fulldf['pred_alarmingness'].isna()]"
      ],
      "execution_count": null,
      "outputs": [
        {
          "output_type": "execute_result",
          "data": {
            "text/html": [
              "<div>\n",
              "<style scoped>\n",
              "    .dataframe tbody tr th:only-of-type {\n",
              "        vertical-align: middle;\n",
              "    }\n",
              "\n",
              "    .dataframe tbody tr th {\n",
              "        vertical-align: top;\n",
              "    }\n",
              "\n",
              "    .dataframe thead th {\n",
              "        text-align: right;\n",
              "    }\n",
              "</style>\n",
              "<table border=\"1\" class=\"dataframe\">\n",
              "  <thead>\n",
              "    <tr style=\"text-align: right;\">\n",
              "      <th></th>\n",
              "      <th>recordID</th>\n",
              "      <th>reviewID</th>\n",
              "      <th>appID</th>\n",
              "      <th>timestamp</th>\n",
              "      <th>rating</th>\n",
              "      <th>name</th>\n",
              "      <th>title</th>\n",
              "      <th>body</th>\n",
              "      <th>Convincingness</th>\n",
              "      <th>Severity</th>\n",
              "      <th>pred_alarmingness</th>\n",
              "      <th>Unnamed: 0</th>\n",
              "    </tr>\n",
              "  </thead>\n",
              "  <tbody>\n",
              "    <tr>\n",
              "      <th>534158</th>\n",
              "      <td>1379946.0</td>\n",
              "      <td>1.094007e+09</td>\n",
              "      <td>358899126.0</td>\n",
              "      <td>2014-11-09T02:57:26Z</td>\n",
              "      <td>4.0</td>\n",
              "      <td>Steelers Nation #7</td>\n",
              "      <td>Fix it!</td>\n",
              "      <td>It closes out/crashes when I try to refresh th...</td>\n",
              "      <td>-0.056310</td>\n",
              "      <td>0.065969</td>\n",
              "      <td>NaN</td>\n",
              "      <td>NaN</td>\n",
              "    </tr>\n",
              "    <tr>\n",
              "      <th>534166</th>\n",
              "      <td>1379954.0</td>\n",
              "      <td>1.091318e+09</td>\n",
              "      <td>358899126.0</td>\n",
              "      <td>2014-11-04T04:21:56Z</td>\n",
              "      <td>3.0</td>\n",
              "      <td>TrustNine</td>\n",
              "      <td>It's okay</td>\n",
              "      <td>It closes out when you try to refresh the page</td>\n",
              "      <td>-0.090545</td>\n",
              "      <td>0.137439</td>\n",
              "      <td>NaN</td>\n",
              "      <td>NaN</td>\n",
              "    </tr>\n",
              "    <tr>\n",
              "      <th>697907</th>\n",
              "      <td>1790302.0</td>\n",
              "      <td>1.110192e+09</td>\n",
              "      <td>506141837.0</td>\n",
              "      <td>2014-12-09T01:37:40Z</td>\n",
              "      <td>3.0</td>\n",
              "      <td>Kirby Truck'n</td>\n",
              "      <td>Eh</td>\n",
              "      <td>It passes the time but it needs to refresh more</td>\n",
              "      <td>-0.020378</td>\n",
              "      <td>0.098987</td>\n",
              "      <td>NaN</td>\n",
              "      <td>NaN</td>\n",
              "    </tr>\n",
              "    <tr>\n",
              "      <th>821702</th>\n",
              "      <td>1975680.0</td>\n",
              "      <td>1.851179e+09</td>\n",
              "      <td>389638243.0</td>\n",
              "      <td>2017-10-15T19:06:55Z</td>\n",
              "      <td>5.0</td>\n",
              "      <td>JanuZ K</td>\n",
              "      <td>Best One</td>\n",
              "      <td>Take your time and fill the forms. It&amp;#39;s ti...</td>\n",
              "      <td>0.058092</td>\n",
              "      <td>-0.001937</td>\n",
              "      <td>NaN</td>\n",
              "      <td>NaN</td>\n",
              "    </tr>\n",
              "    <tr>\n",
              "      <th>880940</th>\n",
              "      <td>2182119.0</td>\n",
              "      <td>7.249489e+08</td>\n",
              "      <td>368483462.0</td>\n",
              "      <td>2013-01-07T23:57:32Z</td>\n",
              "      <td>5.0</td>\n",
              "      <td>Bump333</td>\n",
              "      <td>Thanks for a fast browser!</td>\n",
              "      <td>Sometimes your browser works quicker than all ...</td>\n",
              "      <td>0.571052</td>\n",
              "      <td>-0.058141</td>\n",
              "      <td>NaN</td>\n",
              "      <td>NaN</td>\n",
              "    </tr>\n",
              "  </tbody>\n",
              "</table>\n",
              "</div>"
            ],
            "text/plain": [
              "         recordID      reviewID  ...  pred_alarmingness Unnamed: 0\n",
              "534158  1379946.0  1.094007e+09  ...                NaN        NaN\n",
              "534166  1379954.0  1.091318e+09  ...                NaN        NaN\n",
              "697907  1790302.0  1.110192e+09  ...                NaN        NaN\n",
              "821702  1975680.0  1.851179e+09  ...                NaN        NaN\n",
              "880940  2182119.0  7.249489e+08  ...                NaN        NaN\n",
              "\n",
              "[5 rows x 12 columns]"
            ]
          },
          "metadata": {
            "tags": []
          },
          "execution_count": 109
        }
      ]
    },
    {
      "cell_type": "code",
      "metadata": {
        "colab": {
          "base_uri": "https://localhost:8080/",
          "height": 1000
        },
        "id": "LTbnQKy9rhU6",
        "outputId": "877d10c6-d507-4e90-89d5-d442573f8b04"
      },
      "source": [
        "fulldf"
      ],
      "execution_count": null,
      "outputs": [
        {
          "output_type": "execute_result",
          "data": {
            "text/html": [
              "<div>\n",
              "<style scoped>\n",
              "    .dataframe tbody tr th:only-of-type {\n",
              "        vertical-align: middle;\n",
              "    }\n",
              "\n",
              "    .dataframe tbody tr th {\n",
              "        vertical-align: top;\n",
              "    }\n",
              "\n",
              "    .dataframe thead th {\n",
              "        text-align: right;\n",
              "    }\n",
              "</style>\n",
              "<table border=\"1\" class=\"dataframe\">\n",
              "  <thead>\n",
              "    <tr style=\"text-align: right;\">\n",
              "      <th></th>\n",
              "      <th>recordID</th>\n",
              "      <th>reviewID</th>\n",
              "      <th>appID</th>\n",
              "      <th>timestamp</th>\n",
              "      <th>rating</th>\n",
              "      <th>name</th>\n",
              "      <th>title</th>\n",
              "      <th>body</th>\n",
              "      <th>Convincingness</th>\n",
              "      <th>Severity</th>\n",
              "      <th>pred_alarmingness</th>\n",
              "      <th>Unnamed: 0</th>\n",
              "    </tr>\n",
              "  </thead>\n",
              "  <tbody>\n",
              "    <tr>\n",
              "      <th>0</th>\n",
              "      <td>172816.0</td>\n",
              "      <td>7.166960e+09</td>\n",
              "      <td>1.473780e+09</td>\n",
              "      <td>2021-03-31T15:11:03Z</td>\n",
              "      <td>4.0</td>\n",
              "      <td>𝕲𝖆𝖍 𝖕𝖔𝖗𝖓</td>\n",
              "      <td>𝕿𝖍𝖎𝖘 𝖆𝖕𝖕 𝖎𝖘 𝖆𝖒𝖆𝖟𝖎𝖓𝖌</td>\n",
              "      <td>𝕭𝖊𝖋𝖔𝖗𝖊 𝖎 𝖋𝖔𝖚𝖓𝖉 𝖙𝖍𝖎𝖘 𝖆𝖕𝖕 𝕴 𝖉𝖎𝖉𝖓𝖙 𝖐𝖓𝖔𝖜 𝖜𝖍𝖆𝖙 𝖙𝖔</td>\n",
              "      <td>1.100232</td>\n",
              "      <td>1.214860</td>\n",
              "      <td>1.156126</td>\n",
              "      <td>NaN</td>\n",
              "    </tr>\n",
              "    <tr>\n",
              "      <th>1</th>\n",
              "      <td>172817.0</td>\n",
              "      <td>7.166907e+09</td>\n",
              "      <td>1.473780e+09</td>\n",
              "      <td>2021-03-31T14:57:05Z</td>\n",
              "      <td>5.0</td>\n",
              "      <td>Gehjsdkakkskdbs</td>\n",
              "      <td>Fonts</td>\n",
              "      <td>I heard if you write a review you get free fon...</td>\n",
              "      <td>1.468585</td>\n",
              "      <td>1.302688</td>\n",
              "      <td>1.383151</td>\n",
              "      <td>NaN</td>\n",
              "    </tr>\n",
              "    <tr>\n",
              "      <th>2</th>\n",
              "      <td>172818.0</td>\n",
              "      <td>7.166781e+09</td>\n",
              "      <td>1.473780e+09</td>\n",
              "      <td>2021-03-31T14:24:08Z</td>\n",
              "      <td>5.0</td>\n",
              "      <td>𝗟𝗼𝘃𝗲 𝗲𝗹𝗹𝗮</td>\n",
              "      <td>𝗟𝗼𝘃𝗲 𝘁𝗵𝗶𝘀 𝗮𝗽𝗽</td>\n",
              "      <td>𝗧𝗵𝗶𝘀 𝗮𝗽𝗽 𝗶𝘀 𝘀𝗼 𝗳𝘂𝗻 𝘀𝗼 𝗶 𝗹𝗼𝘃𝗲 𝘁𝗵𝗶𝘀 𝘁𝗵𝗲𝗺𝗲 𝗮𝗻𝗱 𝘆𝗮</td>\n",
              "      <td>1.100232</td>\n",
              "      <td>1.214860</td>\n",
              "      <td>1.156126</td>\n",
              "      <td>NaN</td>\n",
              "    </tr>\n",
              "    <tr>\n",
              "      <th>3</th>\n",
              "      <td>172819.0</td>\n",
              "      <td>7.166438e+09</td>\n",
              "      <td>1.473780e+09</td>\n",
              "      <td>2021-03-31T12:56:07Z</td>\n",
              "      <td>5.0</td>\n",
              "      <td>A-A-ron72</td>\n",
              "      <td>A-A-ron666</td>\n",
              "      <td>Hey</td>\n",
              "      <td>1.570652</td>\n",
              "      <td>1.456150</td>\n",
              "      <td>1.512318</td>\n",
              "      <td>NaN</td>\n",
              "    </tr>\n",
              "    <tr>\n",
              "      <th>4</th>\n",
              "      <td>172820.0</td>\n",
              "      <td>7.166082e+09</td>\n",
              "      <td>1.473780e+09</td>\n",
              "      <td>2021-03-31T11:18:29Z</td>\n",
              "      <td>3.0</td>\n",
              "      <td>shell_887</td>\n",
              "      <td>Why</td>\n",
              "      <td>I reallylike all the fonts on his ap, but it i...</td>\n",
              "      <td>1.532517</td>\n",
              "      <td>1.206051</td>\n",
              "      <td>1.359520</td>\n",
              "      <td>NaN</td>\n",
              "    </tr>\n",
              "    <tr>\n",
              "      <th>...</th>\n",
              "      <td>...</td>\n",
              "      <td>...</td>\n",
              "      <td>...</td>\n",
              "      <td>...</td>\n",
              "      <td>...</td>\n",
              "      <td>...</td>\n",
              "      <td>...</td>\n",
              "      <td>...</td>\n",
              "      <td>...</td>\n",
              "      <td>...</td>\n",
              "      <td>...</td>\n",
              "      <td>...</td>\n",
              "    </tr>\n",
              "    <tr>\n",
              "      <th>1099997</th>\n",
              "      <td>2844315.0</td>\n",
              "      <td>3.741442e+09</td>\n",
              "      <td>6.535084e+08</td>\n",
              "      <td>2019-02-07T02:10:34Z</td>\n",
              "      <td>5.0</td>\n",
              "      <td>łōśér_çræžÿ</td>\n",
              "      <td>Kiki</td>\n",
              "      <td>Kiki</td>\n",
              "      <td>1.844901</td>\n",
              "      <td>2.030019</td>\n",
              "      <td>1.935248</td>\n",
              "      <td>1099997.0</td>\n",
              "    </tr>\n",
              "    <tr>\n",
              "      <th>1099998</th>\n",
              "      <td>2844316.0</td>\n",
              "      <td>3.741380e+09</td>\n",
              "      <td>6.535084e+08</td>\n",
              "      <td>2019-02-07T01:46:24Z</td>\n",
              "      <td>1.0</td>\n",
              "      <td>Soren_Underground</td>\n",
              "      <td>Monsters</td>\n",
              "      <td>When I deleted the game and came back to it an...</td>\n",
              "      <td>1.352959</td>\n",
              "      <td>1.469522</td>\n",
              "      <td>1.410037</td>\n",
              "      <td>1099998.0</td>\n",
              "    </tr>\n",
              "    <tr>\n",
              "      <th>1099999</th>\n",
              "      <td>2844317.0</td>\n",
              "      <td>3.741373e+09</td>\n",
              "      <td>6.535084e+08</td>\n",
              "      <td>2019-02-07T01:43:39Z</td>\n",
              "      <td>5.0</td>\n",
              "      <td>wolfyo1123</td>\n",
              "      <td>Luv this game</td>\n",
              "      <td>This is a great game but I have one problem wi...</td>\n",
              "      <td>1.665223</td>\n",
              "      <td>1.801977</td>\n",
              "      <td>1.732251</td>\n",
              "      <td>1099999.0</td>\n",
              "    </tr>\n",
              "    <tr>\n",
              "      <th>1100000</th>\n",
              "      <td>2844318.0</td>\n",
              "      <td>3.741356e+09</td>\n",
              "      <td>6.535084e+08</td>\n",
              "      <td>2019-02-07T01:36:27Z</td>\n",
              "      <td>5.0</td>\n",
              "      <td>kilo0669</td>\n",
              "      <td>The game is good it has no glitches</td>\n",
              "      <td>Five stars</td>\n",
              "      <td>1.190960</td>\n",
              "      <td>1.484028</td>\n",
              "      <td>1.329443</td>\n",
              "      <td>1100000.0</td>\n",
              "    </tr>\n",
              "    <tr>\n",
              "      <th>1100001</th>\n",
              "      <td>2844319.0</td>\n",
              "      <td>3.741355e+09</td>\n",
              "      <td>6.535084e+08</td>\n",
              "      <td>2019-02-07T01:36:19Z</td>\n",
              "      <td>5.0</td>\n",
              "      <td>mhalalst</td>\n",
              "      <td>Monster legends</td>\n",
              "      <td>This game is the best you can hatch new monste...</td>\n",
              "      <td>0.949825</td>\n",
              "      <td>0.940954</td>\n",
              "      <td>0.945379</td>\n",
              "      <td>1100001.0</td>\n",
              "    </tr>\n",
              "  </tbody>\n",
              "</table>\n",
              "<p>1100002 rows × 12 columns</p>\n",
              "</div>"
            ],
            "text/plain": [
              "          recordID      reviewID  ...  pred_alarmingness Unnamed: 0\n",
              "0         172816.0  7.166960e+09  ...           1.156126        NaN\n",
              "1         172817.0  7.166907e+09  ...           1.383151        NaN\n",
              "2         172818.0  7.166781e+09  ...           1.156126        NaN\n",
              "3         172819.0  7.166438e+09  ...           1.512318        NaN\n",
              "4         172820.0  7.166082e+09  ...           1.359520        NaN\n",
              "...            ...           ...  ...                ...        ...\n",
              "1099997  2844315.0  3.741442e+09  ...           1.935248  1099997.0\n",
              "1099998  2844316.0  3.741380e+09  ...           1.410037  1099998.0\n",
              "1099999  2844317.0  3.741373e+09  ...           1.732251  1099999.0\n",
              "1100000  2844318.0  3.741356e+09  ...           1.329443  1100000.0\n",
              "1100001  2844319.0  3.741355e+09  ...           0.945379  1100001.0\n",
              "\n",
              "[1100002 rows x 12 columns]"
            ]
          },
          "metadata": {
            "tags": []
          },
          "execution_count": 110
        }
      ]
    },
    {
      "cell_type": "code",
      "metadata": {
        "id": "CYXo6K8P1bXf"
      },
      "source": [
        "del fulldf['Unnamed: 0']\n",
        "# del fulldf['Unnamed: 0.1']\n",
        "# del fulldf['Unnamed: 0.1.1']\n",
        "# del fulldf['Unnamed: 0.1.1.1']\n",
        "# del fulldf['Unnamed: 0.1.1.1.1']"
      ],
      "execution_count": null,
      "outputs": []
    },
    {
      "cell_type": "code",
      "metadata": {
        "colab": {
          "base_uri": "https://localhost:8080/"
        },
        "id": "kzi--V2VluF8",
        "outputId": "ec2aba83-23cd-490b-b877-85ac5ac4022b"
      },
      "source": [
        "fulldf.loc[fulldf['pred_alarmingness']>=3,'body']"
      ],
      "execution_count": null,
      "outputs": [
        {
          "output_type": "execute_result",
          "data": {
            "text/plain": [
              "1712       So I heard if you write a review you get more ...\n",
              "2129                        ur mom (this app is good yeaaaa)\n",
              "2207       Story:\\nSo when i was in 2nd grade it was my b...\n",
              "2585          This is so good my cousin even wanted this app\n",
              "2595       This app is the best you can share it with fri...\n",
              "                                 ...                        \n",
              "1094621    My big brother to my youngest brother plays th...\n",
              "1096050        I hate it because it’s not child appropriate!\n",
              "1096670    Can you make it so people can gift without Fac...\n",
              "1096726                             Great fun for the family\n",
              "1098661    Monster legends is not for kids. I would say i...\n",
              "Name: body, Length: 12607, dtype: object"
            ]
          },
          "metadata": {
            "tags": []
          },
          "execution_count": 112
        }
      ]
    },
    {
      "cell_type": "code",
      "metadata": {
        "id": "gI6hQ3uH4qb8"
      },
      "source": [
        "fulldf.to_csv(\"PredictedReviesTillSnowball2Apps.csv\")"
      ],
      "execution_count": null,
      "outputs": []
    },
    {
      "cell_type": "code",
      "metadata": {
        "id": "mqgreDnrLcNa"
      },
      "source": [
        "# temp=pd.read_csv(\"PredictedReviesTill1400Apps.csv\")"
      ],
      "execution_count": null,
      "outputs": []
    },
    {
      "cell_type": "code",
      "metadata": {
        "id": "DMM4Vf2JLpqK"
      },
      "source": [
        "temp"
      ],
      "execution_count": null,
      "outputs": []
    },
    {
      "cell_type": "code",
      "metadata": {
        "colab": {
          "base_uri": "https://localhost:8080/"
        },
        "id": "RHODAhaujCS8",
        "outputId": "9651a435-261c-4060-d3fb-8cf30cfc639f"
      },
      "source": [
        "fulldf.shape"
      ],
      "execution_count": null,
      "outputs": [
        {
          "output_type": "execute_result",
          "data": {
            "text/plain": [
              "(100001, 11)"
            ]
          },
          "metadata": {
            "tags": []
          },
          "execution_count": 75
        }
      ]
    },
    {
      "cell_type": "code",
      "metadata": {
        "colab": {
          "base_uri": "https://localhost:8080/",
          "height": 35
        },
        "id": "58rjN6NdSzQp",
        "outputId": "c1d94519-68ad-453d-f2e7-76f75dbbe8a6"
      },
      "source": [
        "pwd"
      ],
      "execution_count": null,
      "outputs": [
        {
          "output_type": "execute_result",
          "data": {
            "application/vnd.google.colaboratory.intrinsic+json": {
              "type": "string"
            },
            "text/plain": [
              "'/content/drive/My Drive/UIA/Rougue Score/ReviewsData'"
            ]
          },
          "metadata": {
            "tags": []
          },
          "execution_count": 58
        }
      ]
    },
    {
      "cell_type": "code",
      "metadata": {
        "colab": {
          "base_uri": "https://localhost:8080/"
        },
        "id": "QTk1u1OGZZpG",
        "outputId": "76e83c65-aee0-4ec2-e44e-0f4be2fd7bbb"
      },
      "source": [
        "# temp=pd.read_csv(\"PredictedReviesTill500Apps.csv\",index_col=0)"
      ],
      "execution_count": null,
      "outputs": [
        {
          "output_type": "stream",
          "text": [
            "/usr/local/lib/python3.7/dist-packages/IPython/core/interactiveshell.py:2718: DtypeWarning: Columns (1,13) have mixed types.Specify dtype option on import or set low_memory=False.\n",
            "  interactivity=interactivity, compiler=compiler, result=result)\n"
          ],
          "name": "stderr"
        }
      ]
    },
    {
      "cell_type": "code",
      "metadata": {
        "colab": {
          "base_uri": "https://localhost:8080/"
        },
        "id": "_owEGJ2sZj1X",
        "outputId": "743571bc-ee6b-4e3c-c24d-49d56dd4a0d1"
      },
      "source": [
        "# temp.shape"
      ],
      "execution_count": null,
      "outputs": [
        {
          "output_type": "execute_result",
          "data": {
            "text/plain": [
              "(900009, 13)"
            ]
          },
          "metadata": {
            "tags": []
          },
          "execution_count": 162
        }
      ]
    },
    {
      "cell_type": "code",
      "metadata": {
        "id": "67pMoBN4nF5h"
      },
      "source": [
        "def Prediction(reviews):  \n",
        "  test_embeddings=embedding(corpus_test[start:end])\n",
        "  TestPred=tuned_model.predict(test_embeddings)\n",
        "\n",
        "  reviews['Convincingness'],reviews['Severity']=TestPred[:,0],TestPred[:,1]\n",
        "  reviews['pred_alarmingness']=gmean(reviews['Convincingness','Severity'],axis=1)\n",
        "\n",
        "  return reviews"
      ],
      "execution_count": null,
      "outputs": []
    },
    {
      "cell_type": "code",
      "metadata": {
        "colab": {
          "base_uri": "https://localhost:8080/"
        },
        "id": "7EVE4wqDqPYZ",
        "outputId": "1cef57d1-b73e-4599-ecc6-f454ee794064"
      },
      "source": [
        "df.shape"
      ],
      "execution_count": null,
      "outputs": [
        {
          "output_type": "execute_result",
          "data": {
            "text/plain": [
              "(1046850, 9)"
            ]
          },
          "metadata": {
            "tags": []
          },
          "execution_count": 12
        }
      ]
    },
    {
      "cell_type": "code",
      "metadata": {
        "colab": {
          "base_uri": "https://localhost:8080/",
          "height": 321
        },
        "id": "7spu1vA7m_mQ",
        "outputId": "f9546d8e-7412-4453-e194-e0b5f76afc0f"
      },
      "source": [
        "#### Predicting for 500 Apps\n",
        "df= Prediction(df.iloc[0,100000,:])"
      ],
      "execution_count": null,
      "outputs": [
        {
          "output_type": "error",
          "ename": "ValueError",
          "evalue": "ignored",
          "traceback": [
            "\u001b[0;31m---------------------------------------------------------------------------\u001b[0m",
            "\u001b[0;31mValueError\u001b[0m                                Traceback (most recent call last)",
            "\u001b[0;32m<ipython-input-18-062848598a78>\u001b[0m in \u001b[0;36m<module>\u001b[0;34m()\u001b[0m\n\u001b[1;32m      1\u001b[0m \u001b[0;31m#### Predicting for 500 Apps\u001b[0m\u001b[0;34m\u001b[0m\u001b[0;34m\u001b[0m\u001b[0;34m\u001b[0m\u001b[0m\n\u001b[0;32m----> 2\u001b[0;31m \u001b[0mdf\u001b[0m\u001b[0;34m=\u001b[0m \u001b[0mPrediction\u001b[0m\u001b[0;34m(\u001b[0m\u001b[0mdf\u001b[0m\u001b[0;34m,\u001b[0m\u001b[0;36m0\u001b[0m\u001b[0;34m,\u001b[0m\u001b[0;36m100000\u001b[0m\u001b[0;34m)\u001b[0m\u001b[0;34m\u001b[0m\u001b[0;34m\u001b[0m\u001b[0m\n\u001b[0m",
            "\u001b[0;32m<ipython-input-17-4f0d832eaa80>\u001b[0m in \u001b[0;36mPrediction\u001b[0;34m(reviews, start, end)\u001b[0m\n\u001b[1;32m      3\u001b[0m   \u001b[0mTestPred\u001b[0m\u001b[0;34m=\u001b[0m\u001b[0mtuned_model\u001b[0m\u001b[0;34m.\u001b[0m\u001b[0mpredict\u001b[0m\u001b[0;34m(\u001b[0m\u001b[0mtest_embeddings\u001b[0m\u001b[0;34m)\u001b[0m\u001b[0;34m\u001b[0m\u001b[0;34m\u001b[0m\u001b[0m\n\u001b[1;32m      4\u001b[0m \u001b[0;34m\u001b[0m\u001b[0m\n\u001b[0;32m----> 5\u001b[0;31m   \u001b[0mreviews\u001b[0m\u001b[0;34m.\u001b[0m\u001b[0mloc\u001b[0m\u001b[0;34m[\u001b[0m\u001b[0mstart\u001b[0m\u001b[0;34m:\u001b[0m\u001b[0mend\u001b[0m\u001b[0;34m,\u001b[0m\u001b[0;34m'Convincingness'\u001b[0m\u001b[0;34m]\u001b[0m\u001b[0;34m,\u001b[0m\u001b[0mreviews\u001b[0m\u001b[0;34m.\u001b[0m\u001b[0mloc\u001b[0m\u001b[0;34m[\u001b[0m\u001b[0mstart\u001b[0m\u001b[0;34m:\u001b[0m\u001b[0mend\u001b[0m\u001b[0;34m,\u001b[0m\u001b[0;34m'Severity'\u001b[0m\u001b[0;34m]\u001b[0m\u001b[0;34m=\u001b[0m\u001b[0mTestPred\u001b[0m\u001b[0;34m[\u001b[0m\u001b[0;34m:\u001b[0m\u001b[0;34m,\u001b[0m\u001b[0;36m0\u001b[0m\u001b[0;34m]\u001b[0m\u001b[0;34m,\u001b[0m\u001b[0mTestPred\u001b[0m\u001b[0;34m[\u001b[0m\u001b[0;34m:\u001b[0m\u001b[0;34m,\u001b[0m\u001b[0;36m1\u001b[0m\u001b[0;34m]\u001b[0m\u001b[0;34m\u001b[0m\u001b[0;34m\u001b[0m\u001b[0m\n\u001b[0m\u001b[1;32m      6\u001b[0m   \u001b[0mreviews\u001b[0m\u001b[0;34m.\u001b[0m\u001b[0mloc\u001b[0m\u001b[0;34m[\u001b[0m\u001b[0mstart\u001b[0m\u001b[0;34m:\u001b[0m\u001b[0mend\u001b[0m\u001b[0;34m,\u001b[0m\u001b[0;34m'pred_alarmingness'\u001b[0m\u001b[0;34m]\u001b[0m\u001b[0;34m=\u001b[0m\u001b[0mgmean\u001b[0m\u001b[0;34m(\u001b[0m\u001b[0mreviews\u001b[0m\u001b[0;34m.\u001b[0m\u001b[0mloc\u001b[0m\u001b[0;34m[\u001b[0m\u001b[0mstart\u001b[0m\u001b[0;34m:\u001b[0m\u001b[0mend\u001b[0m\u001b[0;34m,\u001b[0m\u001b[0;34m'Convincingness'\u001b[0m\u001b[0;34m,\u001b[0m\u001b[0;34m'Severity'\u001b[0m\u001b[0;34m]\u001b[0m\u001b[0;34m,\u001b[0m\u001b[0maxis\u001b[0m\u001b[0;34m=\u001b[0m\u001b[0;36m1\u001b[0m\u001b[0;34m)\u001b[0m\u001b[0;34m\u001b[0m\u001b[0;34m\u001b[0m\u001b[0m\n\u001b[1;32m      7\u001b[0m \u001b[0;34m\u001b[0m\u001b[0m\n",
            "\u001b[0;32m/usr/local/lib/python3.7/dist-packages/pandas/core/indexing.py\u001b[0m in \u001b[0;36m__setitem__\u001b[0;34m(self, key, value)\u001b[0m\n\u001b[1;32m    668\u001b[0m \u001b[0;34m\u001b[0m\u001b[0m\n\u001b[1;32m    669\u001b[0m         \u001b[0miloc\u001b[0m \u001b[0;34m=\u001b[0m \u001b[0mself\u001b[0m \u001b[0;32mif\u001b[0m \u001b[0mself\u001b[0m\u001b[0;34m.\u001b[0m\u001b[0mname\u001b[0m \u001b[0;34m==\u001b[0m \u001b[0;34m\"iloc\"\u001b[0m \u001b[0;32melse\u001b[0m \u001b[0mself\u001b[0m\u001b[0;34m.\u001b[0m\u001b[0mobj\u001b[0m\u001b[0;34m.\u001b[0m\u001b[0miloc\u001b[0m\u001b[0;34m\u001b[0m\u001b[0;34m\u001b[0m\u001b[0m\n\u001b[0;32m--> 670\u001b[0;31m         \u001b[0miloc\u001b[0m\u001b[0;34m.\u001b[0m\u001b[0m_setitem_with_indexer\u001b[0m\u001b[0;34m(\u001b[0m\u001b[0mindexer\u001b[0m\u001b[0;34m,\u001b[0m \u001b[0mvalue\u001b[0m\u001b[0;34m)\u001b[0m\u001b[0;34m\u001b[0m\u001b[0;34m\u001b[0m\u001b[0m\n\u001b[0m\u001b[1;32m    671\u001b[0m \u001b[0;34m\u001b[0m\u001b[0m\n\u001b[1;32m    672\u001b[0m     \u001b[0;32mdef\u001b[0m \u001b[0m_validate_key\u001b[0m\u001b[0;34m(\u001b[0m\u001b[0mself\u001b[0m\u001b[0;34m,\u001b[0m \u001b[0mkey\u001b[0m\u001b[0;34m,\u001b[0m \u001b[0maxis\u001b[0m\u001b[0;34m:\u001b[0m \u001b[0mint\u001b[0m\u001b[0;34m)\u001b[0m\u001b[0;34m:\u001b[0m\u001b[0;34m\u001b[0m\u001b[0;34m\u001b[0m\u001b[0m\n",
            "\u001b[0;32m/usr/local/lib/python3.7/dist-packages/pandas/core/indexing.py\u001b[0m in \u001b[0;36m_setitem_with_indexer\u001b[0;34m(self, indexer, value)\u001b[0m\n\u001b[1;32m   1599\u001b[0m                             \u001b[0mindexer\u001b[0m\u001b[0;34m,\u001b[0m \u001b[0mself\u001b[0m\u001b[0;34m.\u001b[0m\u001b[0mobj\u001b[0m\u001b[0;34m.\u001b[0m\u001b[0maxes\u001b[0m\u001b[0;34m\u001b[0m\u001b[0;34m\u001b[0m\u001b[0m\n\u001b[1;32m   1600\u001b[0m                         )\n\u001b[0;32m-> 1601\u001b[0;31m                         \u001b[0mself\u001b[0m\u001b[0;34m.\u001b[0m\u001b[0m_setitem_with_indexer\u001b[0m\u001b[0;34m(\u001b[0m\u001b[0mnew_indexer\u001b[0m\u001b[0;34m,\u001b[0m \u001b[0mvalue\u001b[0m\u001b[0;34m)\u001b[0m\u001b[0;34m\u001b[0m\u001b[0;34m\u001b[0m\u001b[0m\n\u001b[0m\u001b[1;32m   1602\u001b[0m \u001b[0;34m\u001b[0m\u001b[0m\n\u001b[1;32m   1603\u001b[0m                         \u001b[0;32mreturn\u001b[0m\u001b[0;34m\u001b[0m\u001b[0;34m\u001b[0m\u001b[0m\n",
            "\u001b[0;32m/usr/local/lib/python3.7/dist-packages/pandas/core/indexing.py\u001b[0m in \u001b[0;36m_setitem_with_indexer\u001b[0;34m(self, indexer, value)\u001b[0m\n\u001b[1;32m   1665\u001b[0m                     \u001b[0;31m# Exclude zero-len for e.g. boolean masking that is all-false\u001b[0m\u001b[0;34m\u001b[0m\u001b[0;34m\u001b[0m\u001b[0;34m\u001b[0m\u001b[0m\n\u001b[1;32m   1666\u001b[0m                     raise ValueError(\n\u001b[0;32m-> 1667\u001b[0;31m                         \u001b[0;34m\"cannot set using a multi-index \"\u001b[0m\u001b[0;34m\u001b[0m\u001b[0;34m\u001b[0m\u001b[0m\n\u001b[0m\u001b[1;32m   1668\u001b[0m                         \u001b[0;34m\"selection indexer with a different \"\u001b[0m\u001b[0;34m\u001b[0m\u001b[0;34m\u001b[0m\u001b[0m\n\u001b[1;32m   1669\u001b[0m                         \u001b[0;34m\"length than the value\"\u001b[0m\u001b[0;34m\u001b[0m\u001b[0;34m\u001b[0m\u001b[0m\n",
            "\u001b[0;31mValueError\u001b[0m: cannot set using a multi-index selection indexer with a different length than the value"
          ]
        }
      ]
    },
    {
      "cell_type": "markdown",
      "metadata": {
        "id": "Bf8xDCiOW83z"
      },
      "source": [
        "**Details of Snowball Dataset**"
      ]
    },
    {
      "cell_type": "code",
      "metadata": {
        "id": "WtQx3vN_nDfW"
      },
      "source": [
        "import pandas as pd\n",
        "df=pd.read_csv(\"/content/drive/My Drive/UIA/Snowball/ReviewsData/Lessthan10kReviewsLayer2.csv\")"
      ],
      "execution_count": null,
      "outputs": []
    },
    {
      "cell_type": "code",
      "metadata": {
        "colab": {
          "base_uri": "https://localhost:8080/"
        },
        "id": "9W6EsnKHXe_n",
        "outputId": "1598084e-735c-469e-adcd-01632880bcf9"
      },
      "source": [
        "df.shape"
      ],
      "execution_count": null,
      "outputs": [
        {
          "output_type": "execute_result",
          "data": {
            "text/plain": [
              "(1302078, 9)"
            ]
          },
          "metadata": {
            "tags": []
          },
          "execution_count": 5
        }
      ]
    },
    {
      "cell_type": "code",
      "metadata": {
        "colab": {
          "base_uri": "https://localhost:8080/"
        },
        "id": "GAe8GvrAXf40",
        "outputId": "c76786a6-759d-437c-9759-93503ab19782"
      },
      "source": [
        "len(df['appID'].unique())"
      ],
      "execution_count": null,
      "outputs": [
        {
          "output_type": "execute_result",
          "data": {
            "text/plain": [
              "2119"
            ]
          },
          "metadata": {
            "tags": []
          },
          "execution_count": 6
        }
      ]
    },
    {
      "cell_type": "code",
      "metadata": {
        "colab": {
          "base_uri": "https://localhost:8080/",
          "height": 35
        },
        "id": "6Jlo-dzyXyWI",
        "outputId": "3a7e710f-c672-4651-c69c-594b4dcdbf1f"
      },
      "source": [
        "df['timestamp'].min()"
      ],
      "execution_count": null,
      "outputs": [
        {
          "output_type": "execute_result",
          "data": {
            "application/vnd.google.colaboratory.intrinsic+json": {
              "type": "string"
            },
            "text/plain": [
              "'2008-07-25T04:08:20Z'"
            ]
          },
          "metadata": {
            "tags": []
          },
          "execution_count": 7
        }
      ]
    },
    {
      "cell_type": "code",
      "metadata": {
        "id": "_SR8K7pcYWdi",
        "colab": {
          "base_uri": "https://localhost:8080/",
          "height": 35
        },
        "outputId": "946c1094-994a-44f6-d0f2-c7dcf67b78d1"
      },
      "source": [
        "df['timestamp'].max()"
      ],
      "execution_count": null,
      "outputs": [
        {
          "output_type": "execute_result",
          "data": {
            "application/vnd.google.colaboratory.intrinsic+json": {
              "type": "string"
            },
            "text/plain": [
              "'2021-03-31T20:18:12Z'"
            ]
          },
          "metadata": {
            "tags": []
          },
          "execution_count": 8
        }
      ]
    },
    {
      "cell_type": "code",
      "metadata": {
        "id": "KD48cJ3JYYBR"
      },
      "source": [
        ""
      ],
      "execution_count": null,
      "outputs": []
    }
  ]
}