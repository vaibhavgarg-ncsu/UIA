{
  "nbformat": 4,
  "nbformat_minor": 0,
  "metadata": {
    "colab": {
      "name": "PredictRogue.ipynb",
      "provenance": [],
      "collapsed_sections": []
    },
    "kernelspec": {
      "name": "python3",
      "display_name": "Python 3"
    },
    "language_info": {
      "name": "python"
    },
    "accelerator": "TPU"
  },
  "cells": [
    {
      "cell_type": "code",
      "metadata": {
        "colab": {
          "base_uri": "https://localhost:8080/"
        },
        "id": "B3iSGU34RFha",
        "outputId": "02eb2fdd-ad78-4f7c-c1a3-90641f5a3220"
      },
      "source": [
        "from google.colab import drive\n",
        "drive.mount('/content/drive')\n",
        "!ls\n",
        "!pwd\n",
        "!cd /content/drive\n",
        "print('done')"
      ],
      "execution_count": null,
      "outputs": [
        {
          "output_type": "stream",
          "text": [
            "Mounted at /content/drive\n",
            "drive  sample_data\n",
            "/content\n",
            "done\n"
          ],
          "name": "stdout"
        }
      ]
    },
    {
      "cell_type": "code",
      "metadata": {
        "colab": {
          "base_uri": "https://localhost:8080/"
        },
        "id": "nfGV2IszRKGM",
        "outputId": "1cd6a25b-0351-45c1-8469-215b4fb7339d"
      },
      "source": [
        "cd \"/content/drive/My Drive/UIA/Snowball\""
      ],
      "execution_count": null,
      "outputs": [
        {
          "output_type": "stream",
          "text": [
            "/content/drive/My Drive/UIA/Snowball\n"
          ],
          "name": "stdout"
        }
      ]
    },
    {
      "cell_type": "code",
      "metadata": {
        "id": "Sa6NW4bvTDPP"
      },
      "source": [
        "import pandas as pd\n"
      ],
      "execution_count": null,
      "outputs": []
    },
    {
      "cell_type": "code",
      "metadata": {
        "colab": {
          "base_uri": "https://localhost:8080/"
        },
        "id": "94eUmKO4j5d6",
        "outputId": "c9f77cc7-7d93-47c7-aa13-7961951c6966"
      },
      "source": [
        "ls"
      ],
      "execution_count": null,
      "outputs": [
        {
          "output_type": "stream",
          "text": [
            "AlarmignessPrediction.ipynb      SnowballLayer2Reviews1.csv\n",
            "CrawlReviews.ipynb               SnowballLayer2Reviews2.csv\n",
            "GetSimilarApps_FirstLayer.ipynb  SnowballLayer2Reviews3.csv\n",
            "\u001b[0m\u001b[01;34mlib\u001b[0m/                             SnowBallTill15kLayer2.db\n",
            "\u001b[01;34mReviewsData\u001b[0m/                     SnowBallTill25kLayer2.db\n",
            "Rogue.ipynb                      UIAESeeds.csv\n",
            "SimilarUIAELayer2.csv\n"
          ],
          "name": "stdout"
        }
      ]
    },
    {
      "cell_type": "code",
      "metadata": {
        "colab": {
          "base_uri": "https://localhost:8080/"
        },
        "id": "vgwS4N6Uj_Pz",
        "outputId": "d36c24fb-9666-4551-9468-8e12658d09c3"
      },
      "source": [
        "# cd \"/content/drive/My Drive/UIA/Rougue Score/ReviewsData\""
      ],
      "execution_count": null,
      "outputs": [
        {
          "output_type": "stream",
          "text": [
            "/content/drive/My Drive/UIA/Rougue Score/ReviewsData\n"
          ],
          "name": "stdout"
        }
      ]
    },
    {
      "cell_type": "code",
      "metadata": {
        "colab": {
          "base_uri": "https://localhost:8080/"
        },
        "id": "oIaSWWy_R9_q",
        "outputId": "3bc1e316-dfb9-4018-bfa5-68611584a828"
      },
      "source": [
        "predicted=pd.read_csv(\"/content/drive/My Drive/UIA/Snowball/ReviewsData/PredictedReviesTillSnowball1Apps.csv\",index_col=0)\n",
        "# predicted2=pd.read_csv(\"/content/drive/My Drive/UIA/Rougue Score/ReviewsData/PredictedReviesTill700Apps.csv\",index_col=0)\n",
        "# predicted3=pd.read_csv(\"/content/drive/My Drive/UIA/Rougue Score/ReviewsData/PredictedReviesTill1000Apps.csv\",index_col=0)\n",
        "# predicted4=pd.read_csv(\"/content/drive/My Drive/UIA/Rougue Score/ReviewsData/PredictedReviesTill1200Apps.csv\",index_col=0)\n",
        "# predicted5=pd.read_csv(\"/content/drive/My Drive/UIA/Rougue Score/ReviewsData/PredictedReviesTill1300Apps.csv\",index_col=0)\n",
        "# predicted6=pd.read_csv(\"/content/drive/My Drive/UIA/Rougue Score/ReviewsData/PredictedReviesTill1400Apps.csv\",index_col=0)\n",
        "# predicted7=pd.read_csv(\"/content/drive/My Drive/UIA/Rougue Score/ReviewsData/PredictedReviesTill1600Apps.csv\",index_col=0)\n",
        "# predicted8=pd.read_csv(\"/content/drive/My Drive/UIA/Rougue Score/ReviewsData/PredictedReviesTill1687Apps.csv\",index_col=0)"
      ],
      "execution_count": null,
      "outputs": [
        {
          "output_type": "stream",
          "text": [
            "/usr/local/lib/python3.7/dist-packages/numpy/lib/arraysetops.py:580: FutureWarning: elementwise comparison failed; returning scalar instead, but in the future will perform elementwise comparison\n",
            "  mask |= (ar1 == a)\n"
          ],
          "name": "stderr"
        }
      ]
    },
    {
      "cell_type": "code",
      "metadata": {
        "id": "jaLpwRBGhlzZ"
      },
      "source": [
        "# predicted=pd.concat([predicted1,predicted2,predicted3,predicted4,predicted5,predicted6,predicted7,predicted8],axis=0)"
      ],
      "execution_count": null,
      "outputs": []
    },
    {
      "cell_type": "code",
      "metadata": {
        "id": "rhwKpD3fTR_l"
      },
      "source": [
        ""
      ],
      "execution_count": null,
      "outputs": []
    },
    {
      "cell_type": "code",
      "metadata": {
        "id": "aK0wHbm6i4mv"
      },
      "source": [
        "predicted=predicted[~predicted['appID'].isna()]"
      ],
      "execution_count": null,
      "outputs": []
    },
    {
      "cell_type": "code",
      "metadata": {
        "colab": {
          "base_uri": "https://localhost:8080/"
        },
        "id": "YLCAeGPQlvBI",
        "outputId": "d9b036b8-588a-478a-8559-373215a7b50e"
      },
      "source": [
        "predicted.shape"
      ],
      "execution_count": null,
      "outputs": [
        {
          "output_type": "execute_result",
          "data": {
            "text/plain": [
              "(1302078, 11)"
            ]
          },
          "metadata": {
            "tags": []
          },
          "execution_count": 10
        }
      ]
    },
    {
      "cell_type": "code",
      "metadata": {
        "id": "sn_zV9VzhmxW"
      },
      "source": [
        "predicted.sort_values(['appID','pred_alarmingness'],ascending=False,inplace=True)\n",
        "grp=predicted[['appID','body','pred_alarmingness']].groupby(['appID']).head(5)\n",
        "\n",
        "predicted.reset_index(drop=True,inplace=True)"
      ],
      "execution_count": null,
      "outputs": []
    },
    {
      "cell_type": "code",
      "metadata": {
        "id": "ojXSeBFEjCP-"
      },
      "source": [
        "# grp.reset_index(drop=True,inplace=True)\n",
        "# grp.to_csv(\"Top5ReviewsTill500Apps.csv\")"
      ],
      "execution_count": null,
      "outputs": []
    },
    {
      "cell_type": "code",
      "metadata": {
        "colab": {
          "base_uri": "https://localhost:8080/"
        },
        "id": "MLC3yAxHUR1o",
        "outputId": "5b19cf1f-68d8-4b03-efc4-a555f39e2960"
      },
      "source": [
        "len(predicted['appID'].unique())"
      ],
      "execution_count": null,
      "outputs": [
        {
          "output_type": "execute_result",
          "data": {
            "text/plain": [
              "2119"
            ]
          },
          "metadata": {
            "tags": []
          },
          "execution_count": 12
        }
      ]
    },
    {
      "cell_type": "code",
      "metadata": {
        "colab": {
          "base_uri": "https://localhost:8080/"
        },
        "id": "ncmLEGImUb55",
        "outputId": "b1f801bb-bd39-44e6-c6be-1d54d48dcb9d"
      },
      "source": [
        "predicted.columns"
      ],
      "execution_count": null,
      "outputs": [
        {
          "output_type": "execute_result",
          "data": {
            "text/plain": [
              "Index(['recordID', 'reviewID', 'appID', 'timestamp', 'rating', 'name', 'title',\n",
              "       'body', 'Convincingness', 'Severity', 'pred_alarmingness'],\n",
              "      dtype='object')"
            ]
          },
          "metadata": {
            "tags": []
          },
          "execution_count": 13
        }
      ]
    },
    {
      "cell_type": "code",
      "metadata": {
        "colab": {
          "base_uri": "https://localhost:8080/"
        },
        "id": "fEXXtJrUmOOC",
        "outputId": "5f6bdace-04e9-48fc-b783-e7db09bfcedc"
      },
      "source": [
        "predicted.shape"
      ],
      "execution_count": null,
      "outputs": [
        {
          "output_type": "execute_result",
          "data": {
            "text/plain": [
              "(1302078, 11)"
            ]
          },
          "metadata": {
            "tags": []
          },
          "execution_count": 14
        }
      ]
    },
    {
      "cell_type": "code",
      "metadata": {
        "id": "ErOPD1D4m58t"
      },
      "source": [
        "#### Replacing NAN with 1\n",
        "predicted['pred_alarmingness'].fillna(1,inplace=True)"
      ],
      "execution_count": null,
      "outputs": []
    },
    {
      "cell_type": "code",
      "metadata": {
        "id": "8S9SO9NcnaWu"
      },
      "source": [
        "predicted['pred_alarmingness']=predicted['pred_alarmingness'].astype(float)"
      ],
      "execution_count": null,
      "outputs": []
    },
    {
      "cell_type": "code",
      "metadata": {
        "id": "wpDiryiKTCap"
      },
      "source": [
        "\n",
        "b2=1\n",
        "b3=2\n",
        "b4=3\n",
        "b5=4\n",
        "b6=5\n",
        "\n",
        "\n",
        "# bucket1=predicted.loc[(predicted['pred_alarmingness']>=b1) & (predicted['pred_alarmingness']<b2),'pred_alarmingness']\n",
        "bucket2=predicted.loc[(predicted['pred_alarmingness']>=b2) & (predicted['pred_alarmingness']<b3),'pred_alarmingness']\n",
        "bucket3=predicted.loc[(predicted['pred_alarmingness']>=b3) & (predicted['pred_alarmingness']<b4),'pred_alarmingness']\n",
        "bucket4=predicted.loc[(predicted['pred_alarmingness']>=b4) & (predicted['pred_alarmingness']<b5),'pred_alarmingness']\n",
        "bucket5=predicted.loc[(predicted['pred_alarmingness']>=b5) ,'pred_alarmingness']"
      ],
      "execution_count": null,
      "outputs": []
    },
    {
      "cell_type": "code",
      "metadata": {
        "id": "FGW9puaGVXWG"
      },
      "source": [
        "import numpy as np\n"
      ],
      "execution_count": null,
      "outputs": []
    },
    {
      "cell_type": "code",
      "metadata": {
        "id": "QbfcOW6kWuzL"
      },
      "source": [
        "### Using old weights\n",
        "nw2=0.00003880405636684371\n",
        "nw3=0.00018591143593279933\n",
        "nw4=0.006666054838481902\n",
        "nw5=0.9931092296692184"
      ],
      "execution_count": null,
      "outputs": []
    },
    {
      "cell_type": "code",
      "metadata": {
        "id": "zSlXB7IaXLJ4"
      },
      "source": [
        "ncount_w4=0.006667553140968409\n",
        "ncount_w5=0.9933324468590317"
      ],
      "execution_count": null,
      "outputs": []
    },
    {
      "cell_type": "code",
      "metadata": {
        "id": "jZknADEmYGQb"
      },
      "source": [
        "# FilteredApps=predicted.loc[predicted['pred_alarmingness']>=b4,'appID'].unique()"
      ],
      "execution_count": null,
      "outputs": []
    },
    {
      "cell_type": "code",
      "metadata": {
        "id": "fIiUmlEmevjV"
      },
      "source": [
        "#### Assigning weights to each review score\n",
        "predicted.loc[(predicted['pred_alarmingness']<b3),'weight']= nw2\n",
        "predicted.loc[(predicted['pred_alarmingness']>=b3) & (predicted['pred_alarmingness']<b4),'weight']= nw3\n",
        "\n",
        "predicted.loc[(predicted['pred_alarmingness']>=b4) & (predicted['pred_alarmingness']<b5),'weight']= nw4\n",
        "predicted.loc[(predicted['pred_alarmingness']>=b5),'weight']= nw5"
      ],
      "execution_count": null,
      "outputs": []
    },
    {
      "cell_type": "code",
      "metadata": {
        "colab": {
          "base_uri": "https://localhost:8080/"
        },
        "id": "OjKbrJPyhZ_s",
        "outputId": "6b834129-c991-4dfc-8454-371668b30aec"
      },
      "source": [
        "predicted['weight'].unique()"
      ],
      "execution_count": null,
      "outputs": [
        {
          "output_type": "execute_result",
          "data": {
            "text/plain": [
              "array([1.85911436e-04, 3.88040564e-05, 6.66605484e-03, 9.93109230e-01])"
            ]
          },
          "metadata": {
            "tags": []
          },
          "execution_count": 22
        }
      ]
    },
    {
      "cell_type": "code",
      "metadata": {
        "id": "QsRuWNZYSFL2"
      },
      "source": [
        "### Replace Nan with the lowest weight\n",
        "# predicted['weight'].fillna(nw2,inplace=True)"
      ],
      "execution_count": null,
      "outputs": []
    },
    {
      "cell_type": "code",
      "metadata": {
        "id": "SmlXdPezgdYG"
      },
      "source": [
        "from numpy import average"
      ],
      "execution_count": null,
      "outputs": []
    },
    {
      "cell_type": "code",
      "metadata": {
        "id": "roHzPNXgZ3MO"
      },
      "source": [
        "RogueScore=pd.DataFrame()\n",
        "counter=0\n",
        "\n",
        "for app in predicted['appID'].unique():\n",
        "  print(app)\n",
        "  alarmingness_score=predicted.loc[(predicted['appID']==app),'pred_alarmingness']\n",
        "  count_bucket4=predicted.loc[(predicted['appID']==app)&(predicted['pred_alarmingness']>=b4) & (predicted['pred_alarmingness']<b5),:].shape[0]\n",
        "  count_bucket5=predicted[(predicted['appID']==app)&(predicted['pred_alarmingness']>=b5) & (predicted['pred_alarmingness']<b6)].shape[0]\n",
        "\n",
        "\n",
        "  weight=predicted.loc[(predicted['appID']==app),'weight']\n",
        "  print(alarmingness_score)\n",
        "  rogue1=average(alarmingness_score, weights = weight)\n",
        "  # if count_bucket4==0:\n",
        "  #   rogue2=average([count_bucket5], weights = [1/p5])\n",
        "  # elif count_bucket5==0:\n",
        "  #   rogue2=average([count_bucket4], weights = [1/p4])\n",
        "  # else: \n",
        "  rogue2=average([count_bucket4,count_bucket5], weights = [ncount_w4, ncount_w5])\n",
        "\n",
        "  print(rogue1,rogue2)\n",
        "  RogueScore.loc[counter,'appID']=app\n",
        "  RogueScore.loc[counter,'rogue_alarmingness']=rogue1\n",
        "  RogueScore.loc[counter,'rogue_count']=rogue2\n",
        "  counter+=1\n",
        "\n",
        "\n",
        "# RogueScore['appID']=app\n",
        "# RogueScore['rogue']=rogue\n",
        "\n"
      ],
      "execution_count": null,
      "outputs": []
    },
    {
      "cell_type": "code",
      "metadata": {
        "id": "QD4kXp1emKU4"
      },
      "source": [
        "RogueScore.sort_values(['rogue_alarmingness'],ascending=False,inplace=True)"
      ],
      "execution_count": null,
      "outputs": []
    },
    {
      "cell_type": "code",
      "metadata": {
        "colab": {
          "base_uri": "https://localhost:8080/",
          "height": 402
        },
        "id": "I6PNPIiyXm8J",
        "outputId": "9bae07b2-0c3a-46da-fd2c-f2d025f965e5"
      },
      "source": [
        "RogueScore"
      ],
      "execution_count": null,
      "outputs": [
        {
          "output_type": "execute_result",
          "data": {
            "text/html": [
              "<div>\n",
              "<style scoped>\n",
              "    .dataframe tbody tr th:only-of-type {\n",
              "        vertical-align: middle;\n",
              "    }\n",
              "\n",
              "    .dataframe tbody tr th {\n",
              "        vertical-align: top;\n",
              "    }\n",
              "\n",
              "    .dataframe thead th {\n",
              "        text-align: right;\n",
              "    }\n",
              "</style>\n",
              "<table border=\"1\" class=\"dataframe\">\n",
              "  <thead>\n",
              "    <tr style=\"text-align: right;\">\n",
              "      <th></th>\n",
              "      <th>appID</th>\n",
              "      <th>rogue_alarmingness</th>\n",
              "      <th>rogue_count</th>\n",
              "    </tr>\n",
              "  </thead>\n",
              "  <tbody>\n",
              "    <tr>\n",
              "      <th>150</th>\n",
              "      <td>1.491781e+09</td>\n",
              "      <td>4.373912</td>\n",
              "      <td>0.993332</td>\n",
              "    </tr>\n",
              "    <tr>\n",
              "      <th>274</th>\n",
              "      <td>1.470944e+09</td>\n",
              "      <td>4.370866</td>\n",
              "      <td>1.040005</td>\n",
              "    </tr>\n",
              "    <tr>\n",
              "      <th>221</th>\n",
              "      <td>1.477619e+09</td>\n",
              "      <td>4.157790</td>\n",
              "      <td>50.233497</td>\n",
              "    </tr>\n",
              "    <tr>\n",
              "      <th>680</th>\n",
              "      <td>1.349692e+09</td>\n",
              "      <td>4.130848</td>\n",
              "      <td>2.006668</td>\n",
              "    </tr>\n",
              "    <tr>\n",
              "      <th>684</th>\n",
              "      <td>1.348097e+09</td>\n",
              "      <td>4.093554</td>\n",
              "      <td>6.300040</td>\n",
              "    </tr>\n",
              "    <tr>\n",
              "      <th>...</th>\n",
              "      <td>...</td>\n",
              "      <td>...</td>\n",
              "      <td>...</td>\n",
              "    </tr>\n",
              "    <tr>\n",
              "      <th>737</th>\n",
              "      <td>1.319311e+09</td>\n",
              "      <td>1.055860</td>\n",
              "      <td>0.000000</td>\n",
              "    </tr>\n",
              "    <tr>\n",
              "      <th>455</th>\n",
              "      <td>1.441846e+09</td>\n",
              "      <td>1.015748</td>\n",
              "      <td>0.000000</td>\n",
              "    </tr>\n",
              "    <tr>\n",
              "      <th>526</th>\n",
              "      <td>1.428574e+09</td>\n",
              "      <td>0.825708</td>\n",
              "      <td>0.000000</td>\n",
              "    </tr>\n",
              "    <tr>\n",
              "      <th>1571</th>\n",
              "      <td>9.152393e+08</td>\n",
              "      <td>0.822213</td>\n",
              "      <td>0.000000</td>\n",
              "    </tr>\n",
              "    <tr>\n",
              "      <th>1046</th>\n",
              "      <td>1.164837e+09</td>\n",
              "      <td>0.731329</td>\n",
              "      <td>0.000000</td>\n",
              "    </tr>\n",
              "  </tbody>\n",
              "</table>\n",
              "<p>2119 rows × 3 columns</p>\n",
              "</div>"
            ],
            "text/plain": [
              "             appID  rogue_alarmingness  rogue_count\n",
              "150   1.491781e+09            4.373912     0.993332\n",
              "274   1.470944e+09            4.370866     1.040005\n",
              "221   1.477619e+09            4.157790    50.233497\n",
              "680   1.349692e+09            4.130848     2.006668\n",
              "684   1.348097e+09            4.093554     6.300040\n",
              "...            ...                 ...          ...\n",
              "737   1.319311e+09            1.055860     0.000000\n",
              "455   1.441846e+09            1.015748     0.000000\n",
              "526   1.428574e+09            0.825708     0.000000\n",
              "1571  9.152393e+08            0.822213     0.000000\n",
              "1046  1.164837e+09            0.731329     0.000000\n",
              "\n",
              "[2119 rows x 3 columns]"
            ]
          },
          "metadata": {
            "tags": []
          },
          "execution_count": 26
        }
      ]
    },
    {
      "cell_type": "code",
      "metadata": {
        "id": "ac37OUNarU6V"
      },
      "source": [
        "RogueScore.reset_index(drop=True,inplace=True)"
      ],
      "execution_count": null,
      "outputs": []
    },
    {
      "cell_type": "code",
      "metadata": {
        "colab": {
          "base_uri": "https://localhost:8080/"
        },
        "id": "unND1sB5rfBZ",
        "outputId": "c13da82a-7802-4fa1-ee17-5c95af596c73"
      },
      "source": [
        "RogueScore.shape"
      ],
      "execution_count": null,
      "outputs": [
        {
          "output_type": "execute_result",
          "data": {
            "text/plain": [
              "(2119, 3)"
            ]
          },
          "metadata": {
            "tags": []
          },
          "execution_count": 28
        }
      ]
    },
    {
      "cell_type": "code",
      "metadata": {
        "id": "G9lBgnaTb1ma"
      },
      "source": [
        ""
      ],
      "execution_count": null,
      "outputs": []
    },
    {
      "cell_type": "code",
      "metadata": {
        "id": "56Os7-htkz7r"
      },
      "source": [
        "# RogueScore.sort_values(['rogue_alarmingness'],ascending=False,inplace=True)\n",
        "# RogueScore.reset_index(drop=True,inplace=True)\n",
        "# RogueScore.rename(columns={'appName_x':'appName','relevant':'IPS','final':'OldLabel'},inplace=True)"
      ],
      "execution_count": null,
      "outputs": []
    },
    {
      "cell_type": "code",
      "metadata": {
        "id": "5T9DIcOKgZcm"
      },
      "source": [
        "RogueScore.to_csv(\"RogueScoresTillSnowball1Apps.csv\")"
      ],
      "execution_count": null,
      "outputs": []
    },
    {
      "cell_type": "code",
      "metadata": {
        "id": "MjCdbV-t28nC"
      },
      "source": [
        "import numpy as np"
      ],
      "execution_count": null,
      "outputs": []
    },
    {
      "cell_type": "code",
      "metadata": {
        "id": "a4I8akf4Ye5C"
      },
      "source": [
        "TrainRogueScore=pd.read_csv(\"/content/drive/My Drive/UIA/Rougue Score/RogueScoresTill1687Apps.csv\",index_col=0)"
      ],
      "execution_count": null,
      "outputs": []
    },
    {
      "cell_type": "code",
      "metadata": {
        "colab": {
          "base_uri": "https://localhost:8080/"
        },
        "id": "Jfxth3teY2QS",
        "outputId": "eec01d19-bb9c-4b47-9364-b8f34568b2fd"
      },
      "source": [
        "TrainRogueScore.shape"
      ],
      "execution_count": null,
      "outputs": [
        {
          "output_type": "execute_result",
          "data": {
            "text/plain": [
              "(1687, 10)"
            ]
          },
          "metadata": {
            "tags": []
          },
          "execution_count": 36
        }
      ]
    },
    {
      "cell_type": "code",
      "metadata": {
        "id": "oyqfZ2_K9jiW"
      },
      "source": [
        "std=TrainRogueScore['rogue_count'].std()\n",
        "mean=TrainRogueScore['rogue_count'].mean()\n",
        "HighEnd=mean+3*std"
      ],
      "execution_count": null,
      "outputs": []
    },
    {
      "cell_type": "code",
      "metadata": {
        "colab": {
          "base_uri": "https://localhost:8080/"
        },
        "id": "yiufbMZKYzSH",
        "outputId": "53baeba7-4651-4c79-e698-5e4c3ea19eac"
      },
      "source": [
        "HighEnd"
      ],
      "execution_count": null,
      "outputs": [
        {
          "output_type": "execute_result",
          "data": {
            "text/plain": [
              "4.372568900655804"
            ]
          },
          "metadata": {
            "tags": []
          },
          "execution_count": 35
        }
      ]
    },
    {
      "cell_type": "code",
      "metadata": {
        "id": "Xxdnq6UbY7ci"
      },
      "source": [
        "RogueScore['rogue_count'].unique()"
      ],
      "execution_count": null,
      "outputs": []
    },
    {
      "cell_type": "code",
      "metadata": {
        "id": "RNc8fFde-lKV"
      },
      "source": [
        "RogueScore.loc[RogueScore['rogue_count']>=HighEnd,'rogue_count']=HighEnd"
      ],
      "execution_count": null,
      "outputs": []
    },
    {
      "cell_type": "code",
      "metadata": {
        "id": "3EEkg6u2_xw6"
      },
      "source": [
        "RogueScore['normalized_rogue_count']=RogueScore['rogue_count']"
      ],
      "execution_count": null,
      "outputs": []
    },
    {
      "cell_type": "code",
      "metadata": {
        "id": "Njcq35gX_uX9"
      },
      "source": [
        "max=5\n",
        "min=1\n",
        "\n",
        "X_std = (RogueScore['normalized_rogue_count'] - TrainRogueScore['normalized_rogue_count'].min(axis=0)) / (TrainRogueScore['normalized_rogue_count'].max(axis=0) - TrainRogueScore['normalized_rogue_count'].min(axis=0))\n",
        "RogueScore['normalized_rogue_count'] = X_std * (max - min) + min"
      ],
      "execution_count": null,
      "outputs": []
    },
    {
      "cell_type": "code",
      "metadata": {
        "colab": {
          "base_uri": "https://localhost:8080/"
        },
        "id": "78blxifyABfA",
        "outputId": "284753f4-60be-4afa-c3fb-d944446f4d6c"
      },
      "source": [
        "print(RogueScore['normalized_rogue_count'].min())\n",
        "print(RogueScore['normalized_rogue_count'].max())"
      ],
      "execution_count": null,
      "outputs": [
        {
          "output_type": "stream",
          "text": [
            "0.0\n",
            "4.372568900655804\n"
          ],
          "name": "stdout"
        }
      ]
    },
    {
      "cell_type": "code",
      "metadata": {
        "id": "Aa-kXIZBJUwo"
      },
      "source": [
        "RogueScore.reset_index(drop=True,inplace=True)"
      ],
      "execution_count": null,
      "outputs": []
    },
    {
      "cell_type": "code",
      "metadata": {
        "id": "bYyC5bfKvkJb"
      },
      "source": [
        "RogueScore.to_csv(\"RogueScoresTillSnowball1Apps.csv\")"
      ],
      "execution_count": null,
      "outputs": []
    },
    {
      "cell_type": "code",
      "metadata": {
        "colab": {
          "base_uri": "https://localhost:8080/"
        },
        "id": "T31K14p3KgcG",
        "outputId": "15566fac-7a7e-47aa-e6e6-38e9d7db012c"
      },
      "source": [
        "RogueScore.index"
      ],
      "execution_count": null,
      "outputs": [
        {
          "output_type": "execute_result",
          "data": {
            "text/plain": [
              "RangeIndex(start=0, stop=1687, step=1)"
            ]
          },
          "metadata": {
            "tags": []
          },
          "execution_count": 32
        }
      ]
    },
    {
      "cell_type": "code",
      "metadata": {
        "id": "0mFt-M8tAidp",
        "colab": {
          "base_uri": "https://localhost:8080/"
        },
        "outputId": "4b02010a-369b-45fb-aa58-0c8ebb729811"
      },
      "source": [
        "from scipy.stats.mstats import gmean\n",
        "\n",
        "RogueScore['ROGUE']=gmean(RogueScore[['rogue_alarmingness','normalized_rogue_count']],axis=1)"
      ],
      "execution_count": null,
      "outputs": [
        {
          "output_type": "stream",
          "text": [
            "/usr/local/lib/python3.7/dist-packages/scipy/stats/stats.py:330: RuntimeWarning: divide by zero encountered in log\n",
            "  log_a = np.log(np.array(a, dtype=dtype))\n"
          ],
          "name": "stderr"
        }
      ]
    },
    {
      "cell_type": "code",
      "metadata": {
        "id": "YUv4FUx-A5pI"
      },
      "source": [
        "RogueScore.sort_values(by='ROGUE',ascending=False,inplace=True)"
      ],
      "execution_count": null,
      "outputs": []
    },
    {
      "cell_type": "code",
      "metadata": {
        "id": "lJByfJSVBJCJ"
      },
      "source": [
        "RogueScore.reset_index(drop=True,inplace=True)"
      ],
      "execution_count": null,
      "outputs": []
    },
    {
      "cell_type": "code",
      "metadata": {
        "id": "cDTBtkDrZuih"
      },
      "source": [
        "RogueScore.to_csv(\"RogueScoresTillSnowball1Apps.csv\")"
      ],
      "execution_count": null,
      "outputs": []
    },
    {
      "cell_type": "code",
      "metadata": {
        "id": "BdFlizbYbHFX"
      },
      "source": [
        "relevant=predicted[predicted['pred_alarmingness']>=3]\n",
        "\n"
      ],
      "execution_count": null,
      "outputs": []
    },
    {
      "cell_type": "code",
      "metadata": {
        "colab": {
          "base_uri": "https://localhost:8080/"
        },
        "id": "dUDW35BEbuy0",
        "outputId": "7cb264af-594f-4c2c-f351-d9195266e444"
      },
      "source": [
        "relevant.sort_values(by=['appID','pred_alarmingness'],ascending=False,inplace=True)"
      ],
      "execution_count": null,
      "outputs": [
        {
          "output_type": "stream",
          "text": [
            "/usr/local/lib/python3.7/dist-packages/ipykernel_launcher.py:1: SettingWithCopyWarning: \n",
            "A value is trying to be set on a copy of a slice from a DataFrame\n",
            "\n",
            "See the caveats in the documentation: https://pandas.pydata.org/pandas-docs/stable/user_guide/indexing.html#returning-a-view-versus-a-copy\n",
            "  \"\"\"Entry point for launching an IPython kernel.\n"
          ],
          "name": "stderr"
        }
      ]
    },
    {
      "cell_type": "code",
      "metadata": {
        "id": "gyMUrQGVWrEx"
      },
      "source": [
        "relevant.reset_index(drop=True,inplace=True)\n",
        "relevant.to_csv(\"RelevantReviewsSnowball1Apps.csv\")"
      ],
      "execution_count": null,
      "outputs": []
    },
    {
      "cell_type": "code",
      "metadata": {
        "colab": {
          "base_uri": "https://localhost:8080/",
          "height": 279
        },
        "id": "ZOzHFkzQJ2Ej",
        "outputId": "2ee35d62-9b18-4a89-ef13-d8f637ff5b9a"
      },
      "source": [
        "#### \n",
        "plt.xlabel(\"App Numbers (Seed DataSet)\")\n",
        "plt.ylabel(\"Rogue Score\")\n",
        "\n",
        "plt.scatter(RogueScore.index +1,RogueScore['ROGUE'])\n",
        "plt.savefig(\"RogueScorePlot.pdf\")"
      ],
      "execution_count": null,
      "outputs": [
        {
          "output_type": "display_data",
          "data": {
            "image/png": "[encoded data removed]",
            "text/plain": [
              "<Figure size 432x288 with 1 Axes>"
            ]
          },
          "metadata": {
            "tags": [],
            "needs_background": "light"
          }
        }
      ]
    },
    {
      "cell_type": "code",
      "metadata": {
        "id": "JGzdCSuWJ5hv"
      },
      "source": [
        "RogueScore.to_csv(\"RogueScoresTill1687Apps.csv\")"
      ],
      "execution_count": null,
      "outputs": []
    },
    {
      "cell_type": "code",
      "metadata": {
        "id": "I-wjXXWRBXq0"
      },
      "source": [
        "from numpy import matlib as mb\n",
        "\n",
        "curve = RogueScore['ROGUE']\n",
        "nPoints = len(curve)\n",
        "allCoord = np.vstack((range(nPoints), curve)).T\n",
        "np.array([range(nPoints), curve])\n",
        "firstPoint = allCoord[0]\n",
        "lineVec = allCoord[-1] - allCoord[0]\n",
        "lineVecNorm = lineVec / np.sqrt(np.sum(lineVec**2))\n",
        "vecFromFirst = allCoord - firstPoint\n",
        "scalarProduct = np.sum(vecFromFirst * mb.repmat(lineVecNorm, nPoints, 1), axis=1)\n",
        "vecFromFirstParallel = np.outer(scalarProduct, lineVecNorm)\n",
        "vecToLine = vecFromFirst - vecFromFirstParallel\n",
        "distToLine = np.sqrt(np.sum(vecToLine ** 2, axis=1))\n",
        "idxOfBestPoint = np.argmax(distToLine)"
      ],
      "execution_count": null,
      "outputs": []
    },
    {
      "cell_type": "code",
      "metadata": {
        "colab": {
          "base_uri": "https://localhost:8080/"
        },
        "id": "tmF5vpYdBwTC",
        "outputId": "c2b6f5c8-7e76-4658-8db2-771658acc170"
      },
      "source": [
        "idxOfBestPoint"
      ],
      "execution_count": null,
      "outputs": [
        {
          "output_type": "execute_result",
          "data": {
            "text/plain": [
              "74"
            ]
          },
          "metadata": {
            "tags": []
          },
          "execution_count": 42
        }
      ]
    },
    {
      "cell_type": "code",
      "metadata": {
        "colab": {
          "base_uri": "https://localhost:8080/"
        },
        "id": "m4hgy16nC2xz",
        "outputId": "ec88996e-e8d3-4e51-f25f-5e1fd89b7278"
      },
      "source": [
        "knee=curve[idxOfBestPoint]\n",
        "knee"
      ],
      "execution_count": null,
      "outputs": [
        {
          "output_type": "execute_result",
          "data": {
            "text/plain": [
              "1.8086903242931933"
            ]
          },
          "metadata": {
            "tags": []
          },
          "execution_count": 45
        }
      ]
    },
    {
      "cell_type": "code",
      "metadata": {
        "id": "LAja9nyoyVwn"
      },
      "source": [
        "knee=1.80869"
      ],
      "execution_count": null,
      "outputs": []
    },
    {
      "cell_type": "code",
      "metadata": {
        "colab": {
          "base_uri": "https://localhost:8080/"
        },
        "id": "zQRB9YVzC9Xy",
        "outputId": "9777d6d2-2174-4fc6-d75c-c931dbd295c1"
      },
      "source": [
        "RogueScore[RogueScore['ROGUE']>=knee].shape"
      ],
      "execution_count": null,
      "outputs": [
        {
          "output_type": "execute_result",
          "data": {
            "text/plain": [
              "(75, 11)"
            ]
          },
          "metadata": {
            "tags": []
          },
          "execution_count": 46
        }
      ]
    },
    {
      "cell_type": "code",
      "metadata": {
        "colab": {
          "base_uri": "https://localhost:8080/"
        },
        "id": "jj-yzMl-DJhx",
        "outputId": "984ca6e6-f687-4896-d557-49e31fe25b6a"
      },
      "source": [
        "RogueScore[(RogueScore['ROGUE']>=knee)&(RogueScore['OldLabel']==1)].shape"
      ],
      "execution_count": null,
      "outputs": [
        {
          "output_type": "execute_result",
          "data": {
            "text/plain": [
              "(41, 11)"
            ]
          },
          "metadata": {
            "tags": []
          },
          "execution_count": 47
        }
      ]
    },
    {
      "cell_type": "code",
      "metadata": {
        "colab": {
          "base_uri": "https://localhost:8080/"
        },
        "id": "LI13r1u_DYa3",
        "outputId": "93708605-2842-423a-a8bb-b7a646ddc812"
      },
      "source": [
        "RogueScore[(RogueScore['ROGUE']>=knee)&(RogueScore['IPS']==\"y\")].shape"
      ],
      "execution_count": null,
      "outputs": [
        {
          "output_type": "execute_result",
          "data": {
            "text/plain": [
              "(26, 11)"
            ]
          },
          "metadata": {
            "tags": []
          },
          "execution_count": 48
        }
      ]
    },
    {
      "cell_type": "code",
      "metadata": {
        "colab": {
          "base_uri": "https://localhost:8080/"
        },
        "id": "tEJELvE6yTtv",
        "outputId": "c09cb208-1b22-4214-dad1-485aa417880f"
      },
      "source": [
        "RogueScore[RogueScore['ROGUE']>=1.243888382].shape"
      ],
      "execution_count": null,
      "outputs": [
        {
          "output_type": "execute_result",
          "data": {
            "text/plain": [
              "(1561, 11)"
            ]
          },
          "metadata": {
            "tags": []
          },
          "execution_count": 50
        }
      ]
    },
    {
      "cell_type": "code",
      "metadata": {
        "colab": {
          "base_uri": "https://localhost:8080/"
        },
        "id": "OVdBViFgDeWK",
        "outputId": "48ceab95-5f8a-457f-b572-2868b647ae54"
      },
      "source": [
        "RogueScore['ROGUE'].describe()"
      ],
      "execution_count": null,
      "outputs": [
        {
          "output_type": "execute_result",
          "data": {
            "text/plain": [
              "count    1687.000000\n",
              "mean        1.469443\n",
              "std         0.256669\n",
              "min         0.909194\n",
              "25%         1.343430\n",
              "50%         1.413040\n",
              "75%         1.520889\n",
              "max         4.442099\n",
              "Name: ROGUE, dtype: float64"
            ]
          },
          "metadata": {
            "tags": []
          },
          "execution_count": 50
        }
      ]
    },
    {
      "cell_type": "markdown",
      "metadata": {
        "id": "FXY8lmUnECnk"
      },
      "source": [
        "**CALCULATE USING LOOSE THRESHOLD**"
      ]
    },
    {
      "cell_type": "code",
      "metadata": {
        "id": "JqivtoG5V8q8"
      },
      "source": [
        "RogueScore=pd.read_csv(\"RogueScoresTill1687Apps.csv\")"
      ],
      "execution_count": null,
      "outputs": []
    },
    {
      "cell_type": "code",
      "metadata": {
        "id": "Md_DJ41sDppR"
      },
      "source": [
        "RogueScore[(RogueScore['rogue_alarmingness']>=3)&(RogueScore['rogue_count']>0)].shape\n",
        "Potential=RogueScore.loc[(RogueScore['rogue_count']>0),'appID']"
      ],
      "execution_count": null,
      "outputs": []
    },
    {
      "cell_type": "code",
      "metadata": {
        "colab": {
          "base_uri": "https://localhost:8080/"
        },
        "id": "4P7oNJioFQMX",
        "outputId": "df7e64ec-541a-4316-801d-e250de044590"
      },
      "source": [
        "RogueScore[(RogueScore['IPS']==\"y\")&(RogueScore['rogue_count']>0)&(RogueScore['rogue_alarmingness']>=3)].shape"
      ],
      "execution_count": null,
      "outputs": [
        {
          "output_type": "execute_result",
          "data": {
            "text/plain": [
              "(47, 10)"
            ]
          },
          "metadata": {
            "tags": []
          },
          "execution_count": 61
        }
      ]
    },
    {
      "cell_type": "code",
      "metadata": {
        "colab": {
          "base_uri": "https://localhost:8080/"
        },
        "id": "q520_AgnFdna",
        "outputId": "837600c3-3ba0-444d-daae-691298d12e85"
      },
      "source": [
        "RogueScore[(RogueScore['OldLabel']==1)&(RogueScore['rogue_count']>0)&(RogueScore['rogue_alarmingness']>=3)].shape"
      ],
      "execution_count": null,
      "outputs": [
        {
          "output_type": "execute_result",
          "data": {
            "text/plain": [
              "(35, 10)"
            ]
          },
          "metadata": {
            "tags": []
          },
          "execution_count": 63
        }
      ]
    },
    {
      "cell_type": "code",
      "metadata": {
        "id": "xSGOY3PKGTXb"
      },
      "source": [
        "\n",
        "relevant=predicted[predicted['pred_alarmingness']>=3]\n"
      ],
      "execution_count": null,
      "outputs": []
    },
    {
      "cell_type": "code",
      "metadata": {
        "id": "6yhEAl3EWWIL"
      },
      "source": [
        "relevant=relevant[relevant['appID'].isin(Potential)]\n",
        "relevant.sort_values(['appID','pred_alarmingness'],ascending=False,inplace=True)"
      ],
      "execution_count": null,
      "outputs": []
    },
    {
      "cell_type": "code",
      "metadata": {
        "id": "8Dp0CKmwWa8x"
      },
      "source": [
        "relevant.reset_index(drop=True,inplace=True)"
      ],
      "execution_count": null,
      "outputs": []
    },
    {
      "cell_type": "code",
      "metadata": {
        "colab": {
          "base_uri": "https://localhost:8080/",
          "height": 52
        },
        "id": "ceW7n7y-q41H",
        "outputId": "35ad4efb-24b5-475b-e486-d68b748e5aaf"
      },
      "source": [
        "relevant.loc[32270,'body']"
      ],
      "execution_count": null,
      "outputs": [
        {
          "output_type": "execute_result",
          "data": {
            "application/vnd.google.colaboratory.intrinsic+json": {
              "type": "string"
            },
            "text/plain": [
              "'Horrible change. I don&#39;t want to join a &#34;club&#34;. Stupid idea and an invasion of privacy. I&#39;m deleting the app now. DO NOT DOWNLOAD IF YOU VALUE YOUR PRIVACY!'"
            ]
          },
          "metadata": {
            "tags": []
          },
          "execution_count": 34
        }
      ]
    },
    {
      "cell_type": "code",
      "metadata": {
        "id": "AfQY27Zvx7qU"
      },
      "source": [
        ""
      ],
      "execution_count": null,
      "outputs": []
    },
    {
      "cell_type": "code",
      "metadata": {
        "colab": {
          "base_uri": "https://localhost:8080/"
        },
        "id": "PykmhL-Ds_dL",
        "outputId": "a1eb97dd-7458-43c0-d26e-9e8d9a911008"
      },
      "source": [
        "RogueScore[(RogueScore['rogue_count']>0)&(RogueScore['rogue_alarmingness']>=2.5)].shape"
      ],
      "execution_count": null,
      "outputs": [
        {
          "output_type": "execute_result",
          "data": {
            "text/plain": [
              "(300, 11)"
            ]
          },
          "metadata": {
            "tags": []
          },
          "execution_count": 38
        }
      ]
    },
    {
      "cell_type": "code",
      "metadata": {
        "id": "dCkzR3O2pq8z"
      },
      "source": [
        "relevant.loc[relevant['appID']==387771637]"
      ],
      "execution_count": null,
      "outputs": []
    },
    {
      "cell_type": "code",
      "metadata": {
        "id": "RUy-1wMDW0nA"
      },
      "source": [
        "relevant.to_csv(\"RelevantReviewsOfPredictedUIA.csv\")"
      ],
      "execution_count": null,
      "outputs": []
    },
    {
      "cell_type": "markdown",
      "metadata": {
        "id": "V7q1rNmBeWPE"
      },
      "source": [
        "**CHECKING ON APPS WITH GREATER THAN 0 COUNTS**"
      ]
    },
    {
      "cell_type": "code",
      "metadata": {
        "id": "ApkJuTpJW-QV"
      },
      "source": [
        "NonZero=RogueScore[RogueScore['rogue_count']>0]"
      ],
      "execution_count": null,
      "outputs": []
    },
    {
      "cell_type": "code",
      "metadata": {
        "id": "flkdXSe4eiEa"
      },
      "source": [
        "NonZero.reset_index(drop=True,inplace=True)"
      ],
      "execution_count": null,
      "outputs": []
    },
    {
      "cell_type": "code",
      "metadata": {
        "colab": {
          "base_uri": "https://localhost:8080/",
          "height": 366
        },
        "id": "9Jl4kMsQemGO",
        "outputId": "764ac596-581e-4cd4-c820-1288d82c56cf"
      },
      "source": [
        "plt.hist(RogueScore['ROGUE'])"
      ],
      "execution_count": null,
      "outputs": [
        {
          "output_type": "execute_result",
          "data": {
            "text/plain": [
              "(array([1.520e+02, 1.233e+03, 2.530e+02, 2.200e+01, 1.400e+01, 6.000e+00,\n",
              "        3.000e+00, 1.000e+00, 2.000e+00, 1.000e+00]),\n",
              " array([0.90919392, 1.26248446, 1.61577499, 1.96906553, 2.32235606,\n",
              "        2.6756466 , 3.02893714, 3.38222767, 3.73551821, 4.08880874,\n",
              "        4.44209928]),\n",
              " <a list of 10 Patch objects>)"
            ]
          },
          "metadata": {
            "tags": []
          },
          "execution_count": 14
        },
        {
          "output_type": "display_data",
          "data": {
            "image/png": "[encoded data removed]",
            "text/plain": [
              "<Figure size 432x288 with 1 Axes>"
            ]
          },
          "metadata": {
            "tags": [],
            "needs_background": "light"
          }
        }
      ]
    },
    {
      "cell_type": "code",
      "metadata": {
        "colab": {
          "base_uri": "https://localhost:8080/"
        },
        "id": "VMAIbQcWetqD",
        "outputId": "8d74f788-5812-41bb-84f5-556bc5e0a0df"
      },
      "source": [
        "import numpy as np\n",
        "iqr = np.quantile(NonZero['ROGUE'], q=[.25, .75])\n",
        "iqr=np.diff(iqr)[0]\n",
        "iqr"
      ],
      "execution_count": null,
      "outputs": [
        {
          "output_type": "execute_result",
          "data": {
            "text/plain": [
              "0.2963880757540913"
            ]
          },
          "metadata": {
            "tags": []
          },
          "execution_count": 15
        }
      ]
    },
    {
      "cell_type": "code",
      "metadata": {
        "colab": {
          "base_uri": "https://localhost:8080/"
        },
        "id": "iMTH8vfGqZtH",
        "outputId": "eae56763-2f73-469f-d68c-32c7319a1545"
      },
      "source": [
        "N=len(NonZero['ROGUE'])\n",
        "bw=(2 * iqr) / np.power(N, 1/3)\n",
        "\n",
        "datmin, datmax = NonZero['ROGUE'].min(), NonZero['ROGUE'].max()\n",
        "datrng = datmax - datmin\n",
        "BinNo = int((datrng / bw) + 1)\n",
        "\n",
        "BinNo"
      ],
      "execution_count": null,
      "outputs": [
        {
          "output_type": "execute_result",
          "data": {
            "text/plain": [
              "49"
            ]
          },
          "metadata": {
            "tags": []
          },
          "execution_count": 18
        }
      ]
    },
    {
      "cell_type": "code",
      "metadata": {
        "colab": {
          "base_uri": "https://localhost:8080/",
          "height": 534
        },
        "id": "g8rrmTFtqodw",
        "outputId": "413df9f6-e614-4913-8ce8-c99b8bc878dd"
      },
      "source": [
        "plt.hist(RogueScore['ROGUE'],bins=49)"
      ],
      "execution_count": null,
      "outputs": [
        {
          "output_type": "execute_result",
          "data": {
            "text/plain": [
              "(array([  2.,   1.,  18.,  47.,  90., 253., 437., 331., 140.,  85.,  91.,\n",
              "         79.,  52.,   6.,  10.,   1.,   4.,   9.,   3.,   3.,   4.,   3.,\n",
              "          2.,   1.,   2.,   4.,   0.,   0.,   1.,   1.,   1.,   2.,   0.,\n",
              "          0.,   0.,   0.,   0.,   0.,   1.,   0.,   1.,   1.,   0.,   0.,\n",
              "          0.,   0.,   0.,   0.,   1.]),\n",
              " array([0.90919392, 0.98129403, 1.05339414, 1.12549425, 1.19759436,\n",
              "        1.26969447, 1.34179458, 1.41389469, 1.4859948 , 1.55809491,\n",
              "        1.63019502, 1.70229513, 1.77439523, 1.84649534, 1.91859545,\n",
              "        1.99069556, 2.06279567, 2.13489578, 2.20699589, 2.279096  ,\n",
              "        2.35119611, 2.42329622, 2.49539633, 2.56749644, 2.63959655,\n",
              "        2.71169665, 2.78379676, 2.85589687, 2.92799698, 3.00009709,\n",
              "        3.0721972 , 3.14429731, 3.21639742, 3.28849753, 3.36059764,\n",
              "        3.43269775, 3.50479786, 3.57689797, 3.64899807, 3.72109818,\n",
              "        3.79319829, 3.8652984 , 3.93739851, 4.00949862, 4.08159873,\n",
              "        4.15369884, 4.22579895, 4.29789906, 4.36999917, 4.44209928]),\n",
              " <a list of 49 Patch objects>)"
            ]
          },
          "metadata": {
            "tags": []
          },
          "execution_count": 19
        },
        {
          "output_type": "display_data",
          "data": {
            "image/png": "[encoded data removed]",
            "text/plain": [
              "<Figure size 432x288 with 1 Axes>"
            ]
          },
          "metadata": {
            "tags": [],
            "needs_background": "light"
          }
        }
      ]
    },
    {
      "cell_type": "code",
      "metadata": {
        "colab": {
          "base_uri": "https://localhost:8080/"
        },
        "id": "ddoMS3qwroj1",
        "outputId": "f0e9d2ac-3be8-4b92-d9a0-b0193ee0284a"
      },
      "source": [
        "NonZero[NonZero['ROGUE']>=1.8].shape"
      ],
      "execution_count": null,
      "outputs": [
        {
          "output_type": "execute_result",
          "data": {
            "text/plain": [
              "(83, 11)"
            ]
          },
          "metadata": {
            "tags": []
          },
          "execution_count": 26
        }
      ]
    },
    {
      "cell_type": "code",
      "metadata": {
        "colab": {
          "base_uri": "https://localhost:8080/"
        },
        "id": "ryeLlauhrOUa",
        "outputId": "32976fb7-cceb-4c8e-8987-f44bacf7d679"
      },
      "source": [
        "NonZero[NonZero['ROGUE']>=1.7].shape\n",
        "NonZero[(NonZero['ROGUE']>=1.7)&(NonZero['OldLabel']==1)].shape"
      ],
      "execution_count": null,
      "outputs": [
        {
          "output_type": "execute_result",
          "data": {
            "text/plain": [
              "(59, 11)"
            ]
          },
          "metadata": {
            "tags": []
          },
          "execution_count": 27
        }
      ]
    },
    {
      "cell_type": "code",
      "metadata": {
        "colab": {
          "base_uri": "https://localhost:8080/"
        },
        "id": "26BQIccYrd_U",
        "outputId": "e928f30b-0a06-4ca2-ab21-c120b79908d9"
      },
      "source": [
        "NonZero[NonZero['ROGUE']>=1.6].shape\n",
        "\n",
        "NonZero[(NonZero['ROGUE']>=1.6)&(NonZero['OldLabel']==1)].shape"
      ],
      "execution_count": null,
      "outputs": [
        {
          "output_type": "execute_result",
          "data": {
            "text/plain": [
              "(75, 11)"
            ]
          },
          "metadata": {
            "tags": []
          },
          "execution_count": 29
        }
      ]
    },
    {
      "cell_type": "code",
      "metadata": {
        "id": "ji84REhVrncR"
      },
      "source": [
        ""
      ],
      "execution_count": null,
      "outputs": []
    }
  ]
}