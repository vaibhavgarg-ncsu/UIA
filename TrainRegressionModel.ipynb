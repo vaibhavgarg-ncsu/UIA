{
  "nbformat": 4,
  "nbformat_minor": 0,
  "metadata": {
    "colab": {
      "name": "TrainRegressionModel.ipynb",
      "provenance": []
    },
    "kernelspec": {
      "name": "python3",
      "display_name": "Python 3"
    },
    "accelerator": "GPU"
  },
  "cells": [
    {
      "cell_type": "code",
      "metadata": {
        "colab": {
          "base_uri": "https://localhost:8080/"
        },
        "id": "aY-OCkhQMdbv",
        "outputId": "c99a6f67-4065-4706-8cfd-4396f391e4bb"
      },
      "source": [
        "from google.colab import drive\n",
        "drive.mount('/content/drive')\n",
        "!ls\n",
        "!pwd\n",
        "!cd /content/drive\n",
        "print('done')"
      ],
      "execution_count": null,
      "outputs": [
        {
          "output_type": "stream",
          "text": [
            "Mounted at /content/drive\n",
            "drive  sample_data\n",
            "/content\n",
            "done\n"
          ],
          "name": "stdout"
        }
      ]
    },
    {
      "cell_type": "code",
      "metadata": {
        "colab": {
          "base_uri": "https://localhost:8080/"
        },
        "id": "OyaXJklzMv6s",
        "outputId": "6980a12e-99e9-4826-8d7b-9f58147ea9ef"
      },
      "source": [
        "cd \"/content/drive/My Drive/UIA/RegressionModel/\""
      ],
      "execution_count": null,
      "outputs": [
        {
          "output_type": "stream",
          "text": [
            "/content/drive/My Drive/UIA/RegressionModel\n"
          ],
          "name": "stdout"
        }
      ]
    },
    {
      "cell_type": "code",
      "metadata": {
        "id": "MF6Ja12wMfLt"
      },
      "source": [
        "import pandas as pd\n",
        "import numpy as np"
      ],
      "execution_count": null,
      "outputs": []
    },
    {
      "cell_type": "code",
      "metadata": {
        "id": "-QOwgUgMMtMc"
      },
      "source": [
        "old=pd.read_csv(\"/content/drive/My Drive/UIA/RegressionModel/Training766.csv\",index_col=0)\n",
        "new=pd.read_csv(\"/content/drive/My Drive/UIA/RegressionModel/CombinedBatches.csv\",index_col=0)"
      ],
      "execution_count": null,
      "outputs": []
    },
    {
      "cell_type": "code",
      "metadata": {
        "colab": {
          "base_uri": "https://localhost:8080/",
          "height": 195
        },
        "id": "i7MoY4pmNMs8",
        "outputId": "569dcd8a-e271-4996-8307-c9b9046257d7"
      },
      "source": [
        "old.head()"
      ],
      "execution_count": null,
      "outputs": [
        {
          "output_type": "execute_result",
          "data": {
            "text/html": [
              "<div>\n",
              "<style scoped>\n",
              "    .dataframe tbody tr th:only-of-type {\n",
              "        vertical-align: middle;\n",
              "    }\n",
              "\n",
              "    .dataframe tbody tr th {\n",
              "        vertical-align: top;\n",
              "    }\n",
              "\n",
              "    .dataframe thead th {\n",
              "        text-align: right;\n",
              "    }\n",
              "</style>\n",
              "<table border=\"1\" class=\"dataframe\">\n",
              "  <thead>\n",
              "    <tr style=\"text-align: right;\">\n",
              "      <th></th>\n",
              "      <th>Convincing1</th>\n",
              "      <th>Severity1</th>\n",
              "      <th>body</th>\n",
              "      <th>Severity2</th>\n",
              "      <th>Convincing2</th>\n",
              "      <th>Convincing</th>\n",
              "      <th>Severity</th>\n",
              "    </tr>\n",
              "  </thead>\n",
              "  <tbody>\n",
              "    <tr>\n",
              "      <th>0</th>\n",
              "      <td>1</td>\n",
              "      <td>1</td>\n",
              "      <td>Tracks down and removes spying thingies to mak...</td>\n",
              "      <td>3</td>\n",
              "      <td>1</td>\n",
              "      <td>1.0</td>\n",
              "      <td>2.0</td>\n",
              "    </tr>\n",
              "    <tr>\n",
              "      <th>1</th>\n",
              "      <td>1</td>\n",
              "      <td>1</td>\n",
              "      <td>My account is no longer allowing me to log in....</td>\n",
              "      <td>1</td>\n",
              "      <td>3</td>\n",
              "      <td>2.0</td>\n",
              "      <td>1.0</td>\n",
              "    </tr>\n",
              "    <tr>\n",
              "      <th>2</th>\n",
              "      <td>1</td>\n",
              "      <td>1</td>\n",
              "      <td>This gives me all the updates and info to keep...</td>\n",
              "      <td>3</td>\n",
              "      <td>2</td>\n",
              "      <td>1.5</td>\n",
              "      <td>2.0</td>\n",
              "    </tr>\n",
              "    <tr>\n",
              "      <th>3</th>\n",
              "      <td>4</td>\n",
              "      <td>4</td>\n",
              "      <td>I think the update is great. The only people c...</td>\n",
              "      <td>3</td>\n",
              "      <td>4</td>\n",
              "      <td>4.0</td>\n",
              "      <td>3.5</td>\n",
              "    </tr>\n",
              "    <tr>\n",
              "      <th>4</th>\n",
              "      <td>5</td>\n",
              "      <td>5</td>\n",
              "      <td>Because of this, now my overly obsessive and t...</td>\n",
              "      <td>3</td>\n",
              "      <td>2</td>\n",
              "      <td>3.5</td>\n",
              "      <td>4.0</td>\n",
              "    </tr>\n",
              "  </tbody>\n",
              "</table>\n",
              "</div>"
            ],
            "text/plain": [
              "   Convincing1  Severity1  ... Convincing  Severity\n",
              "0            1          1  ...        1.0       2.0\n",
              "1            1          1  ...        2.0       1.0\n",
              "2            1          1  ...        1.5       2.0\n",
              "3            4          4  ...        4.0       3.5\n",
              "4            5          5  ...        3.5       4.0\n",
              "\n",
              "[5 rows x 7 columns]"
            ]
          },
          "metadata": {
            "tags": []
          },
          "execution_count": 5
        }
      ]
    },
    {
      "cell_type": "code",
      "metadata": {
        "id": "54aif9sUNcjP"
      },
      "source": [
        "old.rename(columns={'Convincing':'Convincingness'},inplace=True)"
      ],
      "execution_count": null,
      "outputs": []
    },
    {
      "cell_type": "code",
      "metadata": {
        "id": "_QZoKivnNOWp"
      },
      "source": [
        "trainingdata=pd.concat([old[['body','Convincingness','Severity']],new],axis=0)"
      ],
      "execution_count": null,
      "outputs": []
    },
    {
      "cell_type": "code",
      "metadata": {
        "id": "uBLAuneONaAt"
      },
      "source": [
        "#### In case of duplicates, retaining the old annotations\n",
        "trainingdata=trainingdata.drop_duplicates(['body'],keep='first')"
      ],
      "execution_count": null,
      "outputs": []
    },
    {
      "cell_type": "code",
      "metadata": {
        "id": "OrbpdGqwN96D"
      },
      "source": [
        "from scipy.stats.mstats import gmean \n",
        "\n",
        "trainingdata['Alarmingness']=gmean(trainingdata[['Convincingness','Severity']],axis=1)"
      ],
      "execution_count": null,
      "outputs": []
    },
    {
      "cell_type": "code",
      "metadata": {
        "id": "RFX-OOOXPcRF"
      },
      "source": [
        "trainingdata.reset_index(drop=True,inplace=True)"
      ],
      "execution_count": null,
      "outputs": []
    },
    {
      "cell_type": "code",
      "metadata": {
        "colab": {
          "base_uri": "https://localhost:8080/",
          "height": 52
        },
        "id": "FqNPlu_GOqxO",
        "outputId": "e09a4dde-e2a6-4795-e11c-e744ed48a92c"
      },
      "source": [
        "trainingdata.loc[4,'body']"
      ],
      "execution_count": null,
      "outputs": [
        {
          "output_type": "execute_result",
          "data": {
            "application/vnd.google.colaboratory.intrinsic+json": {
              "type": "string"
            },
            "text/plain": [
              "'Because of this, now my overly obsessive and tracking dad is now tracking everything I do. He’s probably watching me write this from my screen right now. Thanks, Verizon, for enabling him to stalk me!'"
            ]
          },
          "metadata": {
            "tags": []
          },
          "execution_count": 13
        }
      ]
    },
    {
      "cell_type": "code",
      "metadata": {
        "id": "5zGpmMRmhtRI"
      },
      "source": [
        ""
      ],
      "execution_count": null,
      "outputs": []
    },
    {
      "cell_type": "code",
      "metadata": {
        "colab": {
          "base_uri": "https://localhost:8080/",
          "height": 195
        },
        "id": "l46a5r18PA1H",
        "outputId": "9ca36c03-8968-4b9b-c574-ff743a067dd7"
      },
      "source": [
        "trainingdata.tail()"
      ],
      "execution_count": null,
      "outputs": [
        {
          "output_type": "execute_result",
          "data": {
            "text/html": [
              "<div>\n",
              "<style scoped>\n",
              "    .dataframe tbody tr th:only-of-type {\n",
              "        vertical-align: middle;\n",
              "    }\n",
              "\n",
              "    .dataframe tbody tr th {\n",
              "        vertical-align: top;\n",
              "    }\n",
              "\n",
              "    .dataframe thead th {\n",
              "        text-align: right;\n",
              "    }\n",
              "</style>\n",
              "<table border=\"1\" class=\"dataframe\">\n",
              "  <thead>\n",
              "    <tr style=\"text-align: right;\">\n",
              "      <th></th>\n",
              "      <th>body</th>\n",
              "      <th>Convincingness</th>\n",
              "      <th>Severity</th>\n",
              "      <th>Alarmingness</th>\n",
              "    </tr>\n",
              "  </thead>\n",
              "  <tbody>\n",
              "    <tr>\n",
              "      <th>1880</th>\n",
              "      <td>Three kids in college always driving home...th...</td>\n",
              "      <td>2.5</td>\n",
              "      <td>2.0</td>\n",
              "      <td>2.236068</td>\n",
              "    </tr>\n",
              "    <tr>\n",
              "      <th>1881</th>\n",
              "      <td>Ever wonder why your BF/GF knows who you're ta...</td>\n",
              "      <td>4.0</td>\n",
              "      <td>3.0</td>\n",
              "      <td>3.464102</td>\n",
              "    </tr>\n",
              "    <tr>\n",
              "      <th>1882</th>\n",
              "      <td>Nothing wrong with the app but my dad uses it ...</td>\n",
              "      <td>4.0</td>\n",
              "      <td>5.0</td>\n",
              "      <td>4.472136</td>\n",
              "    </tr>\n",
              "    <tr>\n",
              "      <th>1883</th>\n",
              "      <td>Gives me safety of mind.  It's not stalking ou...</td>\n",
              "      <td>2.0</td>\n",
              "      <td>3.0</td>\n",
              "      <td>2.449490</td>\n",
              "    </tr>\n",
              "    <tr>\n",
              "      <th>1884</th>\n",
              "      <td>LOTSSS of spam/porn messages... Never any matc...</td>\n",
              "      <td>3.0</td>\n",
              "      <td>3.5</td>\n",
              "      <td>3.240370</td>\n",
              "    </tr>\n",
              "  </tbody>\n",
              "</table>\n",
              "</div>"
            ],
            "text/plain": [
              "                                                   body  ...  Alarmingness\n",
              "1880  Three kids in college always driving home...th...  ...      2.236068\n",
              "1881  Ever wonder why your BF/GF knows who you're ta...  ...      3.464102\n",
              "1882  Nothing wrong with the app but my dad uses it ...  ...      4.472136\n",
              "1883  Gives me safety of mind.  It's not stalking ou...  ...      2.449490\n",
              "1884  LOTSSS of spam/porn messages... Never any matc...  ...      3.240370\n",
              "\n",
              "[5 rows x 4 columns]"
            ]
          },
          "metadata": {
            "tags": []
          },
          "execution_count": 14
        }
      ]
    },
    {
      "cell_type": "code",
      "metadata": {
        "id": "mzqPskatPY8q"
      },
      "source": [
        "trainingdata.to_csv(\"TrainingData1885.csv\")"
      ],
      "execution_count": null,
      "outputs": []
    },
    {
      "cell_type": "code",
      "metadata": {
        "colab": {
          "base_uri": "https://localhost:8080/",
          "height": 35
        },
        "id": "slWzmZqLPoCI",
        "outputId": "84418a37-a493-49b9-fca5-586d633dbae1"
      },
      "source": [
        "pwd"
      ],
      "execution_count": null,
      "outputs": [
        {
          "output_type": "execute_result",
          "data": {
            "application/vnd.google.colaboratory.intrinsic+json": {
              "type": "string"
            },
            "text/plain": [
              "'/content/drive/My Drive/UIA/RegressionModel'"
            ]
          },
          "metadata": {
            "tags": []
          },
          "execution_count": 4
        }
      ]
    },
    {
      "cell_type": "code",
      "metadata": {
        "id": "97NyWIOnPom5"
      },
      "source": [
        "trainingdata=pd.read_csv(\"TrainingData1885.csv\",index_col=0)"
      ],
      "execution_count": null,
      "outputs": []
    },
    {
      "cell_type": "code",
      "metadata": {
        "colab": {
          "base_uri": "https://localhost:8080/",
          "height": 195
        },
        "id": "s0GT1S5vd5FW",
        "outputId": "6d3f17a4-35ee-4ca2-e71e-12ac37439b21"
      },
      "source": [
        "trainingdata.head()"
      ],
      "execution_count": null,
      "outputs": [
        {
          "output_type": "execute_result",
          "data": {
            "text/html": [
              "<div>\n",
              "<style scoped>\n",
              "    .dataframe tbody tr th:only-of-type {\n",
              "        vertical-align: middle;\n",
              "    }\n",
              "\n",
              "    .dataframe tbody tr th {\n",
              "        vertical-align: top;\n",
              "    }\n",
              "\n",
              "    .dataframe thead th {\n",
              "        text-align: right;\n",
              "    }\n",
              "</style>\n",
              "<table border=\"1\" class=\"dataframe\">\n",
              "  <thead>\n",
              "    <tr style=\"text-align: right;\">\n",
              "      <th></th>\n",
              "      <th>body</th>\n",
              "      <th>Convincingness</th>\n",
              "      <th>Severity</th>\n",
              "      <th>Alarmingness</th>\n",
              "    </tr>\n",
              "  </thead>\n",
              "  <tbody>\n",
              "    <tr>\n",
              "      <th>0</th>\n",
              "      <td>Tracks down and removes spying thingies to mak...</td>\n",
              "      <td>1.0</td>\n",
              "      <td>2.0</td>\n",
              "      <td>1.414214</td>\n",
              "    </tr>\n",
              "    <tr>\n",
              "      <th>1</th>\n",
              "      <td>My account is no longer allowing me to log in....</td>\n",
              "      <td>2.0</td>\n",
              "      <td>1.0</td>\n",
              "      <td>1.414214</td>\n",
              "    </tr>\n",
              "    <tr>\n",
              "      <th>2</th>\n",
              "      <td>This gives me all the updates and info to keep...</td>\n",
              "      <td>1.5</td>\n",
              "      <td>2.0</td>\n",
              "      <td>1.732051</td>\n",
              "    </tr>\n",
              "    <tr>\n",
              "      <th>3</th>\n",
              "      <td>I think the update is great. The only people c...</td>\n",
              "      <td>4.0</td>\n",
              "      <td>3.5</td>\n",
              "      <td>3.741657</td>\n",
              "    </tr>\n",
              "    <tr>\n",
              "      <th>4</th>\n",
              "      <td>Because of this, now my overly obsessive and t...</td>\n",
              "      <td>3.5</td>\n",
              "      <td>4.0</td>\n",
              "      <td>3.741657</td>\n",
              "    </tr>\n",
              "  </tbody>\n",
              "</table>\n",
              "</div>"
            ],
            "text/plain": [
              "                                                body  ...  Alarmingness\n",
              "0  Tracks down and removes spying thingies to mak...  ...      1.414214\n",
              "1  My account is no longer allowing me to log in....  ...      1.414214\n",
              "2  This gives me all the updates and info to keep...  ...      1.732051\n",
              "3  I think the update is great. The only people c...  ...      3.741657\n",
              "4  Because of this, now my overly obsessive and t...  ...      3.741657\n",
              "\n",
              "[5 rows x 4 columns]"
            ]
          },
          "metadata": {
            "tags": []
          },
          "execution_count": 10
        }
      ]
    },
    {
      "cell_type": "code",
      "metadata": {
        "colab": {
          "base_uri": "https://localhost:8080/"
        },
        "id": "txhDzryTd7f-",
        "outputId": "d0169f7c-9035-4e77-d0b8-b2fc1c5085fb"
      },
      "source": [
        "import nltk\n",
        "nltk.download('stopwords')\n",
        "from nltk.corpus import stopwords\n",
        "\n",
        "\n",
        "stop_words = stopwords.words('english')"
      ],
      "execution_count": null,
      "outputs": [
        {
          "output_type": "stream",
          "text": [
            "[nltk_data] Downloading package stopwords to /root/nltk_data...\n",
            "[nltk_data]   Unzipping corpora/stopwords.zip.\n"
          ],
          "name": "stdout"
        }
      ]
    },
    {
      "cell_type": "code",
      "metadata": {
        "id": "Oh08YpWveGFT"
      },
      "source": [
        "import string\n",
        "import re"
      ],
      "execution_count": null,
      "outputs": []
    },
    {
      "cell_type": "code",
      "metadata": {
        "id": "hMTn3i6_eJDH"
      },
      "source": [
        "def preprocessing(df):\n",
        "    corpus=[]\n",
        "    for i in df.index:\n",
        "        # print(i)\n",
        "        temp=df.loc[i,'body']\n",
        "        temp=str(temp).lower()\n",
        "        temp=temp.translate(temp.maketrans(dict.fromkeys(string.punctuation))) ### deletes all punctuation marks\n",
        "        for word in stop_words:   \n",
        "            temp=temp.replace(\" \"+word+\" \", \" \") ### deletes all stop words\n",
        "        temp=re.sub('[^A-Za-z0-9]+', \" \",temp) ### deletes all special characters\n",
        "\n",
        "        temp=temp.replace(\"39\",\"'\") ###\n",
        "        temp=temp.replace(\"spy\",\"\") ### replace spy keyword\n",
        "        temp=temp.replace(\"stealth\",\"\") ### replace stealth keyword\n",
        "        temp=temp.replace(\"stalk\",\"\") ### replace stalk keyword\n",
        "        temp=temp.replace(\"descried\",\"\") ### replace descried keyword\n",
        "        temp=temp.replace(\"descry\",\"\") ### replace descried keyword\n",
        "        temp=temp.replace(\"descring\",\"\") ### replace descried keyword\n",
        "#             print(word)\n",
        "        corpus.append(temp)\n",
        "    return corpus"
      ],
      "execution_count": null,
      "outputs": []
    },
    {
      "cell_type": "code",
      "metadata": {
        "id": "_-vOCHGceQ0R"
      },
      "source": [
        "corpus=preprocessing(trainingdata)"
      ],
      "execution_count": null,
      "outputs": []
    },
    {
      "cell_type": "code",
      "metadata": {
        "id": "f7CUOJF_fA3z"
      },
      "source": [
        "corpus"
      ],
      "execution_count": null,
      "outputs": []
    },
    {
      "cell_type": "code",
      "metadata": {
        "colab": {
          "base_uri": "https://localhost:8080/",
          "height": 52
        },
        "id": "mbBUahO5hvPJ",
        "outputId": "15e6d4a4-d1b3-49fa-ca00-b590ee219b28"
      },
      "source": [
        "corpus[4]"
      ],
      "execution_count": null,
      "outputs": [
        {
          "output_type": "execute_result",
          "data": {
            "application/vnd.google.colaboratory.intrinsic+json": {
              "type": "string"
            },
            "text/plain": [
              "'because overly obsessive tracking dad tracking everything he s probably watching write screen right thanks verizon enabling  me'"
            ]
          },
          "metadata": {
            "tags": []
          },
          "execution_count": 15
        }
      ]
    },
    {
      "cell_type": "code",
      "metadata": {
        "id": "cddKiL97hb48"
      },
      "source": [
        "corpus"
      ],
      "execution_count": null,
      "outputs": []
    },
    {
      "cell_type": "code",
      "metadata": {
        "id": "tf6CXKEGfCU5"
      },
      "source": [
        "\n",
        "import tensorflow as tf\n",
        "import tensorflow_hub as hub"
      ],
      "execution_count": null,
      "outputs": []
    },
    {
      "cell_type": "code",
      "metadata": {
        "colab": {
          "base_uri": "https://localhost:8080/"
        },
        "id": "R6Cql9Oqfsmb",
        "outputId": "46ebcfba-70b7-4d6e-ca9a-a53644af03a1"
      },
      "source": [
        "#@title Load the Universal Sentence Encoder's TF Hub module\n",
        "from absl import logging\n",
        "\n",
        "import tensorflow as tf\n",
        "\n",
        "import tensorflow_hub as hub\n",
        "import matplotlib.pyplot as plt\n",
        "import numpy as np\n",
        "import os\n",
        "import pandas as pd\n",
        "import re\n",
        "import seaborn as sns\n",
        "\n",
        "module_url = \"https://tfhub.dev/google/universal-sentence-encoder/4\" #@param [\"https://tfhub.dev/google/universal-sentence-encoder/4\", \"https://tfhub.dev/google/universal-sentence-encoder-large/5\"]\n",
        "model = hub.load(module_url)\n",
        "print (\"module %s loaded\" % module_url)\n",
        "def embedding(input):\n",
        "  return model(input)"
      ],
      "execution_count": null,
      "outputs": [
        {
          "output_type": "stream",
          "text": [
            "module https://tfhub.dev/google/universal-sentence-encoder/4 loaded\n"
          ],
          "name": "stdout"
        }
      ]
    },
    {
      "cell_type": "code",
      "metadata": {
        "id": "BzgWoRJUcnac"
      },
      "source": [
        "train_embeddings=embedding(corpus)"
      ],
      "execution_count": null,
      "outputs": []
    },
    {
      "cell_type": "code",
      "metadata": {
        "colab": {
          "base_uri": "https://localhost:8080/"
        },
        "id": "DKkvdUN2crRf",
        "outputId": "52d57533-25a8-443b-f2d6-b59a8f943357"
      },
      "source": [
        "train_embeddings.shape"
      ],
      "execution_count": null,
      "outputs": [
        {
          "output_type": "execute_result",
          "data": {
            "text/plain": [
              "TensorShape([1885, 512])"
            ]
          },
          "metadata": {
            "tags": []
          },
          "execution_count": 14
        }
      ]
    },
    {
      "cell_type": "markdown",
      "metadata": {
        "id": "W0mBMgObYcQ9"
      },
      "source": [
        "**Cross Validation**"
      ]
    },
    {
      "cell_type": "code",
      "metadata": {
        "id": "boZENGp3ZE-E"
      },
      "source": [
        "from sklearn.ensemble import RandomForestRegressor\n",
        "from sklearn.svm import SVR"
      ],
      "execution_count": null,
      "outputs": []
    },
    {
      "cell_type": "code",
      "metadata": {
        "id": "zJHx99tKRkQj"
      },
      "source": [
        ""
      ],
      "execution_count": null,
      "outputs": []
    },
    {
      "cell_type": "code",
      "metadata": {
        "colab": {
          "base_uri": "https://localhost:8080/"
        },
        "id": "GRc_V-FHgVrm",
        "outputId": "05b04cd2-7ac8-41c7-cfd5-8db21a2863f1"
      },
      "source": [
        "train_embeddings[:,:]"
      ],
      "execution_count": null,
      "outputs": [
        {
          "output_type": "execute_result",
          "data": {
            "text/plain": [
              "<tf.Tensor: shape=(1885, 512), dtype=float32, numpy=\n",
              "array([[-0.03553457,  0.05893938,  0.03745116, ...,  0.01750809,\n",
              "        -0.00423342,  0.0319073 ],\n",
              "       [-0.06498113, -0.05549376, -0.04357297, ..., -0.02272099,\n",
              "        -0.03486535, -0.00746717],\n",
              "       [ 0.04543777, -0.04593014, -0.03301333, ...,  0.01658818,\n",
              "        -0.06685699, -0.00232341],\n",
              "       ...,\n",
              "       [ 0.06662058, -0.0051486 , -0.0192322 , ..., -0.01463544,\n",
              "        -0.06076517, -0.01988637],\n",
              "       [ 0.04887816,  0.06451866, -0.05004798, ...,  0.01236128,\n",
              "         0.01389412,  0.00688787],\n",
              "       [-0.04891145, -0.07606211, -0.01825978, ..., -0.02084809,\n",
              "        -0.06567057, -0.00474388]], dtype=float32)>"
            ]
          },
          "metadata": {
            "tags": []
          },
          "execution_count": 16
        }
      ]
    },
    {
      "cell_type": "code",
      "metadata": {
        "id": "PdP0Guw4qvOB"
      },
      "source": [
        "train_embeddings[0]\n",
        "features=pd.DataFrame(data=train_embeddings)"
      ],
      "execution_count": null,
      "outputs": []
    },
    {
      "cell_type": "code",
      "metadata": {
        "colab": {
          "base_uri": "https://localhost:8080/",
          "height": 758
        },
        "id": "3ZTbmTpcrWad",
        "outputId": "2e7e8d62-d788-4426-9045-0cffe72fbac4"
      },
      "source": [
        "features"
      ],
      "execution_count": null,
      "outputs": [
        {
          "output_type": "execute_result",
          "data": {
            "text/html": [
              "<div>\n",
              "<style scoped>\n",
              "    .dataframe tbody tr th:only-of-type {\n",
              "        vertical-align: middle;\n",
              "    }\n",
              "\n",
              "    .dataframe tbody tr th {\n",
              "        vertical-align: top;\n",
              "    }\n",
              "\n",
              "    .dataframe thead th {\n",
              "        text-align: right;\n",
              "    }\n",
              "</style>\n",
              "<table border=\"1\" class=\"dataframe\">\n",
              "  <thead>\n",
              "    <tr style=\"text-align: right;\">\n",
              "      <th></th>\n",
              "      <th>0</th>\n",
              "      <th>1</th>\n",
              "      <th>2</th>\n",
              "      <th>3</th>\n",
              "      <th>4</th>\n",
              "      <th>5</th>\n",
              "      <th>6</th>\n",
              "      <th>7</th>\n",
              "      <th>8</th>\n",
              "      <th>9</th>\n",
              "      <th>10</th>\n",
              "      <th>11</th>\n",
              "      <th>12</th>\n",
              "      <th>13</th>\n",
              "      <th>14</th>\n",
              "      <th>15</th>\n",
              "      <th>16</th>\n",
              "      <th>17</th>\n",
              "      <th>18</th>\n",
              "      <th>19</th>\n",
              "      <th>20</th>\n",
              "      <th>21</th>\n",
              "      <th>22</th>\n",
              "      <th>23</th>\n",
              "      <th>24</th>\n",
              "      <th>25</th>\n",
              "      <th>26</th>\n",
              "      <th>27</th>\n",
              "      <th>28</th>\n",
              "      <th>29</th>\n",
              "      <th>30</th>\n",
              "      <th>31</th>\n",
              "      <th>32</th>\n",
              "      <th>33</th>\n",
              "      <th>34</th>\n",
              "      <th>35</th>\n",
              "      <th>36</th>\n",
              "      <th>37</th>\n",
              "      <th>38</th>\n",
              "      <th>39</th>\n",
              "      <th>...</th>\n",
              "      <th>472</th>\n",
              "      <th>473</th>\n",
              "      <th>474</th>\n",
              "      <th>475</th>\n",
              "      <th>476</th>\n",
              "      <th>477</th>\n",
              "      <th>478</th>\n",
              "      <th>479</th>\n",
              "      <th>480</th>\n",
              "      <th>481</th>\n",
              "      <th>482</th>\n",
              "      <th>483</th>\n",
              "      <th>484</th>\n",
              "      <th>485</th>\n",
              "      <th>486</th>\n",
              "      <th>487</th>\n",
              "      <th>488</th>\n",
              "      <th>489</th>\n",
              "      <th>490</th>\n",
              "      <th>491</th>\n",
              "      <th>492</th>\n",
              "      <th>493</th>\n",
              "      <th>494</th>\n",
              "      <th>495</th>\n",
              "      <th>496</th>\n",
              "      <th>497</th>\n",
              "      <th>498</th>\n",
              "      <th>499</th>\n",
              "      <th>500</th>\n",
              "      <th>501</th>\n",
              "      <th>502</th>\n",
              "      <th>503</th>\n",
              "      <th>504</th>\n",
              "      <th>505</th>\n",
              "      <th>506</th>\n",
              "      <th>507</th>\n",
              "      <th>508</th>\n",
              "      <th>509</th>\n",
              "      <th>510</th>\n",
              "      <th>511</th>\n",
              "    </tr>\n",
              "  </thead>\n",
              "  <tbody>\n",
              "    <tr>\n",
              "      <th>0</th>\n",
              "      <td>tf.Tensor(-0.03553458, shape=(), dtype=float32)</td>\n",
              "      <td>tf.Tensor(0.058939368, shape=(), dtype=float32)</td>\n",
              "      <td>tf.Tensor(0.037451148, shape=(), dtype=float32)</td>\n",
              "      <td>tf.Tensor(-0.004712745, shape=(), dtype=float32)</td>\n",
              "      <td>tf.Tensor(0.01585087, shape=(), dtype=float32)</td>\n",
              "      <td>tf.Tensor(0.016066272, shape=(), dtype=float32)</td>\n",
              "      <td>tf.Tensor(0.03074686, shape=(), dtype=float32)</td>\n",
              "      <td>tf.Tensor(-0.03582275, shape=(), dtype=float32)</td>\n",
              "      <td>tf.Tensor(-0.05640653, shape=(), dtype=float32)</td>\n",
              "      <td>tf.Tensor(0.024126712, shape=(), dtype=float32)</td>\n",
              "      <td>tf.Tensor(-0.023375059, shape=(), dtype=float32)</td>\n",
              "      <td>tf.Tensor(0.04694177, shape=(), dtype=float32)</td>\n",
              "      <td>tf.Tensor(0.03314613, shape=(), dtype=float32)</td>\n",
              "      <td>tf.Tensor(-0.06494035, shape=(), dtype=float32)</td>\n",
              "      <td>tf.Tensor(0.003958697, shape=(), dtype=float32)</td>\n",
              "      <td>tf.Tensor(0.029049871, shape=(), dtype=float32)</td>\n",
              "      <td>tf.Tensor(-0.029588712, shape=(), dtype=float32)</td>\n",
              "      <td>tf.Tensor(0.04266381, shape=(), dtype=float32)</td>\n",
              "      <td>tf.Tensor(-0.05336973, shape=(), dtype=float32)</td>\n",
              "      <td>tf.Tensor(0.019900953, shape=(), dtype=float32)</td>\n",
              "      <td>tf.Tensor(-0.051674575, shape=(), dtype=float32)</td>\n",
              "      <td>tf.Tensor(0.044226624, shape=(), dtype=float32)</td>\n",
              "      <td>tf.Tensor(-0.024065632, shape=(), dtype=float32)</td>\n",
              "      <td>tf.Tensor(-0.0472203, shape=(), dtype=float32)</td>\n",
              "      <td>tf.Tensor(-0.029099058, shape=(), dtype=float32)</td>\n",
              "      <td>tf.Tensor(-0.007105094, shape=(), dtype=float32)</td>\n",
              "      <td>tf.Tensor(-0.02059035, shape=(), dtype=float32)</td>\n",
              "      <td>tf.Tensor(0.037185855, shape=(), dtype=float32)</td>\n",
              "      <td>tf.Tensor(0.027870152, shape=(), dtype=float32)</td>\n",
              "      <td>tf.Tensor(0.07820801, shape=(), dtype=float32)</td>\n",
              "      <td>tf.Tensor(-0.03876926, shape=(), dtype=float32)</td>\n",
              "      <td>tf.Tensor(0.041241035, shape=(), dtype=float32)</td>\n",
              "      <td>tf.Tensor(-0.0665144, shape=(), dtype=float32)</td>\n",
              "      <td>tf.Tensor(-0.031042308, shape=(), dtype=float32)</td>\n",
              "      <td>tf.Tensor(-0.0013989749, shape=(), dtype=float32)</td>\n",
              "      <td>tf.Tensor(-0.013812332, shape=(), dtype=float32)</td>\n",
              "      <td>tf.Tensor(-0.06843146, shape=(), dtype=float32)</td>\n",
              "      <td>tf.Tensor(0.030994395, shape=(), dtype=float32)</td>\n",
              "      <td>tf.Tensor(0.027507117, shape=(), dtype=float32)</td>\n",
              "      <td>tf.Tensor(0.043849356, shape=(), dtype=float32)</td>\n",
              "      <td>...</td>\n",
              "      <td>tf.Tensor(-0.061164003, shape=(), dtype=float32)</td>\n",
              "      <td>tf.Tensor(-0.0295068, shape=(), dtype=float32)</td>\n",
              "      <td>tf.Tensor(0.005611431, shape=(), dtype=float32)</td>\n",
              "      <td>tf.Tensor(0.085818455, shape=(), dtype=float32)</td>\n",
              "      <td>tf.Tensor(-0.026229324, shape=(), dtype=float32)</td>\n",
              "      <td>tf.Tensor(-0.027659109, shape=(), dtype=float32)</td>\n",
              "      <td>tf.Tensor(-0.033696096, shape=(), dtype=float32)</td>\n",
              "      <td>tf.Tensor(0.0132474955, shape=(), dtype=float32)</td>\n",
              "      <td>tf.Tensor(-0.05533965, shape=(), dtype=float32)</td>\n",
              "      <td>tf.Tensor(0.03181803, shape=(), dtype=float32)</td>\n",
              "      <td>tf.Tensor(0.015664805, shape=(), dtype=float32)</td>\n",
              "      <td>tf.Tensor(-0.021554029, shape=(), dtype=float32)</td>\n",
              "      <td>tf.Tensor(-0.02096535, shape=(), dtype=float32)</td>\n",
              "      <td>tf.Tensor(-0.075448684, shape=(), dtype=float32)</td>\n",
              "      <td>tf.Tensor(0.06173844, shape=(), dtype=float32)</td>\n",
              "      <td>tf.Tensor(-0.02670058, shape=(), dtype=float32)</td>\n",
              "      <td>tf.Tensor(0.04046661, shape=(), dtype=float32)</td>\n",
              "      <td>tf.Tensor(0.03316828, shape=(), dtype=float32)</td>\n",
              "      <td>tf.Tensor(0.0058912393, shape=(), dtype=float32)</td>\n",
              "      <td>tf.Tensor(0.04563167, shape=(), dtype=float32)</td>\n",
              "      <td>tf.Tensor(0.020740613, shape=(), dtype=float32)</td>\n",
              "      <td>tf.Tensor(0.06511935, shape=(), dtype=float32)</td>\n",
              "      <td>tf.Tensor(0.020292599, shape=(), dtype=float32)</td>\n",
              "      <td>tf.Tensor(0.035846714, shape=(), dtype=float32)</td>\n",
              "      <td>tf.Tensor(0.09654216, shape=(), dtype=float32)</td>\n",
              "      <td>tf.Tensor(0.040506907, shape=(), dtype=float32)</td>\n",
              "      <td>tf.Tensor(-0.02699354, shape=(), dtype=float32)</td>\n",
              "      <td>tf.Tensor(-0.005735202, shape=(), dtype=float32)</td>\n",
              "      <td>tf.Tensor(-0.058021426, shape=(), dtype=float32)</td>\n",
              "      <td>tf.Tensor(0.064903945, shape=(), dtype=float32)</td>\n",
              "      <td>tf.Tensor(0.029074198, shape=(), dtype=float32)</td>\n",
              "      <td>tf.Tensor(0.007737781, shape=(), dtype=float32)</td>\n",
              "      <td>tf.Tensor(0.050804812, shape=(), dtype=float32)</td>\n",
              "      <td>tf.Tensor(0.045109946, shape=(), dtype=float32)</td>\n",
              "      <td>tf.Tensor(-0.07547416, shape=(), dtype=float32)</td>\n",
              "      <td>tf.Tensor(-0.05820424, shape=(), dtype=float32)</td>\n",
              "      <td>tf.Tensor(-0.020915085, shape=(), dtype=float32)</td>\n",
              "      <td>tf.Tensor(0.017508106, shape=(), dtype=float32)</td>\n",
              "      <td>tf.Tensor(-0.0042334027, shape=(), dtype=float32)</td>\n",
              "      <td>tf.Tensor(0.031907298, shape=(), dtype=float32)</td>\n",
              "    </tr>\n",
              "    <tr>\n",
              "      <th>1</th>\n",
              "      <td>tf.Tensor(-0.06498114, shape=(), dtype=float32)</td>\n",
              "      <td>tf.Tensor(-0.05549377, shape=(), dtype=float32)</td>\n",
              "      <td>tf.Tensor(-0.043572977, shape=(), dtype=float32)</td>\n",
              "      <td>tf.Tensor(-0.03638325, shape=(), dtype=float32)</td>\n",
              "      <td>tf.Tensor(-0.025690362, shape=(), dtype=float32)</td>\n",
              "      <td>tf.Tensor(0.034216657, shape=(), dtype=float32)</td>\n",
              "      <td>tf.Tensor(0.015476803, shape=(), dtype=float32)</td>\n",
              "      <td>tf.Tensor(0.011216033, shape=(), dtype=float32)</td>\n",
              "      <td>tf.Tensor(-0.030490544, shape=(), dtype=float32)</td>\n",
              "      <td>tf.Tensor(-0.06277918, shape=(), dtype=float32)</td>\n",
              "      <td>tf.Tensor(0.042426474, shape=(), dtype=float32)</td>\n",
              "      <td>tf.Tensor(0.006002076, shape=(), dtype=float32)</td>\n",
              "      <td>tf.Tensor(0.0042267484, shape=(), dtype=float32)</td>\n",
              "      <td>tf.Tensor(-0.009420827, shape=(), dtype=float32)</td>\n",
              "      <td>tf.Tensor(0.059313275, shape=(), dtype=float32)</td>\n",
              "      <td>tf.Tensor(0.06592931, shape=(), dtype=float32)</td>\n",
              "      <td>tf.Tensor(-0.043508686, shape=(), dtype=float32)</td>\n",
              "      <td>tf.Tensor(-0.022818787, shape=(), dtype=float32)</td>\n",
              "      <td>tf.Tensor(-0.034208458, shape=(), dtype=float32)</td>\n",
              "      <td>tf.Tensor(0.069928065, shape=(), dtype=float32)</td>\n",
              "      <td>tf.Tensor(-0.06253795, shape=(), dtype=float32)</td>\n",
              "      <td>tf.Tensor(0.03826544, shape=(), dtype=float32)</td>\n",
              "      <td>tf.Tensor(-0.022485873, shape=(), dtype=float32)</td>\n",
              "      <td>tf.Tensor(-0.009984468, shape=(), dtype=float32)</td>\n",
              "      <td>tf.Tensor(0.06387139, shape=(), dtype=float32)</td>\n",
              "      <td>tf.Tensor(0.025379462, shape=(), dtype=float32)</td>\n",
              "      <td>tf.Tensor(0.025663612, shape=(), dtype=float32)</td>\n",
              "      <td>tf.Tensor(-0.025590625, shape=(), dtype=float32)</td>\n",
              "      <td>tf.Tensor(0.011844298, shape=(), dtype=float32)</td>\n",
              "      <td>tf.Tensor(0.033521026, shape=(), dtype=float32)</td>\n",
              "      <td>tf.Tensor(-0.06619583, shape=(), dtype=float32)</td>\n",
              "      <td>tf.Tensor(0.01224471, shape=(), dtype=float32)</td>\n",
              "      <td>tf.Tensor(-0.050363723, shape=(), dtype=float32)</td>\n",
              "      <td>tf.Tensor(-0.014834197, shape=(), dtype=float32)</td>\n",
              "      <td>tf.Tensor(0.048869435, shape=(), dtype=float32)</td>\n",
              "      <td>tf.Tensor(0.052313052, shape=(), dtype=float32)</td>\n",
              "      <td>tf.Tensor(-0.062776335, shape=(), dtype=float32)</td>\n",
              "      <td>tf.Tensor(0.02529435, shape=(), dtype=float32)</td>\n",
              "      <td>tf.Tensor(-0.04472364, shape=(), dtype=float32)</td>\n",
              "      <td>tf.Tensor(-0.052371662, shape=(), dtype=float32)</td>\n",
              "      <td>...</td>\n",
              "      <td>tf.Tensor(0.032857526, shape=(), dtype=float32)</td>\n",
              "      <td>tf.Tensor(-0.02157881, shape=(), dtype=float32)</td>\n",
              "      <td>tf.Tensor(-0.0050481856, shape=(), dtype=float32)</td>\n",
              "      <td>tf.Tensor(0.0031368856, shape=(), dtype=float32)</td>\n",
              "      <td>tf.Tensor(0.07012883, shape=(), dtype=float32)</td>\n",
              "      <td>tf.Tensor(-0.005234217, shape=(), dtype=float32)</td>\n",
              "      <td>tf.Tensor(0.073395856, shape=(), dtype=float32)</td>\n",
              "      <td>tf.Tensor(0.070914365, shape=(), dtype=float32)</td>\n",
              "      <td>tf.Tensor(-0.0044731894, shape=(), dtype=float32)</td>\n",
              "      <td>tf.Tensor(-0.025502408, shape=(), dtype=float32)</td>\n",
              "      <td>tf.Tensor(-0.057364237, shape=(), dtype=float32)</td>\n",
              "      <td>tf.Tensor(-0.07369422, shape=(), dtype=float32)</td>\n",
              "      <td>tf.Tensor(-0.028029839, shape=(), dtype=float32)</td>\n",
              "      <td>tf.Tensor(-0.038364455, shape=(), dtype=float32)</td>\n",
              "      <td>tf.Tensor(-0.033598002, shape=(), dtype=float32)</td>\n",
              "      <td>tf.Tensor(-0.013185366, shape=(), dtype=float32)</td>\n",
              "      <td>tf.Tensor(-0.054628313, shape=(), dtype=float32)</td>\n",
              "      <td>tf.Tensor(-0.0671736, shape=(), dtype=float32)</td>\n",
              "      <td>tf.Tensor(0.020660302, shape=(), dtype=float32)</td>\n",
              "      <td>tf.Tensor(0.043699708, shape=(), dtype=float32)</td>\n",
              "      <td>tf.Tensor(-0.03354104, shape=(), dtype=float32)</td>\n",
              "      <td>tf.Tensor(0.009402093, shape=(), dtype=float32)</td>\n",
              "      <td>tf.Tensor(-0.035373293, shape=(), dtype=float32)</td>\n",
              "      <td>tf.Tensor(0.017849151, shape=(), dtype=float32)</td>\n",
              "      <td>tf.Tensor(0.07373937, shape=(), dtype=float32)</td>\n",
              "      <td>tf.Tensor(-0.013713309, shape=(), dtype=float32)</td>\n",
              "      <td>tf.Tensor(0.031337414, shape=(), dtype=float32)</td>\n",
              "      <td>tf.Tensor(-0.01511031, shape=(), dtype=float32)</td>\n",
              "      <td>tf.Tensor(-0.06695089, shape=(), dtype=float32)</td>\n",
              "      <td>tf.Tensor(0.022231333, shape=(), dtype=float32)</td>\n",
              "      <td>tf.Tensor(0.0033376694, shape=(), dtype=float32)</td>\n",
              "      <td>tf.Tensor(-0.047329053, shape=(), dtype=float32)</td>\n",
              "      <td>tf.Tensor(0.049840156, shape=(), dtype=float32)</td>\n",
              "      <td>tf.Tensor(0.053539112, shape=(), dtype=float32)</td>\n",
              "      <td>tf.Tensor(0.05431689, shape=(), dtype=float32)</td>\n",
              "      <td>tf.Tensor(-0.065171205, shape=(), dtype=float32)</td>\n",
              "      <td>tf.Tensor(0.0036203375, shape=(), dtype=float32)</td>\n",
              "      <td>tf.Tensor(-0.02272098, shape=(), dtype=float32)</td>\n",
              "      <td>tf.Tensor(-0.034865342, shape=(), dtype=float32)</td>\n",
              "      <td>tf.Tensor(-0.0074671926, shape=(), dtype=float32)</td>\n",
              "    </tr>\n",
              "    <tr>\n",
              "      <th>2</th>\n",
              "      <td>tf.Tensor(0.045437813, shape=(), dtype=float32)</td>\n",
              "      <td>tf.Tensor(-0.045930132, shape=(), dtype=float32)</td>\n",
              "      <td>tf.Tensor(-0.03301335, shape=(), dtype=float32)</td>\n",
              "      <td>tf.Tensor(-0.014479196, shape=(), dtype=float32)</td>\n",
              "      <td>tf.Tensor(-0.054528866, shape=(), dtype=float32)</td>\n",
              "      <td>tf.Tensor(0.037224695, shape=(), dtype=float32)</td>\n",
              "      <td>tf.Tensor(-0.058544833, shape=(), dtype=float32)</td>\n",
              "      <td>tf.Tensor(0.0008200922, shape=(), dtype=float32)</td>\n",
              "      <td>tf.Tensor(-0.06935643, shape=(), dtype=float32)</td>\n",
              "      <td>tf.Tensor(-0.003272004, shape=(), dtype=float32)</td>\n",
              "      <td>tf.Tensor(0.031586785, shape=(), dtype=float32)</td>\n",
              "      <td>tf.Tensor(-0.025794214, shape=(), dtype=float32)</td>\n",
              "      <td>tf.Tensor(-0.026548976, shape=(), dtype=float32)</td>\n",
              "      <td>tf.Tensor(-0.011898485, shape=(), dtype=float32)</td>\n",
              "      <td>tf.Tensor(-0.026618568, shape=(), dtype=float32)</td>\n",
              "      <td>tf.Tensor(0.024308247, shape=(), dtype=float32)</td>\n",
              "      <td>tf.Tensor(-0.043334138, shape=(), dtype=float32)</td>\n",
              "      <td>tf.Tensor(-0.02090661, shape=(), dtype=float32)</td>\n",
              "      <td>tf.Tensor(-0.05083747, shape=(), dtype=float32)</td>\n",
              "      <td>tf.Tensor(0.061473697, shape=(), dtype=float32)</td>\n",
              "      <td>tf.Tensor(-0.023366533, shape=(), dtype=float32)</td>\n",
              "      <td>tf.Tensor(0.070091024, shape=(), dtype=float32)</td>\n",
              "      <td>tf.Tensor(0.04609324, shape=(), dtype=float32)</td>\n",
              "      <td>tf.Tensor(-0.02781697, shape=(), dtype=float32)</td>\n",
              "      <td>tf.Tensor(-0.0096901795, shape=(), dtype=float32)</td>\n",
              "      <td>tf.Tensor(-0.0016633825, shape=(), dtype=float32)</td>\n",
              "      <td>tf.Tensor(-0.072600625, shape=(), dtype=float32)</td>\n",
              "      <td>tf.Tensor(-0.04213734, shape=(), dtype=float32)</td>\n",
              "      <td>tf.Tensor(0.011753211, shape=(), dtype=float32)</td>\n",
              "      <td>tf.Tensor(-0.012000154, shape=(), dtype=float32)</td>\n",
              "      <td>tf.Tensor(-0.066753045, shape=(), dtype=float32)</td>\n",
              "      <td>tf.Tensor(0.08368483, shape=(), dtype=float32)</td>\n",
              "      <td>tf.Tensor(-0.0018837249, shape=(), dtype=float32)</td>\n",
              "      <td>tf.Tensor(-0.04507616, shape=(), dtype=float32)</td>\n",
              "      <td>tf.Tensor(0.019883765, shape=(), dtype=float32)</td>\n",
              "      <td>tf.Tensor(0.06802985, shape=(), dtype=float32)</td>\n",
              "      <td>tf.Tensor(-0.106580764, shape=(), dtype=float32)</td>\n",
              "      <td>tf.Tensor(-0.036831632, shape=(), dtype=float32)</td>\n",
              "      <td>tf.Tensor(0.027857766, shape=(), dtype=float32)</td>\n",
              "      <td>tf.Tensor(-0.07773385, shape=(), dtype=float32)</td>\n",
              "      <td>...</td>\n",
              "      <td>tf.Tensor(-0.008437687, shape=(), dtype=float32)</td>\n",
              "      <td>tf.Tensor(0.018009242, shape=(), dtype=float32)</td>\n",
              "      <td>tf.Tensor(0.0053888243, shape=(), dtype=float32)</td>\n",
              "      <td>tf.Tensor(0.059567247, shape=(), dtype=float32)</td>\n",
              "      <td>tf.Tensor(-0.009914096, shape=(), dtype=float32)</td>\n",
              "      <td>tf.Tensor(-0.045861937, shape=(), dtype=float32)</td>\n",
              "      <td>tf.Tensor(0.037857603, shape=(), dtype=float32)</td>\n",
              "      <td>tf.Tensor(0.05386185, shape=(), dtype=float32)</td>\n",
              "      <td>tf.Tensor(0.035198774, shape=(), dtype=float32)</td>\n",
              "      <td>tf.Tensor(0.005710788, shape=(), dtype=float32)</td>\n",
              "      <td>tf.Tensor(-0.07162321, shape=(), dtype=float32)</td>\n",
              "      <td>tf.Tensor(-0.05402015, shape=(), dtype=float32)</td>\n",
              "      <td>tf.Tensor(0.018243907, shape=(), dtype=float32)</td>\n",
              "      <td>tf.Tensor(-0.006520372, shape=(), dtype=float32)</td>\n",
              "      <td>tf.Tensor(-0.0378147, shape=(), dtype=float32)</td>\n",
              "      <td>tf.Tensor(-0.026039343, shape=(), dtype=float32)</td>\n",
              "      <td>tf.Tensor(-0.017876633, shape=(), dtype=float32)</td>\n",
              "      <td>tf.Tensor(-0.05416851, shape=(), dtype=float32)</td>\n",
              "      <td>tf.Tensor(0.038411055, shape=(), dtype=float32)</td>\n",
              "      <td>tf.Tensor(0.008644263, shape=(), dtype=float32)</td>\n",
              "      <td>tf.Tensor(0.06558401, shape=(), dtype=float32)</td>\n",
              "      <td>tf.Tensor(0.055159383, shape=(), dtype=float32)</td>\n",
              "      <td>tf.Tensor(0.022649232, shape=(), dtype=float32)</td>\n",
              "      <td>tf.Tensor(-0.0003222016, shape=(), dtype=float32)</td>\n",
              "      <td>tf.Tensor(0.08920499, shape=(), dtype=float32)</td>\n",
              "      <td>tf.Tensor(-0.0031586443, shape=(), dtype=float32)</td>\n",
              "      <td>tf.Tensor(-0.014018556, shape=(), dtype=float32)</td>\n",
              "      <td>tf.Tensor(-0.04083315, shape=(), dtype=float32)</td>\n",
              "      <td>tf.Tensor(-0.0062758424, shape=(), dtype=float32)</td>\n",
              "      <td>tf.Tensor(0.025707671, shape=(), dtype=float32)</td>\n",
              "      <td>tf.Tensor(0.074024774, shape=(), dtype=float32)</td>\n",
              "      <td>tf.Tensor(0.06748654, shape=(), dtype=float32)</td>\n",
              "      <td>tf.Tensor(-0.0814219, shape=(), dtype=float32)</td>\n",
              "      <td>tf.Tensor(-0.041450564, shape=(), dtype=float32)</td>\n",
              "      <td>tf.Tensor(-0.035849493, shape=(), dtype=float32)</td>\n",
              "      <td>tf.Tensor(0.018394627, shape=(), dtype=float32)</td>\n",
              "      <td>tf.Tensor(0.054052476, shape=(), dtype=float32)</td>\n",
              "      <td>tf.Tensor(0.016588172, shape=(), dtype=float32)</td>\n",
              "      <td>tf.Tensor(-0.066856965, shape=(), dtype=float32)</td>\n",
              "      <td>tf.Tensor(-0.0023234372, shape=(), dtype=float32)</td>\n",
              "    </tr>\n",
              "    <tr>\n",
              "      <th>3</th>\n",
              "      <td>tf.Tensor(0.03427543, shape=(), dtype=float32)</td>\n",
              "      <td>tf.Tensor(-0.048242502, shape=(), dtype=float32)</td>\n",
              "      <td>tf.Tensor(-0.038730375, shape=(), dtype=float32)</td>\n",
              "      <td>tf.Tensor(0.05118899, shape=(), dtype=float32)</td>\n",
              "      <td>tf.Tensor(-0.0059919325, shape=(), dtype=float32)</td>\n",
              "      <td>tf.Tensor(0.010820201, shape=(), dtype=float32)</td>\n",
              "      <td>tf.Tensor(0.0046527707, shape=(), dtype=float32)</td>\n",
              "      <td>tf.Tensor(0.023469025, shape=(), dtype=float32)</td>\n",
              "      <td>tf.Tensor(-0.077616036, shape=(), dtype=float32)</td>\n",
              "      <td>tf.Tensor(-0.06585398, shape=(), dtype=float32)</td>\n",
              "      <td>tf.Tensor(0.00830635, shape=(), dtype=float32)</td>\n",
              "      <td>tf.Tensor(-0.028747018, shape=(), dtype=float32)</td>\n",
              "      <td>tf.Tensor(0.023441903, shape=(), dtype=float32)</td>\n",
              "      <td>tf.Tensor(0.062719055, shape=(), dtype=float32)</td>\n",
              "      <td>tf.Tensor(0.029938938, shape=(), dtype=float32)</td>\n",
              "      <td>tf.Tensor(-0.07363105, shape=(), dtype=float32)</td>\n",
              "      <td>tf.Tensor(-0.036631808, shape=(), dtype=float32)</td>\n",
              "      <td>tf.Tensor(0.02705749, shape=(), dtype=float32)</td>\n",
              "      <td>tf.Tensor(-0.07140283, shape=(), dtype=float32)</td>\n",
              "      <td>tf.Tensor(-0.018600168, shape=(), dtype=float32)</td>\n",
              "      <td>tf.Tensor(-0.02017926, shape=(), dtype=float32)</td>\n",
              "      <td>tf.Tensor(0.0076409793, shape=(), dtype=float32)</td>\n",
              "      <td>tf.Tensor(0.08408803, shape=(), dtype=float32)</td>\n",
              "      <td>tf.Tensor(-0.040002238, shape=(), dtype=float32)</td>\n",
              "      <td>tf.Tensor(-0.0006213501, shape=(), dtype=float32)</td>\n",
              "      <td>tf.Tensor(0.033782806, shape=(), dtype=float32)</td>\n",
              "      <td>tf.Tensor(0.04845009, shape=(), dtype=float32)</td>\n",
              "      <td>tf.Tensor(0.044418726, shape=(), dtype=float32)</td>\n",
              "      <td>tf.Tensor(0.0456866, shape=(), dtype=float32)</td>\n",
              "      <td>tf.Tensor(0.069241315, shape=(), dtype=float32)</td>\n",
              "      <td>tf.Tensor(-0.02855403, shape=(), dtype=float32)</td>\n",
              "      <td>tf.Tensor(0.07416491, shape=(), dtype=float32)</td>\n",
              "      <td>tf.Tensor(-0.077593945, shape=(), dtype=float32)</td>\n",
              "      <td>tf.Tensor(-0.061212476, shape=(), dtype=float32)</td>\n",
              "      <td>tf.Tensor(-0.026088057, shape=(), dtype=float32)</td>\n",
              "      <td>tf.Tensor(0.05394583, shape=(), dtype=float32)</td>\n",
              "      <td>tf.Tensor(-0.06060497, shape=(), dtype=float32)</td>\n",
              "      <td>tf.Tensor(0.013243543, shape=(), dtype=float32)</td>\n",
              "      <td>tf.Tensor(-0.059036057, shape=(), dtype=float32)</td>\n",
              "      <td>tf.Tensor(0.013848931, shape=(), dtype=float32)</td>\n",
              "      <td>...</td>\n",
              "      <td>tf.Tensor(0.028325832, shape=(), dtype=float32)</td>\n",
              "      <td>tf.Tensor(0.012332781, shape=(), dtype=float32)</td>\n",
              "      <td>tf.Tensor(-0.035402164, shape=(), dtype=float32)</td>\n",
              "      <td>tf.Tensor(0.024564521, shape=(), dtype=float32)</td>\n",
              "      <td>tf.Tensor(0.0600379, shape=(), dtype=float32)</td>\n",
              "      <td>tf.Tensor(-0.0038267546, shape=(), dtype=float32)</td>\n",
              "      <td>tf.Tensor(0.07702269, shape=(), dtype=float32)</td>\n",
              "      <td>tf.Tensor(0.043599125, shape=(), dtype=float32)</td>\n",
              "      <td>tf.Tensor(0.034575928, shape=(), dtype=float32)</td>\n",
              "      <td>tf.Tensor(0.0021664745, shape=(), dtype=float32)</td>\n",
              "      <td>tf.Tensor(-0.0064083887, shape=(), dtype=float32)</td>\n",
              "      <td>tf.Tensor(-0.062285013, shape=(), dtype=float32)</td>\n",
              "      <td>tf.Tensor(-0.056583453, shape=(), dtype=float32)</td>\n",
              "      <td>tf.Tensor(-0.027064783, shape=(), dtype=float32)</td>\n",
              "      <td>tf.Tensor(0.006883407, shape=(), dtype=float32)</td>\n",
              "      <td>tf.Tensor(-0.04530715, shape=(), dtype=float32)</td>\n",
              "      <td>tf.Tensor(0.014526668, shape=(), dtype=float32)</td>\n",
              "      <td>tf.Tensor(0.05355852, shape=(), dtype=float32)</td>\n",
              "      <td>tf.Tensor(-0.012152748, shape=(), dtype=float32)</td>\n",
              "      <td>tf.Tensor(-0.061001893, shape=(), dtype=float32)</td>\n",
              "      <td>tf.Tensor(0.039895784, shape=(), dtype=float32)</td>\n",
              "      <td>tf.Tensor(0.027257992, shape=(), dtype=float32)</td>\n",
              "      <td>tf.Tensor(0.055251658, shape=(), dtype=float32)</td>\n",
              "      <td>tf.Tensor(-0.026491277, shape=(), dtype=float32)</td>\n",
              "      <td>tf.Tensor(0.08201702, shape=(), dtype=float32)</td>\n",
              "      <td>tf.Tensor(0.020099455, shape=(), dtype=float32)</td>\n",
              "      <td>tf.Tensor(0.02505589, shape=(), dtype=float32)</td>\n",
              "      <td>tf.Tensor(-0.050098408, shape=(), dtype=float32)</td>\n",
              "      <td>tf.Tensor(0.05558905, shape=(), dtype=float32)</td>\n",
              "      <td>tf.Tensor(0.0441366, shape=(), dtype=float32)</td>\n",
              "      <td>tf.Tensor(-0.031494826, shape=(), dtype=float32)</td>\n",
              "      <td>tf.Tensor(0.014599001, shape=(), dtype=float32)</td>\n",
              "      <td>tf.Tensor(0.010515619, shape=(), dtype=float32)</td>\n",
              "      <td>tf.Tensor(0.014802961, shape=(), dtype=float32)</td>\n",
              "      <td>tf.Tensor(-0.033886947, shape=(), dtype=float32)</td>\n",
              "      <td>tf.Tensor(-0.028089408, shape=(), dtype=float32)</td>\n",
              "      <td>tf.Tensor(-0.012200672, shape=(), dtype=float32)</td>\n",
              "      <td>tf.Tensor(0.011360182, shape=(), dtype=float32)</td>\n",
              "      <td>tf.Tensor(-0.011557482, shape=(), dtype=float32)</td>\n",
              "      <td>tf.Tensor(0.0005058565, shape=(), dtype=float32)</td>\n",
              "    </tr>\n",
              "    <tr>\n",
              "      <th>4</th>\n",
              "      <td>tf.Tensor(-0.0076758713, shape=(), dtype=float32)</td>\n",
              "      <td>tf.Tensor(-0.0042908485, shape=(), dtype=float32)</td>\n",
              "      <td>tf.Tensor(-0.023359986, shape=(), dtype=float32)</td>\n",
              "      <td>tf.Tensor(-0.0034870412, shape=(), dtype=float32)</td>\n",
              "      <td>tf.Tensor(0.0069235004, shape=(), dtype=float32)</td>\n",
              "      <td>tf.Tensor(-0.026925923, shape=(), dtype=float32)</td>\n",
              "      <td>tf.Tensor(-0.006806141, shape=(), dtype=float32)</td>\n",
              "      <td>tf.Tensor(0.004169719, shape=(), dtype=float32)</td>\n",
              "      <td>tf.Tensor(0.051077582, shape=(), dtype=float32)</td>\n",
              "      <td>tf.Tensor(-0.007905965, shape=(), dtype=float32)</td>\n",
              "      <td>tf.Tensor(0.022291336, shape=(), dtype=float32)</td>\n",
              "      <td>tf.Tensor(-0.011623496, shape=(), dtype=float32)</td>\n",
              "      <td>tf.Tensor(-0.0336441, shape=(), dtype=float32)</td>\n",
              "      <td>tf.Tensor(-0.038236722, shape=(), dtype=float32)</td>\n",
              "      <td>tf.Tensor(-0.018152399, shape=(), dtype=float32)</td>\n",
              "      <td>tf.Tensor(-0.026979223, shape=(), dtype=float32)</td>\n",
              "      <td>tf.Tensor(-0.08172356, shape=(), dtype=float32)</td>\n",
              "      <td>tf.Tensor(0.03153583, shape=(), dtype=float32)</td>\n",
              "      <td>tf.Tensor(0.0014293396, shape=(), dtype=float32)</td>\n",
              "      <td>tf.Tensor(-0.024650395, shape=(), dtype=float32)</td>\n",
              "      <td>tf.Tensor(-0.0653122, shape=(), dtype=float32)</td>\n",
              "      <td>tf.Tensor(0.03323152, shape=(), dtype=float32)</td>\n",
              "      <td>tf.Tensor(0.03484335, shape=(), dtype=float32)</td>\n",
              "      <td>tf.Tensor(-0.024914641, shape=(), dtype=float32)</td>\n",
              "      <td>tf.Tensor(0.07395258, shape=(), dtype=float32)</td>\n",
              "      <td>tf.Tensor(0.072971866, shape=(), dtype=float32)</td>\n",
              "      <td>tf.Tensor(-0.06600144, shape=(), dtype=float32)</td>\n",
              "      <td>tf.Tensor(0.049377423, shape=(), dtype=float32)</td>\n",
              "      <td>tf.Tensor(-0.06731136, shape=(), dtype=float32)</td>\n",
              "      <td>tf.Tensor(0.036946315, shape=(), dtype=float32)</td>\n",
              "      <td>tf.Tensor(-0.02300946, shape=(), dtype=float32)</td>\n",
              "      <td>tf.Tensor(0.073401324, shape=(), dtype=float32)</td>\n",
              "      <td>tf.Tensor(0.04567338, shape=(), dtype=float32)</td>\n",
              "      <td>tf.Tensor(0.016012587, shape=(), dtype=float32)</td>\n",
              "      <td>tf.Tensor(0.077231385, shape=(), dtype=float32)</td>\n",
              "      <td>tf.Tensor(0.06775176, shape=(), dtype=float32)</td>\n",
              "      <td>tf.Tensor(-0.06582005, shape=(), dtype=float32)</td>\n",
              "      <td>tf.Tensor(-0.008680285, shape=(), dtype=float32)</td>\n",
              "      <td>tf.Tensor(0.006762154, shape=(), dtype=float32)</td>\n",
              "      <td>tf.Tensor(-0.049457278, shape=(), dtype=float32)</td>\n",
              "      <td>...</td>\n",
              "      <td>tf.Tensor(-0.0075038914, shape=(), dtype=float32)</td>\n",
              "      <td>tf.Tensor(0.03807369, shape=(), dtype=float32)</td>\n",
              "      <td>tf.Tensor(0.018489871, shape=(), dtype=float32)</td>\n",
              "      <td>tf.Tensor(0.071621805, shape=(), dtype=float32)</td>\n",
              "      <td>tf.Tensor(0.051308118, shape=(), dtype=float32)</td>\n",
              "      <td>tf.Tensor(-0.074726775, shape=(), dtype=float32)</td>\n",
              "      <td>tf.Tensor(0.03848916, shape=(), dtype=float32)</td>\n",
              "      <td>tf.Tensor(0.023869675, shape=(), dtype=float32)</td>\n",
              "      <td>tf.Tensor(-0.035109118, shape=(), dtype=float32)</td>\n",
              "      <td>tf.Tensor(-0.03455076, shape=(), dtype=float32)</td>\n",
              "      <td>tf.Tensor(-0.05214778, shape=(), dtype=float32)</td>\n",
              "      <td>tf.Tensor(-0.053082272, shape=(), dtype=float32)</td>\n",
              "      <td>tf.Tensor(0.014248055, shape=(), dtype=float32)</td>\n",
              "      <td>tf.Tensor(-0.045820165, shape=(), dtype=float32)</td>\n",
              "      <td>tf.Tensor(0.010281988, shape=(), dtype=float32)</td>\n",
              "      <td>tf.Tensor(-0.037756015, shape=(), dtype=float32)</td>\n",
              "      <td>tf.Tensor(-0.06007765, shape=(), dtype=float32)</td>\n",
              "      <td>tf.Tensor(-0.056823906, shape=(), dtype=float32)</td>\n",
              "      <td>tf.Tensor(0.045755822, shape=(), dtype=float32)</td>\n",
              "      <td>tf.Tensor(0.008052778, shape=(), dtype=float32)</td>\n",
              "      <td>tf.Tensor(0.03656548, shape=(), dtype=float32)</td>\n",
              "      <td>tf.Tensor(0.024998823, shape=(), dtype=float32)</td>\n",
              "      <td>tf.Tensor(-0.024737129, shape=(), dtype=float32)</td>\n",
              "      <td>tf.Tensor(0.06406236, shape=(), dtype=float32)</td>\n",
              "      <td>tf.Tensor(0.049644727, shape=(), dtype=float32)</td>\n",
              "      <td>tf.Tensor(-0.0061427853, shape=(), dtype=float32)</td>\n",
              "      <td>tf.Tensor(0.04691077, shape=(), dtype=float32)</td>\n",
              "      <td>tf.Tensor(-0.032203317, shape=(), dtype=float32)</td>\n",
              "      <td>tf.Tensor(-0.053640634, shape=(), dtype=float32)</td>\n",
              "      <td>tf.Tensor(0.06288602, shape=(), dtype=float32)</td>\n",
              "      <td>tf.Tensor(0.064675845, shape=(), dtype=float32)</td>\n",
              "      <td>tf.Tensor(-0.017929994, shape=(), dtype=float32)</td>\n",
              "      <td>tf.Tensor(0.02049629, shape=(), dtype=float32)</td>\n",
              "      <td>tf.Tensor(0.039023146, shape=(), dtype=float32)</td>\n",
              "      <td>tf.Tensor(0.0021694326, shape=(), dtype=float32)</td>\n",
              "      <td>tf.Tensor(-0.03436527, shape=(), dtype=float32)</td>\n",
              "      <td>tf.Tensor(-0.027999593, shape=(), dtype=float32)</td>\n",
              "      <td>tf.Tensor(0.059930895, shape=(), dtype=float32)</td>\n",
              "      <td>tf.Tensor(-0.022410482, shape=(), dtype=float32)</td>\n",
              "      <td>tf.Tensor(0.0223399, shape=(), dtype=float32)</td>\n",
              "    </tr>\n",
              "    <tr>\n",
              "      <th>...</th>\n",
              "      <td>...</td>\n",
              "      <td>...</td>\n",
              "      <td>...</td>\n",
              "      <td>...</td>\n",
              "      <td>...</td>\n",
              "      <td>...</td>\n",
              "      <td>...</td>\n",
              "      <td>...</td>\n",
              "      <td>...</td>\n",
              "      <td>...</td>\n",
              "      <td>...</td>\n",
              "      <td>...</td>\n",
              "      <td>...</td>\n",
              "      <td>...</td>\n",
              "      <td>...</td>\n",
              "      <td>...</td>\n",
              "      <td>...</td>\n",
              "      <td>...</td>\n",
              "      <td>...</td>\n",
              "      <td>...</td>\n",
              "      <td>...</td>\n",
              "      <td>...</td>\n",
              "      <td>...</td>\n",
              "      <td>...</td>\n",
              "      <td>...</td>\n",
              "      <td>...</td>\n",
              "      <td>...</td>\n",
              "      <td>...</td>\n",
              "      <td>...</td>\n",
              "      <td>...</td>\n",
              "      <td>...</td>\n",
              "      <td>...</td>\n",
              "      <td>...</td>\n",
              "      <td>...</td>\n",
              "      <td>...</td>\n",
              "      <td>...</td>\n",
              "      <td>...</td>\n",
              "      <td>...</td>\n",
              "      <td>...</td>\n",
              "      <td>...</td>\n",
              "      <td>...</td>\n",
              "      <td>...</td>\n",
              "      <td>...</td>\n",
              "      <td>...</td>\n",
              "      <td>...</td>\n",
              "      <td>...</td>\n",
              "      <td>...</td>\n",
              "      <td>...</td>\n",
              "      <td>...</td>\n",
              "      <td>...</td>\n",
              "      <td>...</td>\n",
              "      <td>...</td>\n",
              "      <td>...</td>\n",
              "      <td>...</td>\n",
              "      <td>...</td>\n",
              "      <td>...</td>\n",
              "      <td>...</td>\n",
              "      <td>...</td>\n",
              "      <td>...</td>\n",
              "      <td>...</td>\n",
              "      <td>...</td>\n",
              "      <td>...</td>\n",
              "      <td>...</td>\n",
              "      <td>...</td>\n",
              "      <td>...</td>\n",
              "      <td>...</td>\n",
              "      <td>...</td>\n",
              "      <td>...</td>\n",
              "      <td>...</td>\n",
              "      <td>...</td>\n",
              "      <td>...</td>\n",
              "      <td>...</td>\n",
              "      <td>...</td>\n",
              "      <td>...</td>\n",
              "      <td>...</td>\n",
              "      <td>...</td>\n",
              "      <td>...</td>\n",
              "      <td>...</td>\n",
              "      <td>...</td>\n",
              "      <td>...</td>\n",
              "      <td>...</td>\n",
              "    </tr>\n",
              "    <tr>\n",
              "      <th>1880</th>\n",
              "      <td>tf.Tensor(-0.000887936, shape=(), dtype=float32)</td>\n",
              "      <td>tf.Tensor(-0.04934515, shape=(), dtype=float32)</td>\n",
              "      <td>tf.Tensor(-0.03756273, shape=(), dtype=float32)</td>\n",
              "      <td>tf.Tensor(-0.0044337106, shape=(), dtype=float32)</td>\n",
              "      <td>tf.Tensor(-0.032942064, shape=(), dtype=float32)</td>\n",
              "      <td>tf.Tensor(0.029268008, shape=(), dtype=float32)</td>\n",
              "      <td>tf.Tensor(0.058666077, shape=(), dtype=float32)</td>\n",
              "      <td>tf.Tensor(0.056649126, shape=(), dtype=float32)</td>\n",
              "      <td>tf.Tensor(-0.028944718, shape=(), dtype=float32)</td>\n",
              "      <td>tf.Tensor(-0.05253642, shape=(), dtype=float32)</td>\n",
              "      <td>tf.Tensor(-0.038516503, shape=(), dtype=float32)</td>\n",
              "      <td>tf.Tensor(-0.026441159, shape=(), dtype=float32)</td>\n",
              "      <td>tf.Tensor(0.027505264, shape=(), dtype=float32)</td>\n",
              "      <td>tf.Tensor(-0.022867877, shape=(), dtype=float32)</td>\n",
              "      <td>tf.Tensor(0.014951764, shape=(), dtype=float32)</td>\n",
              "      <td>tf.Tensor(-0.047200795, shape=(), dtype=float32)</td>\n",
              "      <td>tf.Tensor(-0.08771593, shape=(), dtype=float32)</td>\n",
              "      <td>tf.Tensor(0.040192083, shape=(), dtype=float32)</td>\n",
              "      <td>tf.Tensor(-0.06864339, shape=(), dtype=float32)</td>\n",
              "      <td>tf.Tensor(-0.07811281, shape=(), dtype=float32)</td>\n",
              "      <td>tf.Tensor(-0.024064636, shape=(), dtype=float32)</td>\n",
              "      <td>tf.Tensor(-0.0013731527, shape=(), dtype=float32)</td>\n",
              "      <td>tf.Tensor(0.06362601, shape=(), dtype=float32)</td>\n",
              "      <td>tf.Tensor(0.0020491628, shape=(), dtype=float32)</td>\n",
              "      <td>tf.Tensor(-0.037274864, shape=(), dtype=float32)</td>\n",
              "      <td>tf.Tensor(0.03886639, shape=(), dtype=float32)</td>\n",
              "      <td>tf.Tensor(0.08342626, shape=(), dtype=float32)</td>\n",
              "      <td>tf.Tensor(0.018363448, shape=(), dtype=float32)</td>\n",
              "      <td>tf.Tensor(-0.035008796, shape=(), dtype=float32)</td>\n",
              "      <td>tf.Tensor(0.03903951, shape=(), dtype=float32)</td>\n",
              "      <td>tf.Tensor(-0.02246534, shape=(), dtype=float32)</td>\n",
              "      <td>tf.Tensor(-0.06204292, shape=(), dtype=float32)</td>\n",
              "      <td>tf.Tensor(0.02266607, shape=(), dtype=float32)</td>\n",
              "      <td>tf.Tensor(-0.075292125, shape=(), dtype=float32)</td>\n",
              "      <td>tf.Tensor(0.030667609, shape=(), dtype=float32)</td>\n",
              "      <td>tf.Tensor(0.0822273, shape=(), dtype=float32)</td>\n",
              "      <td>tf.Tensor(-0.010463845, shape=(), dtype=float32)</td>\n",
              "      <td>tf.Tensor(-0.033396404, shape=(), dtype=float32)</td>\n",
              "      <td>tf.Tensor(-0.040545262, shape=(), dtype=float32)</td>\n",
              "      <td>tf.Tensor(0.0052966806, shape=(), dtype=float32)</td>\n",
              "      <td>...</td>\n",
              "      <td>tf.Tensor(-0.024686301, shape=(), dtype=float32)</td>\n",
              "      <td>tf.Tensor(-0.0010253714, shape=(), dtype=float32)</td>\n",
              "      <td>tf.Tensor(0.048705682, shape=(), dtype=float32)</td>\n",
              "      <td>tf.Tensor(-0.036193855, shape=(), dtype=float32)</td>\n",
              "      <td>tf.Tensor(0.055052727, shape=(), dtype=float32)</td>\n",
              "      <td>tf.Tensor(0.010597373, shape=(), dtype=float32)</td>\n",
              "      <td>tf.Tensor(0.014773914, shape=(), dtype=float32)</td>\n",
              "      <td>tf.Tensor(3.4592285e-05, shape=(), dtype=float32)</td>\n",
              "      <td>tf.Tensor(0.045798395, shape=(), dtype=float32)</td>\n",
              "      <td>tf.Tensor(-0.026030444, shape=(), dtype=float32)</td>\n",
              "      <td>tf.Tensor(0.031017989, shape=(), dtype=float32)</td>\n",
              "      <td>tf.Tensor(-0.055053063, shape=(), dtype=float32)</td>\n",
              "      <td>tf.Tensor(-0.00012862278, shape=(), dtype=floa...</td>\n",
              "      <td>tf.Tensor(0.03986292, shape=(), dtype=float32)</td>\n",
              "      <td>tf.Tensor(-0.015663393, shape=(), dtype=float32)</td>\n",
              "      <td>tf.Tensor(-0.018681176, shape=(), dtype=float32)</td>\n",
              "      <td>tf.Tensor(0.010746441, shape=(), dtype=float32)</td>\n",
              "      <td>tf.Tensor(-0.008506879, shape=(), dtype=float32)</td>\n",
              "      <td>tf.Tensor(-0.0044730296, shape=(), dtype=float32)</td>\n",
              "      <td>tf.Tensor(-0.014726308, shape=(), dtype=float32)</td>\n",
              "      <td>tf.Tensor(-0.021742277, shape=(), dtype=float32)</td>\n",
              "      <td>tf.Tensor(0.043700747, shape=(), dtype=float32)</td>\n",
              "      <td>tf.Tensor(0.025709022, shape=(), dtype=float32)</td>\n",
              "      <td>tf.Tensor(0.013940732, shape=(), dtype=float32)</td>\n",
              "      <td>tf.Tensor(-0.021559047, shape=(), dtype=float32)</td>\n",
              "      <td>tf.Tensor(0.023020463, shape=(), dtype=float32)</td>\n",
              "      <td>tf.Tensor(0.038473763, shape=(), dtype=float32)</td>\n",
              "      <td>tf.Tensor(-0.028240632, shape=(), dtype=float32)</td>\n",
              "      <td>tf.Tensor(-0.050838728, shape=(), dtype=float32)</td>\n",
              "      <td>tf.Tensor(0.020630065, shape=(), dtype=float32)</td>\n",
              "      <td>tf.Tensor(0.046501387, shape=(), dtype=float32)</td>\n",
              "      <td>tf.Tensor(0.04211097, shape=(), dtype=float32)</td>\n",
              "      <td>tf.Tensor(-0.005430116, shape=(), dtype=float32)</td>\n",
              "      <td>tf.Tensor(0.0338377, shape=(), dtype=float32)</td>\n",
              "      <td>tf.Tensor(-0.065504074, shape=(), dtype=float32)</td>\n",
              "      <td>tf.Tensor(0.016281273, shape=(), dtype=float32)</td>\n",
              "      <td>tf.Tensor(-0.0622882, shape=(), dtype=float32)</td>\n",
              "      <td>tf.Tensor(0.004896068, shape=(), dtype=float32)</td>\n",
              "      <td>tf.Tensor(0.0089433035, shape=(), dtype=float32)</td>\n",
              "      <td>tf.Tensor(-0.016738933, shape=(), dtype=float32)</td>\n",
              "    </tr>\n",
              "    <tr>\n",
              "      <th>1881</th>\n",
              "      <td>tf.Tensor(0.059284404, shape=(), dtype=float32)</td>\n",
              "      <td>tf.Tensor(0.033522848, shape=(), dtype=float32)</td>\n",
              "      <td>tf.Tensor(-0.039979775, shape=(), dtype=float32)</td>\n",
              "      <td>tf.Tensor(-0.033077057, shape=(), dtype=float32)</td>\n",
              "      <td>tf.Tensor(-0.055059828, shape=(), dtype=float32)</td>\n",
              "      <td>tf.Tensor(0.018996203, shape=(), dtype=float32)</td>\n",
              "      <td>tf.Tensor(-0.0051109763, shape=(), dtype=float32)</td>\n",
              "      <td>tf.Tensor(0.025894785, shape=(), dtype=float32)</td>\n",
              "      <td>tf.Tensor(-0.030010233, shape=(), dtype=float32)</td>\n",
              "      <td>tf.Tensor(0.033751804, shape=(), dtype=float32)</td>\n",
              "      <td>tf.Tensor(0.0030128357, shape=(), dtype=float32)</td>\n",
              "      <td>tf.Tensor(0.0031140295, shape=(), dtype=float32)</td>\n",
              "      <td>tf.Tensor(0.0655708, shape=(), dtype=float32)</td>\n",
              "      <td>tf.Tensor(0.037152633, shape=(), dtype=float32)</td>\n",
              "      <td>tf.Tensor(-0.047006454, shape=(), dtype=float32)</td>\n",
              "      <td>tf.Tensor(-0.05684947, shape=(), dtype=float32)</td>\n",
              "      <td>tf.Tensor(0.02302528, shape=(), dtype=float32)</td>\n",
              "      <td>tf.Tensor(0.06154556, shape=(), dtype=float32)</td>\n",
              "      <td>tf.Tensor(-0.018387875, shape=(), dtype=float32)</td>\n",
              "      <td>tf.Tensor(0.04189339, shape=(), dtype=float32)</td>\n",
              "      <td>tf.Tensor(-0.056410905, shape=(), dtype=float32)</td>\n",
              "      <td>tf.Tensor(-0.000276858, shape=(), dtype=float32)</td>\n",
              "      <td>tf.Tensor(0.029188588, shape=(), dtype=float32)</td>\n",
              "      <td>tf.Tensor(0.026596466, shape=(), dtype=float32)</td>\n",
              "      <td>tf.Tensor(-0.023509612, shape=(), dtype=float32)</td>\n",
              "      <td>tf.Tensor(-0.022360662, shape=(), dtype=float32)</td>\n",
              "      <td>tf.Tensor(0.05609573, shape=(), dtype=float32)</td>\n",
              "      <td>tf.Tensor(0.04128644, shape=(), dtype=float32)</td>\n",
              "      <td>tf.Tensor(-0.042616297, shape=(), dtype=float32)</td>\n",
              "      <td>tf.Tensor(0.010203241, shape=(), dtype=float32)</td>\n",
              "      <td>tf.Tensor(0.032476917, shape=(), dtype=float32)</td>\n",
              "      <td>tf.Tensor(-0.008485185, shape=(), dtype=float32)</td>\n",
              "      <td>tf.Tensor(0.056348994, shape=(), dtype=float32)</td>\n",
              "      <td>tf.Tensor(-0.06588125, shape=(), dtype=float32)</td>\n",
              "      <td>tf.Tensor(-0.009421979, shape=(), dtype=float32)</td>\n",
              "      <td>tf.Tensor(0.054557186, shape=(), dtype=float32)</td>\n",
              "      <td>tf.Tensor(-0.082936294, shape=(), dtype=float32)</td>\n",
              "      <td>tf.Tensor(-0.040916987, shape=(), dtype=float32)</td>\n",
              "      <td>tf.Tensor(0.06772701, shape=(), dtype=float32)</td>\n",
              "      <td>tf.Tensor(-0.017837409, shape=(), dtype=float32)</td>\n",
              "      <td>...</td>\n",
              "      <td>tf.Tensor(-0.04506768, shape=(), dtype=float32)</td>\n",
              "      <td>tf.Tensor(0.060188532, shape=(), dtype=float32)</td>\n",
              "      <td>tf.Tensor(0.0051347096, shape=(), dtype=float32)</td>\n",
              "      <td>tf.Tensor(0.011528477, shape=(), dtype=float32)</td>\n",
              "      <td>tf.Tensor(-0.0040200097, shape=(), dtype=float32)</td>\n",
              "      <td>tf.Tensor(0.017960364, shape=(), dtype=float32)</td>\n",
              "      <td>tf.Tensor(0.020555096, shape=(), dtype=float32)</td>\n",
              "      <td>tf.Tensor(0.03952111, shape=(), dtype=float32)</td>\n",
              "      <td>tf.Tensor(-0.07654675, shape=(), dtype=float32)</td>\n",
              "      <td>tf.Tensor(0.046099864, shape=(), dtype=float32)</td>\n",
              "      <td>tf.Tensor(-0.05450598, shape=(), dtype=float32)</td>\n",
              "      <td>tf.Tensor(-0.0620733, shape=(), dtype=float32)</td>\n",
              "      <td>tf.Tensor(-0.07306359, shape=(), dtype=float32)</td>\n",
              "      <td>tf.Tensor(0.04574356, shape=(), dtype=float32)</td>\n",
              "      <td>tf.Tensor(0.034875326, shape=(), dtype=float32)</td>\n",
              "      <td>tf.Tensor(0.059912246, shape=(), dtype=float32)</td>\n",
              "      <td>tf.Tensor(0.021699876, shape=(), dtype=float32)</td>\n",
              "      <td>tf.Tensor(-0.029210016, shape=(), dtype=float32)</td>\n",
              "      <td>tf.Tensor(-0.0047256756, shape=(), dtype=float32)</td>\n",
              "      <td>tf.Tensor(-0.01795866, shape=(), dtype=float32)</td>\n",
              "      <td>tf.Tensor(-0.075078934, shape=(), dtype=float32)</td>\n",
              "      <td>tf.Tensor(0.0357459, shape=(), dtype=float32)</td>\n",
              "      <td>tf.Tensor(0.05107701, shape=(), dtype=float32)</td>\n",
              "      <td>tf.Tensor(0.07983308, shape=(), dtype=float32)</td>\n",
              "      <td>tf.Tensor(-0.053336825, shape=(), dtype=float32)</td>\n",
              "      <td>tf.Tensor(0.010851707, shape=(), dtype=float32)</td>\n",
              "      <td>tf.Tensor(-0.061766483, shape=(), dtype=float32)</td>\n",
              "      <td>tf.Tensor(0.052808125, shape=(), dtype=float32)</td>\n",
              "      <td>tf.Tensor(-0.034286372, shape=(), dtype=float32)</td>\n",
              "      <td>tf.Tensor(0.06623785, shape=(), dtype=float32)</td>\n",
              "      <td>tf.Tensor(-0.022870196, shape=(), dtype=float32)</td>\n",
              "      <td>tf.Tensor(0.029120808, shape=(), dtype=float32)</td>\n",
              "      <td>tf.Tensor(-0.04627252, shape=(), dtype=float32)</td>\n",
              "      <td>tf.Tensor(0.035743836, shape=(), dtype=float32)</td>\n",
              "      <td>tf.Tensor(-0.007331748, shape=(), dtype=float32)</td>\n",
              "      <td>tf.Tensor(0.026178433, shape=(), dtype=float32)</td>\n",
              "      <td>tf.Tensor(-0.018025307, shape=(), dtype=float32)</td>\n",
              "      <td>tf.Tensor(0.04719684, shape=(), dtype=float32)</td>\n",
              "      <td>tf.Tensor(-0.01878543, shape=(), dtype=float32)</td>\n",
              "      <td>tf.Tensor(-0.021014024, shape=(), dtype=float32)</td>\n",
              "    </tr>\n",
              "    <tr>\n",
              "      <th>1882</th>\n",
              "      <td>tf.Tensor(0.06662057, shape=(), dtype=float32)</td>\n",
              "      <td>tf.Tensor(-0.005148606, shape=(), dtype=float32)</td>\n",
              "      <td>tf.Tensor(-0.01923218, shape=(), dtype=float32)</td>\n",
              "      <td>tf.Tensor(0.032705974, shape=(), dtype=float32)</td>\n",
              "      <td>tf.Tensor(0.017152598, shape=(), dtype=float32)</td>\n",
              "      <td>tf.Tensor(0.044720504, shape=(), dtype=float32)</td>\n",
              "      <td>tf.Tensor(0.015081356, shape=(), dtype=float32)</td>\n",
              "      <td>tf.Tensor(-0.010910335, shape=(), dtype=float32)</td>\n",
              "      <td>tf.Tensor(0.027840368, shape=(), dtype=float32)</td>\n",
              "      <td>tf.Tensor(-0.036385193, shape=(), dtype=float32)</td>\n",
              "      <td>tf.Tensor(-0.015545901, shape=(), dtype=float32)</td>\n",
              "      <td>tf.Tensor(0.0191034, shape=(), dtype=float32)</td>\n",
              "      <td>tf.Tensor(-0.0062741474, shape=(), dtype=float32)</td>\n",
              "      <td>tf.Tensor(0.065310724, shape=(), dtype=float32)</td>\n",
              "      <td>tf.Tensor(-0.08293672, shape=(), dtype=float32)</td>\n",
              "      <td>tf.Tensor(0.020729506, shape=(), dtype=float32)</td>\n",
              "      <td>tf.Tensor(-0.07522234, shape=(), dtype=float32)</td>\n",
              "      <td>tf.Tensor(0.0061096502, shape=(), dtype=float32)</td>\n",
              "      <td>tf.Tensor(-0.0129219275, shape=(), dtype=float32)</td>\n",
              "      <td>tf.Tensor(-0.027818488, shape=(), dtype=float32)</td>\n",
              "      <td>tf.Tensor(0.006333009, shape=(), dtype=float32)</td>\n",
              "      <td>tf.Tensor(0.04789526, shape=(), dtype=float32)</td>\n",
              "      <td>tf.Tensor(-0.013467765, shape=(), dtype=float32)</td>\n",
              "      <td>tf.Tensor(-0.0111019015, shape=(), dtype=float32)</td>\n",
              "      <td>tf.Tensor(-0.0028906958, shape=(), dtype=float32)</td>\n",
              "      <td>tf.Tensor(0.089388475, shape=(), dtype=float32)</td>\n",
              "      <td>tf.Tensor(-0.010582223, shape=(), dtype=float32)</td>\n",
              "      <td>tf.Tensor(0.013748446, shape=(), dtype=float32)</td>\n",
              "      <td>tf.Tensor(-0.04288176, shape=(), dtype=float32)</td>\n",
              "      <td>tf.Tensor(-0.037334975, shape=(), dtype=float32)</td>\n",
              "      <td>tf.Tensor(0.030187733, shape=(), dtype=float32)</td>\n",
              "      <td>tf.Tensor(0.05203772, shape=(), dtype=float32)</td>\n",
              "      <td>tf.Tensor(0.026007546, shape=(), dtype=float32)</td>\n",
              "      <td>tf.Tensor(-0.010483418, shape=(), dtype=float32)</td>\n",
              "      <td>tf.Tensor(-0.05447226, shape=(), dtype=float32)</td>\n",
              "      <td>tf.Tensor(0.040728, shape=(), dtype=float32)</td>\n",
              "      <td>tf.Tensor(-0.0017199009, shape=(), dtype=float32)</td>\n",
              "      <td>tf.Tensor(-0.017841056, shape=(), dtype=float32)</td>\n",
              "      <td>tf.Tensor(-0.0008943945, shape=(), dtype=float32)</td>\n",
              "      <td>tf.Tensor(0.06495897, shape=(), dtype=float32)</td>\n",
              "      <td>...</td>\n",
              "      <td>tf.Tensor(-0.009188841, shape=(), dtype=float32)</td>\n",
              "      <td>tf.Tensor(0.067364655, shape=(), dtype=float32)</td>\n",
              "      <td>tf.Tensor(0.046998248, shape=(), dtype=float32)</td>\n",
              "      <td>tf.Tensor(0.044357218, shape=(), dtype=float32)</td>\n",
              "      <td>tf.Tensor(-0.04376044, shape=(), dtype=float32)</td>\n",
              "      <td>tf.Tensor(0.03320788, shape=(), dtype=float32)</td>\n",
              "      <td>tf.Tensor(-0.014328773, shape=(), dtype=float32)</td>\n",
              "      <td>tf.Tensor(0.040048648, shape=(), dtype=float32)</td>\n",
              "      <td>tf.Tensor(-0.07445411, shape=(), dtype=float32)</td>\n",
              "      <td>tf.Tensor(0.023819255, shape=(), dtype=float32)</td>\n",
              "      <td>tf.Tensor(-0.015972147, shape=(), dtype=float32)</td>\n",
              "      <td>tf.Tensor(-0.06280032, shape=(), dtype=float32)</td>\n",
              "      <td>tf.Tensor(-0.028614115, shape=(), dtype=float32)</td>\n",
              "      <td>tf.Tensor(-0.014142669, shape=(), dtype=float32)</td>\n",
              "      <td>tf.Tensor(-0.028250704, shape=(), dtype=float32)</td>\n",
              "      <td>tf.Tensor(0.0019995188, shape=(), dtype=float32)</td>\n",
              "      <td>tf.Tensor(0.069414675, shape=(), dtype=float32)</td>\n",
              "      <td>tf.Tensor(0.015006499, shape=(), dtype=float32)</td>\n",
              "      <td>tf.Tensor(-0.020381903, shape=(), dtype=float32)</td>\n",
              "      <td>tf.Tensor(-0.06362164, shape=(), dtype=float32)</td>\n",
              "      <td>tf.Tensor(0.06425172, shape=(), dtype=float32)</td>\n",
              "      <td>tf.Tensor(-0.011052908, shape=(), dtype=float32)</td>\n",
              "      <td>tf.Tensor(0.051790446, shape=(), dtype=float32)</td>\n",
              "      <td>tf.Tensor(0.005118998, shape=(), dtype=float32)</td>\n",
              "      <td>tf.Tensor(0.08143229, shape=(), dtype=float32)</td>\n",
              "      <td>tf.Tensor(0.05980947, shape=(), dtype=float32)</td>\n",
              "      <td>tf.Tensor(-0.015900271, shape=(), dtype=float32)</td>\n",
              "      <td>tf.Tensor(-0.07901734, shape=(), dtype=float32)</td>\n",
              "      <td>tf.Tensor(-0.0037484418, shape=(), dtype=float32)</td>\n",
              "      <td>tf.Tensor(0.010160994, shape=(), dtype=float32)</td>\n",
              "      <td>tf.Tensor(0.056379918, shape=(), dtype=float32)</td>\n",
              "      <td>tf.Tensor(0.046243943, shape=(), dtype=float32)</td>\n",
              "      <td>tf.Tensor(0.03683301, shape=(), dtype=float32)</td>\n",
              "      <td>tf.Tensor(0.043400675, shape=(), dtype=float32)</td>\n",
              "      <td>tf.Tensor(0.029980626, shape=(), dtype=float32)</td>\n",
              "      <td>tf.Tensor(0.04429571, shape=(), dtype=float32)</td>\n",
              "      <td>tf.Tensor(-0.049121648, shape=(), dtype=float32)</td>\n",
              "      <td>tf.Tensor(-0.014635437, shape=(), dtype=float32)</td>\n",
              "      <td>tf.Tensor(-0.06076515, shape=(), dtype=float32)</td>\n",
              "      <td>tf.Tensor(-0.019886373, shape=(), dtype=float32)</td>\n",
              "    </tr>\n",
              "    <tr>\n",
              "      <th>1883</th>\n",
              "      <td>tf.Tensor(0.04887815, shape=(), dtype=float32)</td>\n",
              "      <td>tf.Tensor(0.06451866, shape=(), dtype=float32)</td>\n",
              "      <td>tf.Tensor(-0.050047986, shape=(), dtype=float32)</td>\n",
              "      <td>tf.Tensor(-0.0012899656, shape=(), dtype=float32)</td>\n",
              "      <td>tf.Tensor(-0.06300217, shape=(), dtype=float32)</td>\n",
              "      <td>tf.Tensor(0.057502303, shape=(), dtype=float32)</td>\n",
              "      <td>tf.Tensor(-0.027448688, shape=(), dtype=float32)</td>\n",
              "      <td>tf.Tensor(0.054325677, shape=(), dtype=float32)</td>\n",
              "      <td>tf.Tensor(-0.02434079, shape=(), dtype=float32)</td>\n",
              "      <td>tf.Tensor(0.028363256, shape=(), dtype=float32)</td>\n",
              "      <td>tf.Tensor(0.06776299, shape=(), dtype=float32)</td>\n",
              "      <td>tf.Tensor(-0.053912014, shape=(), dtype=float32)</td>\n",
              "      <td>tf.Tensor(-0.08321682, shape=(), dtype=float32)</td>\n",
              "      <td>tf.Tensor(-0.0038377906, shape=(), dtype=float32)</td>\n",
              "      <td>tf.Tensor(0.041134685, shape=(), dtype=float32)</td>\n",
              "      <td>tf.Tensor(-0.080666475, shape=(), dtype=float32)</td>\n",
              "      <td>tf.Tensor(-0.087244436, shape=(), dtype=float32)</td>\n",
              "      <td>tf.Tensor(-0.046377603, shape=(), dtype=float32)</td>\n",
              "      <td>tf.Tensor(0.0711205, shape=(), dtype=float32)</td>\n",
              "      <td>tf.Tensor(-0.026446443, shape=(), dtype=float32)</td>\n",
              "      <td>tf.Tensor(-0.055051867, shape=(), dtype=float32)</td>\n",
              "      <td>tf.Tensor(0.017624907, shape=(), dtype=float32)</td>\n",
              "      <td>tf.Tensor(-0.023381872, shape=(), dtype=float32)</td>\n",
              "      <td>tf.Tensor(-0.008257195, shape=(), dtype=float32)</td>\n",
              "      <td>tf.Tensor(0.010251937, shape=(), dtype=float32)</td>\n",
              "      <td>tf.Tensor(0.016668422, shape=(), dtype=float32)</td>\n",
              "      <td>tf.Tensor(-0.049256764, shape=(), dtype=float32)</td>\n",
              "      <td>tf.Tensor(0.024101218, shape=(), dtype=float32)</td>\n",
              "      <td>tf.Tensor(0.021244535, shape=(), dtype=float32)</td>\n",
              "      <td>tf.Tensor(0.051578876, shape=(), dtype=float32)</td>\n",
              "      <td>tf.Tensor(-0.021184549, shape=(), dtype=float32)</td>\n",
              "      <td>tf.Tensor(0.083652146, shape=(), dtype=float32)</td>\n",
              "      <td>tf.Tensor(-0.009511975, shape=(), dtype=float32)</td>\n",
              "      <td>tf.Tensor(-0.031101648, shape=(), dtype=float32)</td>\n",
              "      <td>tf.Tensor(-0.02935543, shape=(), dtype=float32)</td>\n",
              "      <td>tf.Tensor(0.06617831, shape=(), dtype=float32)</td>\n",
              "      <td>tf.Tensor(-0.033040255, shape=(), dtype=float32)</td>\n",
              "      <td>tf.Tensor(-0.042485043, shape=(), dtype=float32)</td>\n",
              "      <td>tf.Tensor(0.017905464, shape=(), dtype=float32)</td>\n",
              "      <td>tf.Tensor(0.02430084, shape=(), dtype=float32)</td>\n",
              "      <td>...</td>\n",
              "      <td>tf.Tensor(-0.07131781, shape=(), dtype=float32)</td>\n",
              "      <td>tf.Tensor(0.06184617, shape=(), dtype=float32)</td>\n",
              "      <td>tf.Tensor(-0.015274006, shape=(), dtype=float32)</td>\n",
              "      <td>tf.Tensor(-0.04922671, shape=(), dtype=float32)</td>\n",
              "      <td>tf.Tensor(0.06713989, shape=(), dtype=float32)</td>\n",
              "      <td>tf.Tensor(-0.0027011437, shape=(), dtype=float32)</td>\n",
              "      <td>tf.Tensor(0.052906893, shape=(), dtype=float32)</td>\n",
              "      <td>tf.Tensor(-0.053418584, shape=(), dtype=float32)</td>\n",
              "      <td>tf.Tensor(0.011508092, shape=(), dtype=float32)</td>\n",
              "      <td>tf.Tensor(-0.014970013, shape=(), dtype=float32)</td>\n",
              "      <td>tf.Tensor(-0.050221574, shape=(), dtype=float32)</td>\n",
              "      <td>tf.Tensor(0.025327709, shape=(), dtype=float32)</td>\n",
              "      <td>tf.Tensor(-0.04227587, shape=(), dtype=float32)</td>\n",
              "      <td>tf.Tensor(-0.03961608, shape=(), dtype=float32)</td>\n",
              "      <td>tf.Tensor(-0.0048670894, shape=(), dtype=float32)</td>\n",
              "      <td>tf.Tensor(0.05319623, shape=(), dtype=float32)</td>\n",
              "      <td>tf.Tensor(-0.033135913, shape=(), dtype=float32)</td>\n",
              "      <td>tf.Tensor(-0.018196769, shape=(), dtype=float32)</td>\n",
              "      <td>tf.Tensor(-0.069039755, shape=(), dtype=float32)</td>\n",
              "      <td>tf.Tensor(0.034358762, shape=(), dtype=float32)</td>\n",
              "      <td>tf.Tensor(0.084492065, shape=(), dtype=float32)</td>\n",
              "      <td>tf.Tensor(0.027778491, shape=(), dtype=float32)</td>\n",
              "      <td>tf.Tensor(-0.05126979, shape=(), dtype=float32)</td>\n",
              "      <td>tf.Tensor(-0.0010292255, shape=(), dtype=float32)</td>\n",
              "      <td>tf.Tensor(-0.025826374, shape=(), dtype=float32)</td>\n",
              "      <td>tf.Tensor(0.029808339, shape=(), dtype=float32)</td>\n",
              "      <td>tf.Tensor(-0.080874346, shape=(), dtype=float32)</td>\n",
              "      <td>tf.Tensor(-0.043177392, shape=(), dtype=float32)</td>\n",
              "      <td>tf.Tensor(-0.07696004, shape=(), dtype=float32)</td>\n",
              "      <td>tf.Tensor(-0.0004405693, shape=(), dtype=float32)</td>\n",
              "      <td>tf.Tensor(-0.07055473, shape=(), dtype=float32)</td>\n",
              "      <td>tf.Tensor(-0.01128529, shape=(), dtype=float32)</td>\n",
              "      <td>tf.Tensor(-0.06544363, shape=(), dtype=float32)</td>\n",
              "      <td>tf.Tensor(-0.05607471, shape=(), dtype=float32)</td>\n",
              "      <td>tf.Tensor(0.07493267, shape=(), dtype=float32)</td>\n",
              "      <td>tf.Tensor(-0.010249498, shape=(), dtype=float32)</td>\n",
              "      <td>tf.Tensor(0.08136601, shape=(), dtype=float32)</td>\n",
              "      <td>tf.Tensor(0.012361307, shape=(), dtype=float32)</td>\n",
              "      <td>tf.Tensor(0.013894115, shape=(), dtype=float32)</td>\n",
              "      <td>tf.Tensor(0.0068878643, shape=(), dtype=float32)</td>\n",
              "    </tr>\n",
              "    <tr>\n",
              "      <th>1884</th>\n",
              "      <td>tf.Tensor(-0.04891145, shape=(), dtype=float32)</td>\n",
              "      <td>tf.Tensor(-0.07606211, shape=(), dtype=float32)</td>\n",
              "      <td>tf.Tensor(-0.018259792, shape=(), dtype=float32)</td>\n",
              "      <td>tf.Tensor(0.058280014, shape=(), dtype=float32)</td>\n",
              "      <td>tf.Tensor(0.0008387597, shape=(), dtype=float32)</td>\n",
              "      <td>tf.Tensor(0.016664896, shape=(), dtype=float32)</td>\n",
              "      <td>tf.Tensor(0.060260374, shape=(), dtype=float32)</td>\n",
              "      <td>tf.Tensor(0.024800202, shape=(), dtype=float32)</td>\n",
              "      <td>tf.Tensor(-0.048076592, shape=(), dtype=float32)</td>\n",
              "      <td>tf.Tensor(-0.04960598, shape=(), dtype=float32)</td>\n",
              "      <td>tf.Tensor(0.037466146, shape=(), dtype=float32)</td>\n",
              "      <td>tf.Tensor(0.012839281, shape=(), dtype=float32)</td>\n",
              "      <td>tf.Tensor(0.008518229, shape=(), dtype=float32)</td>\n",
              "      <td>tf.Tensor(-0.045448355, shape=(), dtype=float32)</td>\n",
              "      <td>tf.Tensor(-0.0075608874, shape=(), dtype=float32)</td>\n",
              "      <td>tf.Tensor(0.021214958, shape=(), dtype=float32)</td>\n",
              "      <td>tf.Tensor(-0.0015254073, shape=(), dtype=float32)</td>\n",
              "      <td>tf.Tensor(0.061898872, shape=(), dtype=float32)</td>\n",
              "      <td>tf.Tensor(-0.052656468, shape=(), dtype=float32)</td>\n",
              "      <td>tf.Tensor(0.05372118, shape=(), dtype=float32)</td>\n",
              "      <td>tf.Tensor(-0.0041673207, shape=(), dtype=float32)</td>\n",
              "      <td>tf.Tensor(0.066588394, shape=(), dtype=float32)</td>\n",
              "      <td>tf.Tensor(-0.0030190146, shape=(), dtype=float32)</td>\n",
              "      <td>tf.Tensor(0.04419375, shape=(), dtype=float32)</td>\n",
              "      <td>tf.Tensor(0.058612954, shape=(), dtype=float32)</td>\n",
              "      <td>tf.Tensor(0.07751126, shape=(), dtype=float32)</td>\n",
              "      <td>tf.Tensor(0.014301667, shape=(), dtype=float32)</td>\n",
              "      <td>tf.Tensor(-0.0325111, shape=(), dtype=float32)</td>\n",
              "      <td>tf.Tensor(-0.051883325, shape=(), dtype=float32)</td>\n",
              "      <td>tf.Tensor(0.02368285, shape=(), dtype=float32)</td>\n",
              "      <td>tf.Tensor(0.04279853, shape=(), dtype=float32)</td>\n",
              "      <td>tf.Tensor(-0.04419462, shape=(), dtype=float32)</td>\n",
              "      <td>tf.Tensor(0.06551616, shape=(), dtype=float32)</td>\n",
              "      <td>tf.Tensor(0.0075205504, shape=(), dtype=float32)</td>\n",
              "      <td>tf.Tensor(0.012257962, shape=(), dtype=float32)</td>\n",
              "      <td>tf.Tensor(0.040719837, shape=(), dtype=float32)</td>\n",
              "      <td>tf.Tensor(-0.06543696, shape=(), dtype=float32)</td>\n",
              "      <td>tf.Tensor(-0.032867014, shape=(), dtype=float32)</td>\n",
              "      <td>tf.Tensor(-0.018833362, shape=(), dtype=float32)</td>\n",
              "      <td>tf.Tensor(0.04456583, shape=(), dtype=float32)</td>\n",
              "      <td>...</td>\n",
              "      <td>tf.Tensor(-0.043031674, shape=(), dtype=float32)</td>\n",
              "      <td>tf.Tensor(0.016677601, shape=(), dtype=float32)</td>\n",
              "      <td>tf.Tensor(0.042787764, shape=(), dtype=float32)</td>\n",
              "      <td>tf.Tensor(-0.060335062, shape=(), dtype=float32)</td>\n",
              "      <td>tf.Tensor(0.0009756879, shape=(), dtype=float32)</td>\n",
              "      <td>tf.Tensor(-0.030936362, shape=(), dtype=float32)</td>\n",
              "      <td>tf.Tensor(0.05402368, shape=(), dtype=float32)</td>\n",
              "      <td>tf.Tensor(-0.007377003, shape=(), dtype=float32)</td>\n",
              "      <td>tf.Tensor(0.0025409115, shape=(), dtype=float32)</td>\n",
              "      <td>tf.Tensor(0.042092226, shape=(), dtype=float32)</td>\n",
              "      <td>tf.Tensor(-0.055903807, shape=(), dtype=float32)</td>\n",
              "      <td>tf.Tensor(-0.07059356, shape=(), dtype=float32)</td>\n",
              "      <td>tf.Tensor(-0.058181506, shape=(), dtype=float32)</td>\n",
              "      <td>tf.Tensor(-0.00024231529, shape=(), dtype=floa...</td>\n",
              "      <td>tf.Tensor(-0.062493213, shape=(), dtype=float32)</td>\n",
              "      <td>tf.Tensor(-0.008052042, shape=(), dtype=float32)</td>\n",
              "      <td>tf.Tensor(0.017506702, shape=(), dtype=float32)</td>\n",
              "      <td>tf.Tensor(-0.026563033, shape=(), dtype=float32)</td>\n",
              "      <td>tf.Tensor(0.041206937, shape=(), dtype=float32)</td>\n",
              "      <td>tf.Tensor(-0.00041666767, shape=(), dtype=floa...</td>\n",
              "      <td>tf.Tensor(-0.005909781, shape=(), dtype=float32)</td>\n",
              "      <td>tf.Tensor(0.03569801, shape=(), dtype=float32)</td>\n",
              "      <td>tf.Tensor(-0.039222527, shape=(), dtype=float32)</td>\n",
              "      <td>tf.Tensor(0.010130715, shape=(), dtype=float32)</td>\n",
              "      <td>tf.Tensor(0.064022586, shape=(), dtype=float32)</td>\n",
              "      <td>tf.Tensor(0.045938987, shape=(), dtype=float32)</td>\n",
              "      <td>tf.Tensor(-0.023881229, shape=(), dtype=float32)</td>\n",
              "      <td>tf.Tensor(-0.06922465, shape=(), dtype=float32)</td>\n",
              "      <td>tf.Tensor(-0.004938714, shape=(), dtype=float32)</td>\n",
              "      <td>tf.Tensor(0.037789524, shape=(), dtype=float32)</td>\n",
              "      <td>tf.Tensor(0.04394405, shape=(), dtype=float32)</td>\n",
              "      <td>tf.Tensor(-0.04145871, shape=(), dtype=float32)</td>\n",
              "      <td>tf.Tensor(0.0019706495, shape=(), dtype=float32)</td>\n",
              "      <td>tf.Tensor(0.011267358, shape=(), dtype=float32)</td>\n",
              "      <td>tf.Tensor(0.0012096197, shape=(), dtype=float32)</td>\n",
              "      <td>tf.Tensor(0.02777608, shape=(), dtype=float32)</td>\n",
              "      <td>tf.Tensor(0.017772457, shape=(), dtype=float32)</td>\n",
              "      <td>tf.Tensor(-0.020848058, shape=(), dtype=float32)</td>\n",
              "      <td>tf.Tensor(-0.065670565, shape=(), dtype=float32)</td>\n",
              "      <td>tf.Tensor(-0.0047438713, shape=(), dtype=float32)</td>\n",
              "    </tr>\n",
              "  </tbody>\n",
              "</table>\n",
              "<p>1885 rows × 512 columns</p>\n",
              "</div>"
            ],
            "text/plain": [
              "                                                    0    ...                                                511\n",
              "0       tf.Tensor(-0.03553458, shape=(), dtype=float32)  ...    tf.Tensor(0.031907298, shape=(), dtype=float32)\n",
              "1       tf.Tensor(-0.06498114, shape=(), dtype=float32)  ...  tf.Tensor(-0.0074671926, shape=(), dtype=float32)\n",
              "2       tf.Tensor(0.045437813, shape=(), dtype=float32)  ...  tf.Tensor(-0.0023234372, shape=(), dtype=float32)\n",
              "3        tf.Tensor(0.03427543, shape=(), dtype=float32)  ...   tf.Tensor(0.0005058565, shape=(), dtype=float32)\n",
              "4     tf.Tensor(-0.0076758713, shape=(), dtype=float32)  ...      tf.Tensor(0.0223399, shape=(), dtype=float32)\n",
              "...                                                 ...  ...                                                ...\n",
              "1880   tf.Tensor(-0.000887936, shape=(), dtype=float32)  ...   tf.Tensor(-0.016738933, shape=(), dtype=float32)\n",
              "1881    tf.Tensor(0.059284404, shape=(), dtype=float32)  ...   tf.Tensor(-0.021014024, shape=(), dtype=float32)\n",
              "1882     tf.Tensor(0.06662057, shape=(), dtype=float32)  ...   tf.Tensor(-0.019886373, shape=(), dtype=float32)\n",
              "1883     tf.Tensor(0.04887815, shape=(), dtype=float32)  ...   tf.Tensor(0.0068878643, shape=(), dtype=float32)\n",
              "1884    tf.Tensor(-0.04891145, shape=(), dtype=float32)  ...  tf.Tensor(-0.0047438713, shape=(), dtype=float32)\n",
              "\n",
              "[1885 rows x 512 columns]"
            ]
          },
          "metadata": {
            "tags": []
          },
          "execution_count": 17
        }
      ]
    },
    {
      "cell_type": "code",
      "metadata": {
        "id": "m52UPzDcelHF"
      },
      "source": [
        "\n",
        "from sklearn.model_selection import cross_val_score\n",
        "\n",
        "from numpy import absolute\n",
        "from numpy import mean\n",
        "from numpy import std\n"
      ],
      "execution_count": null,
      "outputs": []
    },
    {
      "cell_type": "code",
      "metadata": {
        "id": "ZU0GjHVcbxV-"
      },
      "source": [
        "from sklearn.svm import SVR\n",
        "from sklearn.multioutput import MultiOutputRegressor"
      ],
      "execution_count": null,
      "outputs": []
    },
    {
      "cell_type": "code",
      "metadata": {
        "colab": {
          "base_uri": "https://localhost:8080/"
        },
        "id": "41gPY8tCwzea",
        "outputId": "1a17eddc-2edf-4444-a1fb-93bf7ffb6085"
      },
      "source": [
        "\n",
        "\n",
        "####SVR Multi-output model with cross validation\n",
        "svr = SVR()\n",
        "###\n",
        "wrapper = MultiOutputRegressor(svr)\n",
        "n_scores1=cross_val_score(wrapper, features, trainingdata.loc[:,\"Convincingness\":\"Severity\"], scoring='neg_mean_squared_error', cv=10)\n",
        "print(n_scores1)\n",
        "n_scores = absolute(n_scores1)\n",
        "# summarize performance\n",
        "print('MAE: %.3f (%.3f)' % (mean(n_scores), std(n_scores)))\n"
      ],
      "execution_count": null,
      "outputs": [
        {
          "output_type": "stream",
          "text": [
            "/usr/local/lib/python3.7/dist-packages/sklearn/model_selection/_validation.py:536: FitFailedWarning: Estimator fit failed. The score on this train-test partition for these parameters will be set to nan. Details: \n",
            "ValueError: setting an array element with a sequence.\n",
            "\n",
            "  FitFailedWarning)\n"
          ],
          "name": "stderr"
        },
        {
          "output_type": "stream",
          "text": [
            "[        nan -0.83724243 -0.93129094 -1.16269978 -0.55405467 -0.51952862\n",
            " -0.59691374 -0.53696544 -0.54183057 -1.40598294]\n",
            "MAE: nan (nan)\n"
          ],
          "name": "stdout"
        }
      ]
    },
    {
      "cell_type": "code",
      "metadata": {
        "colab": {
          "base_uri": "https://localhost:8080/"
        },
        "id": "bDM0GY5Qtz9X",
        "outputId": "88e16556-e9c7-4c2a-e757-774f7414b563"
      },
      "source": [
        "from sklearn.tree import DecisionTreeRegressor\n",
        "\n",
        "####DT Multi-output model with cross validation\n",
        "dt = DecisionTreeRegressor()\n",
        "n_scores=cross_val_score(dt, features,trainingdata.loc[:,'Convincingness':'Severity'], cv=10,scoring='neg_mean_squared_error')\n",
        "print(n_scores)\n",
        "n_scores = absolute(n_scores)\n",
        "# summarize performance\n",
        "print('MAE: %.3f (%.3f)' % (mean(n_scores), std(n_scores)))\n"
      ],
      "execution_count": null,
      "outputs": [
        {
          "output_type": "stream",
          "text": [
            "[-2.03115814 -1.81944444 -1.8318085  -2.23346561 -1.38813566 -1.275543\n",
            " -1.65946365 -1.49914118 -1.57396941 -2.19195109]\n",
            "MAE: 1.750 (0.313)\n"
          ],
          "name": "stdout"
        }
      ]
    },
    {
      "cell_type": "code",
      "metadata": {
        "id": "5BGvIiXNC_Lp"
      },
      "source": [
        ""
      ],
      "execution_count": null,
      "outputs": []
    },
    {
      "cell_type": "code",
      "metadata": {
        "colab": {
          "base_uri": "https://localhost:8080/"
        },
        "id": "uB0QKlV1u54n",
        "outputId": "77743a1c-868a-4352-f355-8834cb96740c"
      },
      "source": [
        "from sklearn.ensemble import RandomForestRegressor\n",
        "\n",
        "rf = RandomForestRegressor()\n",
        "n_scores=cross_val_score(rf, features,trainingdata.loc[:,'Convincingness':'Severity'], cv=10,scoring='neg_mean_squared_error')\n",
        "print(n_scores)\n",
        "n_scores = absolute(n_scores)\n",
        "# summarize performance\n",
        "print('MAE: %.3f (%.3f)' % (mean(n_scores), std(n_scores)))\n"
      ],
      "execution_count": null,
      "outputs": [
        {
          "output_type": "stream",
          "text": [
            "[-0.84904421 -0.7701564  -0.86375508 -1.16349936 -0.64900431 -0.61592925\n",
            " -0.68543357 -0.74222318 -0.75898756 -1.50838428]\n",
            "MAE: 0.861 (0.261)\n"
          ],
          "name": "stdout"
        }
      ]
    },
    {
      "cell_type": "markdown",
      "metadata": {
        "id": "2z3Co0C6DTIx"
      },
      "source": [
        "**Hyper-parameter Tuning of SVR**"
      ]
    },
    {
      "cell_type": "code",
      "metadata": {
        "id": "tTiTQG_6DXeI"
      },
      "source": [
        "from sklearn.model_selection import GridSearchCV"
      ],
      "execution_count": null,
      "outputs": []
    },
    {
      "cell_type": "code",
      "metadata": {
        "colab": {
          "base_uri": "https://localhost:8080/"
        },
        "id": "2hwUsghkDb0-",
        "outputId": "9b1b53fa-9477-412c-d99b-66199590807e"
      },
      "source": [
        "from sklearn.multioutput import MultiOutputRegressor\n",
        "from sklearn.svm import SVR\n",
        "from sklearn.model_selection import GridSearchCV\n",
        "from sklearn.pipeline import Pipeline\n",
        "from sklearn.metrics import mean_squared_error\n",
        "pipe_svr = MultiOutputRegressor(SVR())\n",
        "\n",
        "# grid_param_svr = {\n",
        "#     'estimator__C': [0.1,1,10,100],\n",
        "#     'estimator__gamma': [0.1,1,10,100],\n",
        "#      'estimator__kernel': ['rbf','linear']\n",
        "# }\n",
        "\n",
        "tuned_parameters = [{'estimator__kernel': ['rbf'], 'estimator__gamma': [1e-2,1e-3, 1e-4,1e-5],\n",
        "                     'estimator__C': [1, 10, 100, 1000]},\n",
        "                    {'estimator__kernel': ['linear'], 'estimator__C': [1, 10, 100, 1000]}]\n",
        "\n",
        "from sklearn.metrics import make_scorer\n",
        "scorer = make_scorer(mean_squared_error, greater_is_better=False)\n",
        "\n",
        "gs_svr = (GridSearchCV(estimator=pipe_svr, \n",
        "                      param_grid=tuned_parameters, \n",
        "                      cv=10,\n",
        "                      scoring = scorer,\n",
        "                      n_jobs = -1))\n",
        "\n",
        "gs_svr = gs_svr.fit(features,trainingdata.loc[:,'Convincingness':'Severity'])\n",
        "gs_svr.best_estimator_ "
      ],
      "execution_count": null,
      "outputs": [
        {
          "output_type": "execute_result",
          "data": {
            "text/plain": [
              "MultiOutputRegressor(estimator=SVR(C=10, cache_size=200, coef0=0.0, degree=3,\n",
              "                                   epsilon=0.1, gamma=0.01, kernel='rbf',\n",
              "                                   max_iter=-1, shrinking=True, tol=0.001,\n",
              "                                   verbose=False),\n",
              "                     n_jobs=None)"
            ]
          },
          "metadata": {
            "tags": []
          },
          "execution_count": 21
        }
      ]
    },
    {
      "cell_type": "code",
      "metadata": {
        "colab": {
          "base_uri": "https://localhost:8080/"
        },
        "id": "ma3wSVkkG2pc",
        "outputId": "d29d8d4e-3470-4ac3-dfca-aec2e42a59dd"
      },
      "source": [
        "pipe_svr.get_params().keys()"
      ],
      "execution_count": null,
      "outputs": [
        {
          "output_type": "execute_result",
          "data": {
            "text/plain": [
              "dict_keys(['estimator__C', 'estimator__cache_size', 'estimator__coef0', 'estimator__degree', 'estimator__epsilon', 'estimator__gamma', 'estimator__kernel', 'estimator__max_iter', 'estimator__shrinking', 'estimator__tol', 'estimator__verbose', 'estimator', 'n_jobs'])"
            ]
          },
          "metadata": {
            "tags": []
          },
          "execution_count": 46
        }
      ]
    },
    {
      "cell_type": "code",
      "metadata": {
        "id": "l4RVbWG1gUE-"
      },
      "source": [
        "train_embeddings=embedding(corpus)"
      ],
      "execution_count": null,
      "outputs": []
    },
    {
      "cell_type": "code",
      "metadata": {
        "id": "v3zdj_j5iD2J",
        "colab": {
          "base_uri": "https://localhost:8080/"
        },
        "outputId": "dd8089e8-9d15-42f8-88b0-4af4f6456e1a"
      },
      "source": [
        "#### BEST TUNED MODEL\n",
        "from sklearn.svm import SVR\n",
        "\n",
        "tuned_model = MultiOutputRegressor(SVR(C=10,gamma=0.01,kernel='rbf'))\n",
        "\n",
        "tuned_model.fit(features,trainingdata.loc[:,'Convincingness':'Severity'])"
      ],
      "execution_count": null,
      "outputs": [
        {
          "output_type": "execute_result",
          "data": {
            "text/plain": [
              "MultiOutputRegressor(estimator=SVR(C=10, cache_size=200, coef0=0.0, degree=3,\n",
              "                                   epsilon=0.1, gamma=0.01, kernel='rbf',\n",
              "                                   max_iter=-1, shrinking=True, tol=0.001,\n",
              "                                   verbose=False),\n",
              "                     n_jobs=None)"
            ]
          },
          "metadata": {
            "tags": []
          },
          "execution_count": 16
        }
      ]
    },
    {
      "cell_type": "markdown",
      "metadata": {
        "id": "L8l0X_7sazY7"
      },
      "source": [
        "**Plot Regression Line**"
      ]
    },
    {
      "cell_type": "code",
      "metadata": {
        "colab": {
          "base_uri": "https://localhost:8080/"
        },
        "id": "SGc-1InteBKF",
        "outputId": "d090b688-5440-46ab-b4b6-a2040fc82779"
      },
      "source": [
        "trainingdata.index"
      ],
      "execution_count": null,
      "outputs": [
        {
          "output_type": "execute_result",
          "data": {
            "text/plain": [
              "Int64Index([   0,    1,    2,    3,    4,    5,    6,    7,    8,    9,\n",
              "            ...\n",
              "            1875, 1876, 1877, 1878, 1879, 1880, 1881, 1882, 1883, 1884],\n",
              "           dtype='int64', length=1885)"
            ]
          },
          "metadata": {
            "tags": []
          },
          "execution_count": 18
        }
      ]
    },
    {
      "cell_type": "code",
      "metadata": {
        "colab": {
          "base_uri": "https://localhost:8080/",
          "height": 295
        },
        "id": "zNkdGFuea3H9",
        "outputId": "6470b712-8a57-418f-afe3-89b9c641ad58"
      },
      "source": [
        "import matplotlib\n",
        "import numpy as np\n",
        "from sklearn.svm import SVR\n",
        "import matplotlib.pyplot as plt\n",
        "\n",
        "\n",
        "\n",
        "#Fit regression model\n",
        "Y = tuned_model.predict(features)\n",
        "# Y[0] = Y[:,0]\n",
        "# y_poly = svr_poly.fit(x,y).predict(x)\n",
        "\n",
        "#Plotting of results\n",
        "lw = 2\n",
        "\n",
        "plt.scatter(trainingdata.index, trainingdata.loc[:,'Convincingness'], color=\"darkorange\", label=\"data\")\n",
        "plt.plot(trainingdata.index, Y[:,0], color=\"navy\", lw=lw, label=\"RBF Model\")\n",
        "# plt.plot(x, y_lin, color=\"c\", lw=lw, label=\"Linear Model\")\n",
        "# plt.plot(x, y_poly, color=\"cornflowerblue\", lw=lw, label=\"Polynomial Model\")\n",
        "plt.xlabel(\"data\")\n",
        "plt.ylabel(\"target\")\n",
        "plt.title(\"Support Vector Regression\")\n",
        "plt.legend()\n",
        "plt.show()"
      ],
      "execution_count": null,
      "outputs": [
        {
          "output_type": "display_data",
          "data": {
            "image/png": "[encoded data removed]",
            "text/plain": [
              "<Figure size 432x288 with 1 Axes>"
            ]
          },
          "metadata": {
            "tags": [],
            "needs_background": "light"
          }
        }
      ]
    },
    {
      "cell_type": "markdown",
      "metadata": {
        "id": "lYREyhQKa4cL"
      },
      "source": [
        "**Regression line Ends**"
      ]
    },
    {
      "cell_type": "code",
      "metadata": {
        "id": "F4BCPxQYkPrS"
      },
      "source": [
        "def test_preprocessing(df):\n",
        "    corpus=[]\n",
        "    for i in df.index:\n",
        "        # print(i)\n",
        "        temp=df.loc[i,'body']\n",
        "        temp=str(temp).lower()\n",
        "        temp=temp.translate(temp.maketrans(dict.fromkeys(string.punctuation))) ### deletes all punctuation marks\n",
        "        for word in stop_words:   \n",
        "            temp=temp.replace(\" \"+word+\" \", \" \") ### deletes all stop words\n",
        "        temp=re.sub('[^A-Za-z0-9]+', \" \",temp) ### deletes all special characters\n",
        "\n",
        "        temp=temp.replace(\"39\",\"'\") ###\n",
        "        corpus.append(temp)\n",
        "    return corpus"
      ],
      "execution_count": null,
      "outputs": []
    },
    {
      "cell_type": "code",
      "metadata": {
        "id": "yG8sDODKlRYl"
      },
      "source": [
        "pos_data=pd.read_csv(\"Data_spy_stalk_stealth.csv\",index_col=0)"
      ],
      "execution_count": null,
      "outputs": []
    },
    {
      "cell_type": "code",
      "metadata": {
        "id": "NBpeuxGZlVW8"
      },
      "source": [
        "corpus_test1=test_preprocessing(pos_data)"
      ],
      "execution_count": null,
      "outputs": []
    },
    {
      "cell_type": "code",
      "metadata": {
        "id": "9HUcWQqtlgEL"
      },
      "source": [
        "test_embeddings=embedding(corpus_test1)"
      ],
      "execution_count": null,
      "outputs": []
    },
    {
      "cell_type": "code",
      "metadata": {
        "id": "85M0rICwlhgV"
      },
      "source": [
        "Predictions=tuned_model.predict(test_embeddings)\n",
        "# pos_data['Convincingness'],pos_data['Severity']=Predictions[;,0],Predictions[;,1]"
      ],
      "execution_count": null,
      "outputs": []
    },
    {
      "cell_type": "code",
      "metadata": {
        "id": "Iqzc_VTPxuXg"
      },
      "source": [
        "pos_data['Convincingness'],pos_data['Severity']=Predictions[:,0],Predictions[:,1]"
      ],
      "execution_count": null,
      "outputs": []
    },
    {
      "cell_type": "code",
      "metadata": {
        "id": "U0MYGn53ycPW"
      },
      "source": [
        "pos_data"
      ],
      "execution_count": null,
      "outputs": []
    },
    {
      "cell_type": "code",
      "metadata": {
        "id": "JBD71pa0yrdB"
      },
      "source": [
        "del pos_data['pred_alarmingness']\n",
        "del pos_data['pred_alarmingness2']"
      ],
      "execution_count": null,
      "outputs": []
    },
    {
      "cell_type": "code",
      "metadata": {
        "id": "oIaTNlzMx68q"
      },
      "source": [
        "from scipy.stats.mstats import gmean\n",
        "pos_data['pred_alarmingness']=gmean(pos_data[['Convincingness','Severity']],axis=1)"
      ],
      "execution_count": null,
      "outputs": []
    },
    {
      "cell_type": "code",
      "metadata": {
        "id": "8XEf7UEcly52"
      },
      "source": [
        "pos_data.to_csv(\"Data_spy_stalk_stealth.csv\")"
      ],
      "execution_count": null,
      "outputs": []
    },
    {
      "cell_type": "code",
      "metadata": {
        "id": "ozlW-4N4qFX6"
      },
      "source": [
        "import pickle"
      ],
      "execution_count": null,
      "outputs": []
    },
    {
      "cell_type": "code",
      "metadata": {
        "id": "mnLjW8Tsl15B"
      },
      "source": [
        "### Save Model\n",
        "filename = 'USE_tuned_model.sav'\n",
        "pickle.dump(tuned_model, open(filename, 'wb'))"
      ],
      "execution_count": null,
      "outputs": []
    },
    {
      "cell_type": "code",
      "metadata": {
        "id": "KsJGF7i3qIAh"
      },
      "source": [
        "filename = 'USE_tuned_model.sav'\n",
        "loaded_model = pickle.load(open(filename, 'rb'))"
      ],
      "execution_count": null,
      "outputs": []
    },
    {
      "cell_type": "markdown",
      "metadata": {
        "id": "CtH55dKjHaA9"
      },
      "source": [
        "**Test on clean cases**"
      ]
    },
    {
      "cell_type": "code",
      "metadata": {
        "id": "oa1NYubaHXc_"
      },
      "source": [
        "test=pd.read_csv(\"/content/drive/My Drive/UIA/RegressionModel/TestNegativeRandom.csv\",index_col=0)"
      ],
      "execution_count": null,
      "outputs": []
    },
    {
      "cell_type": "code",
      "metadata": {
        "colab": {
          "base_uri": "https://localhost:8080/",
          "height": 380
        },
        "id": "yeu7Y4heME3E",
        "outputId": "b94dbb1b-7fb2-4fb2-ced9-39181bd30094"
      },
      "source": [
        "test.head()"
      ],
      "execution_count": null,
      "outputs": [
        {
          "output_type": "execute_result",
          "data": {
            "text/html": [
              "<div>\n",
              "<style scoped>\n",
              "    .dataframe tbody tr th:only-of-type {\n",
              "        vertical-align: middle;\n",
              "    }\n",
              "\n",
              "    .dataframe tbody tr th {\n",
              "        vertical-align: top;\n",
              "    }\n",
              "\n",
              "    .dataframe thead th {\n",
              "        text-align: right;\n",
              "    }\n",
              "</style>\n",
              "<table border=\"1\" class=\"dataframe\">\n",
              "  <thead>\n",
              "    <tr style=\"text-align: right;\">\n",
              "      <th></th>\n",
              "      <th>recordID</th>\n",
              "      <th>reviewID</th>\n",
              "      <th>appID</th>\n",
              "      <th>timestamp</th>\n",
              "      <th>rating</th>\n",
              "      <th>name</th>\n",
              "      <th>title</th>\n",
              "      <th>body</th>\n",
              "      <th>pred_alarmingness</th>\n",
              "      <th>ner_org</th>\n",
              "    </tr>\n",
              "  </thead>\n",
              "  <tbody>\n",
              "    <tr>\n",
              "      <th>0</th>\n",
              "      <td>1</td>\n",
              "      <td>2859157422</td>\n",
              "      <td>1173434375</td>\n",
              "      <td>2018-07-07T21:28:04Z</td>\n",
              "      <td>1</td>\n",
              "      <td>Mindizzle 1985</td>\n",
              "      <td>Thumbs down</td>\n",
              "      <td>It’s doesn’t always locate the person your tra...</td>\n",
              "      <td>1.890126</td>\n",
              "      <td>[]</td>\n",
              "    </tr>\n",
              "    <tr>\n",
              "      <th>1</th>\n",
              "      <td>2</td>\n",
              "      <td>5366390210</td>\n",
              "      <td>380395093</td>\n",
              "      <td>2020-01-06T01:59:24Z</td>\n",
              "      <td>5</td>\n",
              "      <td>blalor</td>\n",
              "      <td>Still working great after all these years</td>\n",
              "      <td>This is a fairly simple app, but it works well...</td>\n",
              "      <td>1.873841</td>\n",
              "      <td>[]</td>\n",
              "    </tr>\n",
              "    <tr>\n",
              "      <th>2</th>\n",
              "      <td>3</td>\n",
              "      <td>5224084763</td>\n",
              "      <td>380395093</td>\n",
              "      <td>2019-12-02T08:42:24Z</td>\n",
              "      <td>5</td>\n",
              "      <td>thecheatah</td>\n",
              "      <td>Love the update!</td>\n",
              "      <td>Love the animated path!</td>\n",
              "      <td>1.081646</td>\n",
              "      <td>[]</td>\n",
              "    </tr>\n",
              "    <tr>\n",
              "      <th>3</th>\n",
              "      <td>4</td>\n",
              "      <td>2154992309</td>\n",
              "      <td>380395093</td>\n",
              "      <td>2018-02-01T22:11:57Z</td>\n",
              "      <td>5</td>\n",
              "      <td>Clearwave</td>\n",
              "      <td>Great App</td>\n",
              "      <td>Great App love it</td>\n",
              "      <td>1.670403</td>\n",
              "      <td>[]</td>\n",
              "    </tr>\n",
              "    <tr>\n",
              "      <th>4</th>\n",
              "      <td>5</td>\n",
              "      <td>1836278830</td>\n",
              "      <td>380395093</td>\n",
              "      <td>2017-10-09T02:40:09Z</td>\n",
              "      <td>1</td>\n",
              "      <td>Victoria06220622</td>\n",
              "      <td>Love the App. Support is NON EXISTENT!</td>\n",
              "      <td>ZERO customer service. All I needed to do was ...</td>\n",
              "      <td>1.287744</td>\n",
              "      <td>[]</td>\n",
              "    </tr>\n",
              "  </tbody>\n",
              "</table>\n",
              "</div>"
            ],
            "text/plain": [
              "   recordID    reviewID  ...  pred_alarmingness ner_org\n",
              "0         1  2859157422  ...           1.890126      []\n",
              "1         2  5366390210  ...           1.873841      []\n",
              "2         3  5224084763  ...           1.081646      []\n",
              "3         4  2154992309  ...           1.670403      []\n",
              "4         5  1836278830  ...           1.287744      []\n",
              "\n",
              "[5 rows x 10 columns]"
            ]
          },
          "metadata": {
            "tags": []
          },
          "execution_count": 48
        }
      ]
    },
    {
      "cell_type": "code",
      "metadata": {
        "id": "mN0NrZdaMGXJ"
      },
      "source": [
        "negative_test=test_preprocessing(test)"
      ],
      "execution_count": null,
      "outputs": []
    },
    {
      "cell_type": "code",
      "metadata": {
        "id": "p2LgYNGmMUpi"
      },
      "source": [
        "negative_test_embeddings=embedding(negative_test)"
      ],
      "execution_count": null,
      "outputs": []
    },
    {
      "cell_type": "code",
      "metadata": {
        "id": "r9W5whBpMm3d"
      },
      "source": [
        "NegativePred=tuned_model.predict(negative_test_embeddings)\n",
        "test['Convincingness'],test['Severity']=NegativePred[:,0],NegativePred[:,1]"
      ],
      "execution_count": null,
      "outputs": []
    },
    {
      "cell_type": "code",
      "metadata": {
        "id": "jblGFhH32f4t"
      },
      "source": [
        "from scipy.stats.mstats import gmean\n",
        "test['pred_alarmingness2']=gmean(test[['Convincingness','Severity']],axis=1)"
      ],
      "execution_count": null,
      "outputs": []
    },
    {
      "cell_type": "code",
      "metadata": {
        "id": "hQzMuerHMyJQ"
      },
      "source": [
        "test.to_csv(\"/content/drive/My Drive/UIA/RegressionModel/TestNegativeRandom.csv\")"
      ],
      "execution_count": null,
      "outputs": []
    },
    {
      "cell_type": "markdown",
      "metadata": {
        "id": "B2KxwcJ75Ta4"
      },
      "source": [
        "**Testing on GovtSpy**"
      ]
    },
    {
      "cell_type": "code",
      "metadata": {
        "id": "3TUPdo_85Suw"
      },
      "source": [
        "govt=pd.read_csv(\"/content/drive/My Drive/UIA/GovtSpy.csv\",index_col=0)"
      ],
      "execution_count": null,
      "outputs": []
    },
    {
      "cell_type": "code",
      "metadata": {
        "id": "iYp04ekk5fRu"
      },
      "source": [
        "govt_test=test_preprocessing(govt)"
      ],
      "execution_count": null,
      "outputs": []
    },
    {
      "cell_type": "code",
      "metadata": {
        "id": "vPBmtzJU5fLv"
      },
      "source": [
        "govt_test_embeddings=embedding(govt_test)"
      ],
      "execution_count": null,
      "outputs": []
    },
    {
      "cell_type": "code",
      "metadata": {
        "id": "XmhJ_F3z5fGH"
      },
      "source": [
        "GovtPred=tuned_model.predict(govt_test_embeddings)\n",
        "govt['Convincingness'],govt['Severity']=GovtPred[:,0],GovtPred[:,1]"
      ],
      "execution_count": null,
      "outputs": []
    },
    {
      "cell_type": "code",
      "metadata": {
        "colab": {
          "base_uri": "https://localhost:8080/"
        },
        "id": "8GJKbl2u57TS",
        "outputId": "cc328373-9ee2-404c-94ee-6c070be763df"
      },
      "source": [
        "govt.columns"
      ],
      "execution_count": null,
      "outputs": [
        {
          "output_type": "execute_result",
          "data": {
            "text/plain": [
              "Index(['recordID', 'reviewID', 'appID', 'timestamp', 'rating', 'name', 'title',\n",
              "       'body', 'Convincingness', 'Severity', 'Alarmingness'],\n",
              "      dtype='object')"
            ]
          },
          "metadata": {
            "tags": []
          },
          "execution_count": 65
        }
      ]
    },
    {
      "cell_type": "code",
      "metadata": {
        "id": "glLShPq_5fBO"
      },
      "source": [
        "from scipy.stats.mstats import gmean\n",
        "govt['pred_alarmingness2']=gmean(govt[['Convincingness','Severity']],axis=1)"
      ],
      "execution_count": null,
      "outputs": []
    },
    {
      "cell_type": "code",
      "metadata": {
        "id": "vLQl_iZF5e9t"
      },
      "source": [
        "govt.to_csv(\"/content/drive/My Drive/UIA/GovtSpy.csv\")"
      ],
      "execution_count": null,
      "outputs": []
    },
    {
      "cell_type": "markdown",
      "metadata": {
        "id": "LlExrcYCSCK9"
      },
      "source": [
        "**Training with Reviews Indicating Govt Spy**"
      ]
    },
    {
      "cell_type": "code",
      "metadata": {
        "id": "Ow3MR9nkNfS4"
      },
      "source": [
        "govt=pd.read_csv(\"/content/drive/My Drive/UIA/GovtSpy.csv\",index_col=0)"
      ],
      "execution_count": null,
      "outputs": []
    },
    {
      "cell_type": "code",
      "metadata": {
        "id": "PETcVSckS1jS"
      },
      "source": [
        "df_training=pd.concat([trainingdata,govt[['body', 'Convincingness', 'Severity', 'Alarmingness']]],axis=0)"
      ],
      "execution_count": null,
      "outputs": []
    },
    {
      "cell_type": "code",
      "metadata": {
        "id": "WdGYKBTlTktc"
      },
      "source": [
        "df_training.drop_duplicates(keep='last',inplace=True)"
      ],
      "execution_count": null,
      "outputs": []
    },
    {
      "cell_type": "code",
      "metadata": {
        "colab": {
          "base_uri": "https://localhost:8080/"
        },
        "id": "67zaKj_UUI67",
        "outputId": "11562ceb-6b35-482a-e7ab-5ba376911a4e"
      },
      "source": [
        "ls"
      ],
      "execution_count": null,
      "outputs": [
        {
          "output_type": "stream",
          "text": [
            "CombinedBatches.csv            TestNegativeRandom.csv\n",
            "Data_spy_stalk_stealth.csv     TestNegativeRandom.gsheet\n",
            "Data_spy_stalk_stealth.gsheet  Training766.csv\n",
            "KeywordSelection.ipynb         Training766.gsheet\n",
            "PositiveToBeAnnotated.csv      TrainingData1885.csv\n",
            "PositiveToBeAnnotated.gsheet   TrainingData1885.gsheet\n",
            "PredictAlarmingness.ipynb      USE_model.sav\n"
          ],
          "name": "stdout"
        }
      ]
    },
    {
      "cell_type": "code",
      "metadata": {
        "id": "96RwUFGyUHgN"
      },
      "source": [
        "df_training.to_csv(\"TrainingData1980.csv\")"
      ],
      "execution_count": null,
      "outputs": []
    },
    {
      "cell_type": "code",
      "metadata": {
        "id": "ECCoSXEMTyN_"
      },
      "source": [
        "df_training_corpus=preprocessing(df_training)"
      ],
      "execution_count": null,
      "outputs": []
    },
    {
      "cell_type": "code",
      "metadata": {
        "id": "TdC_wYOSUQ6-"
      },
      "source": [
        "df_train_embeddings=embedding(df_training_corpus)"
      ],
      "execution_count": null,
      "outputs": []
    },
    {
      "cell_type": "code",
      "metadata": {
        "id": "rhk1ybCTUpwS"
      },
      "source": [
        "from sklearn.svm import SVR\n",
        "regr2=SVR()"
      ],
      "execution_count": null,
      "outputs": []
    },
    {
      "cell_type": "code",
      "metadata": {
        "colab": {
          "base_uri": "https://localhost:8080/"
        },
        "id": "cwPgtfBCVUlH",
        "outputId": "661084a2-c4af-4422-a0e9-e47f8ea59dbd"
      },
      "source": [
        "regr2.fit(df_train_embeddings,df_training['Alarmingness'])"
      ],
      "execution_count": null,
      "outputs": [
        {
          "output_type": "execute_result",
          "data": {
            "text/plain": [
              "SVR(C=1.0, cache_size=200, coef0=0.0, degree=3, epsilon=0.1, gamma='scale',\n",
              "    kernel='rbf', max_iter=-1, shrinking=True, tol=0.001, verbose=False)"
            ]
          },
          "metadata": {
            "tags": []
          },
          "execution_count": 34
        }
      ]
    },
    {
      "cell_type": "code",
      "metadata": {
        "id": "GZC32DzBUeA4"
      },
      "source": [
        "pos_data['pred_alarmingness2']=regr2.predict(test_embeddings)"
      ],
      "execution_count": null,
      "outputs": []
    },
    {
      "cell_type": "code",
      "metadata": {
        "id": "DUT21bzrVugO"
      },
      "source": [
        "pos_data.to_csv(\"Data_spy_stalk_stealth.csv\")"
      ],
      "execution_count": null,
      "outputs": []
    },
    {
      "cell_type": "code",
      "metadata": {
        "id": "QmDA_y2tWDFk"
      },
      "source": [
        "df_training_corpus"
      ],
      "execution_count": null,
      "outputs": []
    },
    {
      "cell_type": "code",
      "metadata": {
        "id": "9loQUwBYZJtB"
      },
      "source": [
        ""
      ],
      "execution_count": null,
      "outputs": []
    }
  ]
}